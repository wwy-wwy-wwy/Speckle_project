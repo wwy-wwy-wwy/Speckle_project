{
 "cells": [
  {
   "cell_type": "code",
   "execution_count": 2,
   "id": "8bfc1d7c",
   "metadata": {},
   "outputs": [],
   "source": [
    "import math"
   ]
  },
  {
   "cell_type": "code",
   "execution_count": 3,
   "id": "691cf04f",
   "metadata": {},
   "outputs": [],
   "source": [
    "def calculate_viscosity(n,a,r):\n",
    "    angle=173\n",
    "    lambda_0=633 #nm\n",
    "    q=4*math.pi*n/lambda_0*math.sin(math.radians(angle/2))*10**(9)\n",
    "    D=a/(-q**2)/2\n",
    "    print(\"Diffusion coefficient is \"+ str(D)+\" m^2/s\")\n",
    "    kb=1.380649*10**(-23) # J*K^(-1)\n",
    "    T=298.15 # K\n",
    "    eta=kb*T/(6*math.pi*D*r)\n",
    "    print(\"viscosity is \"+str(eta)+\" Pa*s\")"
   ]
  },
  {
   "cell_type": "markdown",
   "id": "43b89a35",
   "metadata": {},
   "source": [
    "# 0707"
   ]
  },
  {
   "cell_type": "markdown",
   "id": "eba45e0d",
   "metadata": {},
   "source": [
    "## 100 nm 0.05% in glycerol"
   ]
  },
  {
   "cell_type": "code",
   "execution_count": 109,
   "id": "7f334d34",
   "metadata": {},
   "outputs": [
    {
     "name": "stdout",
     "output_type": "stream",
     "text": [
      "Diffusion coefficient is 1.0339463529702587e-14 m^2/s\n",
      "viscosity is 0.4224243682802445 Pa*s\n"
     ]
    }
   ],
   "source": [
    "n=1.47\n",
    "a=-17.545\n",
    "r=50*10**(-9) # m\n",
    "calculate_viscosity(n,a,r)"
   ]
  },
  {
   "cell_type": "markdown",
   "id": "2bbdec15",
   "metadata": {},
   "source": [
    "## 50 nm 0.05% in glycerol"
   ]
  },
  {
   "cell_type": "code",
   "execution_count": 110,
   "id": "c1870846",
   "metadata": {},
   "outputs": [
    {
     "name": "stdout",
     "output_type": "stream",
     "text": [
      "Diffusion coefficient is 1.6859601716800304e-14 m^2/s\n",
      "viscosity is 0.5181191612063958 Pa*s\n"
     ]
    }
   ],
   "source": [
    "n=1.47\n",
    "a=-28.609\n",
    "r=25*10**(-9) # m\n",
    "calculate_viscosity(n,a,r)"
   ]
  },
  {
   "cell_type": "markdown",
   "id": "ad757798",
   "metadata": {},
   "source": [
    "# 0711"
   ]
  },
  {
   "cell_type": "markdown",
   "id": "7db45ab1",
   "metadata": {},
   "source": [
    "## 100 nm 0.05% in water"
   ]
  },
  {
   "cell_type": "code",
   "execution_count": 7,
   "id": "f6d49e0a",
   "metadata": {},
   "outputs": [
    {
     "name": "stdout",
     "output_type": "stream",
     "text": [
      "Diffusion coefficient is 4.748070519706112e-12 m^2/s\n",
      "viscosity is 0.0009198771020278746 Pa*s\n"
     ]
    }
   ],
   "source": [
    "n=1.33\n",
    "a=-6595.4\n",
    "r=50*10**(-9) # m\n",
    "calculate_viscosity(n,a,r)"
   ]
  },
  {
   "cell_type": "markdown",
   "id": "e82b46a0",
   "metadata": {},
   "source": [
    "## 50 nm 0.05% in water"
   ]
  },
  {
   "cell_type": "code",
   "execution_count": 112,
   "id": "060589fa",
   "metadata": {},
   "outputs": [
    {
     "name": "stdout",
     "output_type": "stream",
     "text": [
      "Diffusion coefficient is 8.54888822838798e-12 m^2/s\n",
      "viscosity is 0.0010218033580993082 Pa*s\n"
     ]
    }
   ],
   "source": [
    "n=1.33\n",
    "a=-11875\n",
    "r=25*10**(-9) # m\n",
    "calculate_viscosity(n,a,r)"
   ]
  },
  {
   "cell_type": "markdown",
   "id": "f0ba3dc5",
   "metadata": {},
   "source": [
    "# 0712"
   ]
  },
  {
   "cell_type": "markdown",
   "id": "76525687",
   "metadata": {},
   "source": [
    "## 100 nm 0.05% in glycerol"
   ]
  },
  {
   "cell_type": "code",
   "execution_count": 14,
   "id": "1a5f40d2",
   "metadata": {},
   "outputs": [
    {
     "name": "stdout",
     "output_type": "stream",
     "text": [
      "Diffusion coefficient is 8.433631380653959e-15 m^2/s\n",
      "viscosity is 0.5178838335180554 Pa*s\n"
     ]
    }
   ],
   "source": [
    "n=1.47\n",
    "a=-14.311\n",
    "r=50*10**(-9) # m\n",
    "calculate_viscosity(n,a,r)"
   ]
  },
  {
   "cell_type": "markdown",
   "id": "1e561979",
   "metadata": {},
   "source": [
    "## 50 nm 0.05% in glycerol"
   ]
  },
  {
   "cell_type": "code",
   "execution_count": 114,
   "id": "33c36b79",
   "metadata": {},
   "outputs": [
    {
     "name": "stdout",
     "output_type": "stream",
     "text": [
      "Diffusion coefficient is 1.3330806754368892e-14 m^2/s\n",
      "viscosity is 0.6552703719090127 Pa*s\n"
     ]
    }
   ],
   "source": [
    "n=1.47\n",
    "a=-22.621\n",
    "r=25*10**(-9) # m\n",
    "calculate_viscosity(n,a,r)"
   ]
  },
  {
   "cell_type": "markdown",
   "id": "4295f810",
   "metadata": {},
   "source": [
    "## 100 nm 0.27% in glycerol"
   ]
  },
  {
   "cell_type": "code",
   "execution_count": 115,
   "id": "d70fec3c",
   "metadata": {},
   "outputs": [
    {
     "name": "stdout",
     "output_type": "stream",
     "text": [
      "Diffusion coefficient is 2.8201483454768723e-14 m^2/s\n",
      "viscosity is 0.15487275188542243 Pa*s\n"
     ]
    }
   ],
   "source": [
    "n=1.47\n",
    "a=-47.855\n",
    "r=50*10**(-9) # m\n",
    "calculate_viscosity(n,a,r)"
   ]
  },
  {
   "cell_type": "markdown",
   "id": "d9c32d4b",
   "metadata": {},
   "source": [
    "## 50 nm 0.27% in glycerol"
   ]
  },
  {
   "cell_type": "code",
   "execution_count": 116,
   "id": "22ca54f4",
   "metadata": {},
   "outputs": [
    {
     "name": "stdout",
     "output_type": "stream",
     "text": [
      "Diffusion coefficient is 4.687027029759849e-14 m^2/s\n",
      "viscosity is 0.18637150253921317 Pa*s\n"
     ]
    }
   ],
   "source": [
    "n=1.47\n",
    "a=-79.534\n",
    "r=25*10**(-9) # m\n",
    "calculate_viscosity(n,a,r)"
   ]
  },
  {
   "cell_type": "markdown",
   "id": "e30ee75e-3eef-40cc-a4c3-4f843fb420df",
   "metadata": {},
   "source": [
    "# 0718"
   ]
  },
  {
   "cell_type": "markdown",
   "id": "540ee6a8-0d00-4c20-9b21-44d190db23b6",
   "metadata": {},
   "source": [
    "## 100 nm 0.05% in glycerol"
   ]
  },
  {
   "cell_type": "code",
   "execution_count": 6,
   "id": "5df86ffc-d627-48ce-b81f-d79b88b62f11",
   "metadata": {},
   "outputs": [
    {
     "name": "stdout",
     "output_type": "stream",
     "text": [
      "Diffusion coefficient is 8.395326158115877e-15 m^2/s\n",
      "viscosity is 0.5202467739349212 Pa*s\n"
     ]
    }
   ],
   "source": [
    "n=1.47\n",
    "a=-14.246\n",
    "r=50*10**(-9) # m\n",
    "calculate_viscosity(n,a,r)"
   ]
  },
  {
   "cell_type": "markdown",
   "id": "5648f79b-5e00-4a15-81e7-3c6c79613375",
   "metadata": {},
   "source": [
    "# 100 nm 0.005% in glycerol (wrong sample?)"
   ]
  },
  {
   "cell_type": "code",
   "execution_count": 5,
   "id": "c7b714a5-c6a6-46a1-b014-aaea17860550",
   "metadata": {},
   "outputs": [
    {
     "name": "stdout",
     "output_type": "stream",
     "text": [
      "Diffusion coefficient is 7.086466169545375e-15 m^2/s\n",
      "viscosity is 0.6163355959648141 Pa*s\n"
     ]
    }
   ],
   "source": [
    "n=1.47\n",
    "a=-12.025\n",
    "r=50*10**(-9) # m\n",
    "calculate_viscosity(n,a,r)"
   ]
  },
  {
   "cell_type": "code",
   "execution_count": null,
   "id": "2d62382d-8f87-4f18-9d26-93afa4a32771",
   "metadata": {},
   "outputs": [],
   "source": []
  }
 ],
 "metadata": {
  "kernelspec": {
   "display_name": "Python 3 (ipykernel)",
   "language": "python",
   "name": "python3"
  },
  "language_info": {
   "codemirror_mode": {
    "name": "ipython",
    "version": 3
   },
   "file_extension": ".py",
   "mimetype": "text/x-python",
   "name": "python",
   "nbconvert_exporter": "python",
   "pygments_lexer": "ipython3",
   "version": "3.8.13"
  }
 },
 "nbformat": 4,
 "nbformat_minor": 5
}
