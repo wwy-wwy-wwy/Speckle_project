{
 "cells": [
  {
   "cell_type": "code",
   "execution_count": 5,
   "id": "8b97b73a-c020-480c-96ab-117222794d39",
   "metadata": {},
   "outputs": [],
   "source": [
    "from PIL import Image\n",
    "import matplotlib.pyplot as plt\n",
    "import numpy as np\n",
    "import numpy as np\n",
    "from ellipse import LsqEllipse\n",
    "import matplotlib.pyplot as plt\n",
    "from matplotlib.patches import Ellipse\n",
    "from skimage import io\n",
    "import matplotlib.pyplot as plt\n",
    "import math\n",
    "import pickle\n",
    "import statistics\n",
    "from statistics import mean\n",
    "from scipy.fft import fft, fftfreq\n",
    "from scipy.signal import find_peaks\n",
    "\n",
    "from numpy import arange\n",
    "from pandas import read_csv\n",
    "from scipy.optimize import curve_fit\n",
    "from matplotlib import pyplot\n",
    "import pickle"
   ]
  },
  {
   "cell_type": "code",
   "execution_count": 6,
   "id": "1e1728a2-de9a-4f7b-9fb1-02c472ea5d86",
   "metadata": {},
   "outputs": [],
   "source": [
    "import sys\n",
    "import sys\n",
    "sys.path.append('../')\n",
    "from inference.read_in_data import *\n",
    "from inference.correlation_heatmap import *\n",
    "from inference.calculating_tau import *\n",
    "from inference.dedrift import *"
   ]
  },
  {
<<<<<<< Updated upstream
||||||| constructed merge base
   "cell_type": "code",
   "execution_count": 3,
   "id": "57cb420e-c89c-4ba0-b883-8009b7fbd60e",
   "metadata": {},
   "outputs": [],
   "source": [
    "def compute_g2t_wo_kernel(px,laglist_g2t,normalize=True):\n",
    "    intensity=[]\n",
    "    for t in range(0,img.shape[0],1):\n",
    "        intensity.append(img[t][px[0],px[1]])\n",
    "        \n",
    "    g2t=np.zeros(len(laglist_g2t))\n",
    "    for lag in laglist_g2t:\n",
    "        numerator=[]\n",
    "        denumerator1=[]\n",
    "        denumerator2=[]\n",
    "        max_t_range=len(intensity)-lag\n",
    "        for t in range(0,max_t_range,1):\n",
    "            numerator.append(int(intensity[t])*int(intensity[t+lag]))\n",
    "            denumerator1.append(intensity[t])\n",
    "            denumerator2.append(intensity[t+lag])\n",
    "        g2t[lag]=(np.array(numerator).mean()/np.array(denumerator1).mean()/np.array(denumerator2).mean())-1\n",
    "        #g2t[lag]=g2t[lag]/g2t[0]\n",
    "    if normalize:\n",
    "        first=g2t[0]\n",
    "        for lag in laglist_g2t:\n",
    "            g2t[lag]=g2t[lag]/first\n",
    "    return g2t"
   ]
  },
  {
=======
   "cell_type": "code",
   "execution_count": 7,
   "id": "57cb420e-c89c-4ba0-b883-8009b7fbd60e",
   "metadata": {},
   "outputs": [],
   "source": [
    "def compute_g2t_wo_kernel(px,laglist_g2t,normalize=True):\n",
    "    intensity=[]\n",
    "    for t in range(0,img.shape[0],1):\n",
    "        intensity.append(img[t][px[0],px[1]])\n",
    "        \n",
    "    g2t=np.zeros(len(laglist_g2t))\n",
    "    for lag in laglist_g2t:\n",
    "        numerator=[]\n",
    "        denumerator1=[]\n",
    "        denumerator2=[]\n",
    "        max_t_range=len(intensity)-lag\n",
    "        for t in range(0,max_t_range,1):\n",
    "            numerator.append(int(intensity[t])*int(intensity[t+lag]))\n",
    "            denumerator1.append(intensity[t])\n",
    "            denumerator2.append(intensity[t+lag])\n",
    "        g2t[lag]=(np.array(numerator).mean()/np.array(denumerator1).mean()/np.array(denumerator2).mean())-1\n",
    "        #g2t[lag]=g2t[lag]/g2t[0]\n",
    "    if normalize:\n",
    "        first=g2t[0]\n",
    "        for lag in laglist_g2t:\n",
    "            g2t[lag]=g2t[lag]/first\n",
    "    return g2t"
   ]
  },
  {
>>>>>>> Stashed changes
   "cell_type": "markdown",
   "id": "42c92e33-bcc3-48a7-89c0-48f279d07066",
   "metadata": {},
   "source": [
    "# Viscosity of 0.05% glycerol (4 uL glycerol + 196 uL)"
   ]
  },
  {
   "cell_type": "markdown",
   "id": "4b387e04-5108-4345-be8d-8a809556b339",
   "metadata": {},
   "source": [
    "viscosity from Rheometer data: 0.588 Pa*S"
   ]
  },
  {
   "cell_type": "code",
   "execution_count": 3,
   "id": "ea7aad32-9c9b-4076-9aa4-f2e2d4de8e76",
   "metadata": {},
   "outputs": [
    {
     "name": "stdout",
     "output_type": "stream",
     "text": [
      "7.16222663053723e-15\n"
     ]
    }
   ],
   "source": [
    "#expected D\n",
    "kb=1.380649*10**(-23) # J*K^(-1)\n",
    "T=300 # K\n",
    "eta=0.59 # Pa*S\n",
    "r=52*10**(-9) # m\n",
    "D=kb*T/(6*math.pi*eta*r) #m^2/s\n",
    "print(D) #m^2/s"
   ]
  },
  {
   "cell_type": "code",
   "execution_count": 4,
   "id": "f0079e92-467a-431b-b8a0-e20900c2b516",
   "metadata": {},
   "outputs": [
    {
     "name": "stdout",
     "output_type": "stream",
     "text": [
      "6.5010980184876395e-15\n"
     ]
    }
   ],
   "source": [
    "#expected D\n",
    "kb=1.380649*10**(-23) # J*K^(-1)\n",
    "T=300 # K\n",
    "eta=0.65 # Pa*S\n",
    "r=52*10**(-9) # m\n",
    "D=kb*T/(6*math.pi*eta*r) #m^2/s\n",
    "print(D) #m^2/s"
   ]
  },
  {
   "cell_type": "markdown",
   "id": "89187e80-b3d0-43ae-bc16-1a9b3fb47527",
   "metadata": {},
   "source": [
    "viscosity measured using DLS is 0.6498021636129446 Pa*s"
   ]
  },
  {
   "cell_type": "markdown",
   "id": "ebf9d850-9789-4099-959d-b2918fb6e9c0",
   "metadata": {},
   "source": [
    "# 0.05% 100nm in diameter PS beads in glycerol (10x Objective)"
   ]
  },
  {
   "cell_type": "markdown",
   "id": "7e47168b-be65-4d1d-89dd-3445e0e11f0f",
   "metadata": {},
   "source": [
    "## 2d scan"
   ]
  },
  {
   "cell_type": "code",
<<<<<<< Updated upstream
   "execution_count": 5,
||||||| constructed merge base
   "execution_count": 227,
=======
   "execution_count": 8,
>>>>>>> Stashed changes
   "id": "ed0b60c9-bb89-4e39-93fa-015869546219",
   "metadata": {},
   "outputs": [],
   "source": [
    "video_time_length=30 #s\n",
    "imgname='0p05ps_beads_inglycerol_405laser_10xobj_0p52au_30s_2avg'\n",
    "foldername='/Volumes/WENYUN WANG/20221129/0p05_PSbeads_in_glycerol/'"
   ]
  },
  {
   "cell_type": "code",
<<<<<<< Updated upstream
   "execution_count": 6,
||||||| constructed merge base
   "execution_count": 228,
=======
   "execution_count": 9,
>>>>>>> Stashed changes
   "id": "35533082-4751-4b7c-8c9c-182be9644dfa",
   "metadata": {},
   "outputs": [],
   "source": [
    "# read the image stack\n",
    "img = io.imread(foldername+imgname+'.tif')\n",
    "frame_number=img.shape[0]\n",
    "img_height=img.shape[1]\n",
    "img_width=img.shape[2]\n",
    "framespeed=video_time_length/frame_number"
   ]
  },
  {
   "cell_type": "code",
<<<<<<< Updated upstream
   "execution_count": 7,
   "id": "fe9e2e0d-4e59-408f-90bd-3963d6a1ddb9",
   "metadata": {},
   "outputs": [
    {
     "data": {
      "text/plain": [
       "5122"
      ]
     },
     "execution_count": 7,
     "metadata": {},
     "output_type": "execute_result"
    }
   ],
   "source": [
    "frame_number"
   ]
  },
  {
   "cell_type": "code",
   "execution_count": 8,
||||||| constructed merge base
   "execution_count": 229,
=======
   "execution_count": 10,
>>>>>>> Stashed changes
   "id": "36b7400b-0dca-4c75-83cd-87d6052a668f",
   "metadata": {},
   "outputs": [
    {
     "name": "stdout",
     "output_type": "stream",
     "text": [
      "0.005857087075361187\n"
     ]
    }
   ],
   "source": [
    "print(framespeed)"
   ]
  },
  {
   "cell_type": "code",
<<<<<<< Updated upstream
   "execution_count": 9,
   "id": "8637160e-5303-4473-bf86-ecb5fa6a17a2",
||||||| constructed merge base
   "execution_count": 8,
   "id": "ab5fdff4-623a-47e9-854e-402c2ba27029",
=======
   "execution_count": 20,
   "id": "ab5fdff4-623a-47e9-854e-402c2ba27029",
>>>>>>> Stashed changes
   "metadata": {},
   "outputs": [
    {
     "data": {
      "text/plain": [
       "20"
      ]
     },
     "execution_count": 9,
     "metadata": {},
     "output_type": "execute_result"
    }
   ],
   "source": [
    "img_height"
   ]
  },
  {
<<<<<<< Updated upstream
   "cell_type": "markdown",
   "id": "c9b1a221-c1d5-4daf-8429-d9850e1dca63",
||||||| constructed merge base
   "cell_type": "code",
   "execution_count": 9,
   "id": "81084bad-5054-47eb-9fca-c248f12ba2e8",
=======
   "cell_type": "code",
   "execution_count": 21,
   "id": "81084bad-5054-47eb-9fca-c248f12ba2e8",
>>>>>>> Stashed changes
   "metadata": {},
   "source": [
    "### Temporal Autocorrelation"
   ]
  },
  {
   "cell_type": "code",
<<<<<<< Updated upstream
   "execution_count": 112,
   "id": "57cb420e-c89c-4ba0-b883-8009b7fbd60e",
||||||| constructed merge base
   "execution_count": 87,
   "id": "896e3b50-329c-4e3b-b07a-c9bcf1f3ef6b",
=======
   "execution_count": 11,
   "id": "896e3b50-329c-4e3b-b07a-c9bcf1f3ef6b",
>>>>>>> Stashed changes
   "metadata": {},
   "outputs": [],
   "source": [
    "def compute_g2t_wo_kernel(px,laglist_g2t,normalize=True):\n",
    "    intensity=[]\n",
    "    for t in range(0,img.shape[0],1):\n",
    "        intensity.append(img[t][px[0],px[1]])\n",
    "        \n",
    "    g2t=np.zeros(len(laglist_g2t))\n",
    "    for lag in laglist_g2t:\n",
    "        numerator=[]\n",
    "        denumerator1=[]\n",
    "        denumerator2=[]\n",
    "        max_t_range=5000 #len(intensity)-lag\n",
    "        for t in range(0,max_t_range,1):\n",
    "            numerator.append(int(intensity[t])*int(intensity[t+lag]))\n",
    "            denumerator1.append(intensity[t])\n",
    "            denumerator2.append(intensity[t+lag])\n",
    "        g2t[lag]=(np.array(numerator).mean()/np.array(denumerator1).mean()/np.array(denumerator2).mean())-1\n",
    "        #g2t[lag]=g2t[lag]/g2t[0]\n",
    "    if normalize:\n",
    "        first=g2t[0]\n",
    "        for lag in laglist_g2t:\n",
    "            g2t[lag]=g2t[lag]/first\n",
    "    return g2t"
   ]
  },
  {
   "cell_type": "code",
<<<<<<< Updated upstream
   "execution_count": 113,
   "id": "92a53239-06a0-4de7-9501-706ddfec4780",
||||||| constructed merge base
   "execution_count": 88,
   "id": "c1f07416-2399-406c-b7ea-b52fc3fa20e4",
=======
   "execution_count": 16,
   "id": "c1f07416-2399-406c-b7ea-b52fc3fa20e4",
>>>>>>> Stashed changes
   "metadata": {},
   "outputs": [
    {
     "data": {
<<<<<<< Updated upstream
      "image/png": "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\n",
||||||| constructed merge base
      "image/png": "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\n",
=======
      "image/png": "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\n",
>>>>>>> Stashed changes
      "text/plain": [
       "<Figure size 576x360 with 1 Axes>"
      ]
     },
     "metadata": {
      "needs_background": "light"
     },
     "output_type": "display_data"
    }
   ],
   "source": [
    "laglist_g2t=range(0,100,1)\n",
    "px=[10,300]\n",
    "g2t=compute_g2t_wo_kernel(px,laglist_g2t)\n",
    "lagtime_g2t= [element * framespeed for element in laglist_g2t]\n",
    "plt.figure(figsize=(8,5))\n",
<<<<<<< Updated upstream
    "plt.plot(lagtime_g2t,g2t,'.')\n",
||||||| constructed merge base
    "plt.plot(lagtime_g2t[0:100],average_g2t[0:100],'.')\n",
=======
    "plt.plot(lagtime_g2t[0:100],average_g2t[0:100],'k.')\n",
>>>>>>> Stashed changes
    "plt.legend(['g2t vs laglist'], fontsize=18)\n",
    "plt.xlabel(\"Lagtime\",fontsize=18)\n",
    "plt.ylabel(\"g2(t)\",fontsize=18)\n",
    "plt.tick_params(direction='in')\n"
   ]
  },
  {
   "cell_type": "code",
<<<<<<< Updated upstream
   "execution_count": 114,
   "id": "d9a86310-6912-4193-a299-81bb0310a542",
||||||| constructed merge base
   "execution_count": 89,
   "id": "14b2cb97-0a93-44cc-a643-ee53e7b2b055",
=======
   "execution_count": 20,
   "id": "14b2cb97-0a93-44cc-a643-ee53e7b2b055",
>>>>>>> Stashed changes
   "metadata": {},
   "outputs": [
    {
     "name": "stdout",
     "output_type": "stream",
     "text": [
<<<<<<< Updated upstream
      "tau is: 0.038316731772886733\n",
      "y = -26.09826 * x + -0.63049\n"
||||||| constructed merge base
      "tau is: 0.04409295560983067\n",
      "y = -22.67936 * x + -0.57633\n"
=======
      "tau is: 0.046615067632052164\n",
      "y = -21.45229 * x + -0.61389\n"
>>>>>>> Stashed changes
     ]
    },
    {
     "data": {
<<<<<<< Updated upstream
      "image/png": "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\n",
||||||| constructed merge base
      "image/png": "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\n",
=======
      "image/png": "iVBORw0KGgoAAAANSUhEUgAAAXoAAAD4CAYAAADiry33AAAAOXRFWHRTb2Z0d2FyZQBNYXRwbG90bGliIHZlcnNpb24zLjUuMSwgaHR0cHM6Ly9tYXRwbG90bGliLm9yZy/YYfK9AAAACXBIWXMAAAsTAAALEwEAmpwYAAAiD0lEQVR4nO3deZgU1b3G8e9vhgGGRRaVAAOIGMSIIsuIGpC4sURUUPSCisk1uUGNPImamIgaICqK4WowC8lFozGCAjE4EpFFkQQlKo4CASREwIVFI4qgAsp27h9nBpqhe6Z7eqmu7vfzPPMwvdD1q67pt0+dOnXKnHOIiEjuKgi6ABERSS8FvYhIjlPQi4jkOAW9iEiOU9CLiOS4OkEXEOmoo45y7du3D7oMEZFQef311z9yzh0d6/GsCvr27dtTXl4edBkiIqFiZu9W97i6bkREcpyCXkQkxynoRURynIJeRCTHKehFRHJc2kfdmNkA4AGgEHjIOTc+1csoW7qJCfPWsHnbLlo3Lebm/p0Y3K0k1YsREQmltAa9mRUCvwX6AhuB18xslnPuzVQto2zpJkbNXMGuPfsA2LRtF6NmrgBQ2IuIkP6um57AWufceufcbmAaMCiVC5gwb82BkK+0a88+Jsxbk8rFiIiEVrqDvgTYEHF7Y8V9B5jZCDMrN7PyLVu2JLyAzdt2JXS/iEi+SXfQW5T7DrnSiXNusnOu1DlXevTRMc/gjalJcVHU++sX6TiziAikP+g3Am0jbrcBNqdyAVbxVdLis485fss7B+7ftWc/t5etSOWiRERCKd1B/xrQ0cyONbO6wDBgVioXsG3nHgAmzHmAGY/fQtfNB/vmp7zyHlc++HIqFyciEjppDXrn3F5gJDAPWA3McM6tSuUyWjctBuC2ft9nW/3GTJ12G19/Z9mBxxev26qwF5G8lvaObOfcs865451zxznnxqX69W/u3wmAjU1bctmV97KhyVd45Mmx9Pv3wXBfvG6runFEJG+F/ojl4G4lNKxbCMCWRs0ZesV43mxxHDcsfpzC/QeHXaobR0TyVeiDHmDcxSdTUHFQdntxY64cdhffvuwO9hUUYm7/geepG0dE8lFOBP3gbiXc/19dqRxRubNuMVsaNaNw/z4mlY1n5D+mgfOjOtWNIyL5JieCHnzYv3X3QOrVOXSVdtatz49fnMJtC/9wIOzVjSMi+SRngr7SvUO6HOjG2VdQyI/Pv4FHelzI914r4945v6Kgot9+8bqtdLp9DmVLNwVYrYhI+mXVNWNToXIis5v/vIw9+8FZAT8/dwSf1mvID/8xDWfGLd/8AQBf7t3PDdOXUf7uVu4afHKQZYuIpI0552p+VoaUlpa6VF4cvNPtc/hy78GDsVeXP82yVp1YWnLCYc9tWLeQcRefrBkvRSR0zOx151xprMdzrusmUmQ3DsAjpYMOhPwlKxdwxBefH3hsx+593DB9mfruRSTn5HTQVx2NU6nttg+4Z+6veeKJWzlqxyeHPLZ43Vba3zKbzqPnqv9eRHJCTnfdRLrywZdZvG7rgdt91r/O78vu5oNGRzJ82F1sPqJFja9hwJWnt1N/vohklZq6bvIm6AFuL1vBlFfeO3C7+8bV/PHJsXxWtwFXDb2T9Ue2qfVrq49fRIKioK+iath/7cP1/GnGaO4562pmnnRu0q9fr04B9w7pEjXw/WUP/8muPQcPEDesW0jXtk34x7qtpGJLFBhccZr2Oqpu58i9saCuMaxrG0u6KOijqBq4jb/cwWf1GgLQ8Mud7KjXIOllDI/o4qkaOplSGfqlxzTPq4Cp2k0Xr3TulVX3N5Cu5d5etoKpr7wXswERZKMg7F96sRptVbdjTdugqtr+LSjoq1G2dNOB8fbgu3IemnknN17wI/7eoUfSr1+vTgFNi+vwn892J/1aqTY8R441VA2MBnULeOvDHSl7/WYNihhzYeeEP3hlSzcxdtYqtu3aE/f/aVi3kJ2796Uk+BL5sut1XHOmfu+Mw+6PFmaQ3vckDMfB4mm41S00du+rXbYWFhj3XXZKQu+vgj4OlYF/xGfb+NOM0XT86D1uvOBHzP7amRmvJZMmDu2asS6LyA94bYOiqtq23GsjkS/GVOzBJRN4ZUs3ccP0ZUktPx6J1JjoexLryyeWeFvYycrUe1vStJjFt5wT9/MV9AkoW7qJ+6a/yn1Tf0bpxtWMGjCS6af0D6yedDPgl2kK+3hab9Udz6hJJkO+UmSL++wTjuYvr288JFiSacXFo9CMy09rGzNYE+0mSJWavgRr+8U3/HTf7Vj17yiyoVB1rzyW2oR+1fezYd1C9u53h5yEmS4GvD1+YPzPV9DXws6dMGQIzJ0L8+dTdtSJUXdhc0GBwf3/VXPYR/ujj/XB8R++5ezZn/jfVjytxEy1qrJVxxYNee6msw65L4gvvkrVhVK6jk8VFRpDT22b8GtXfinFOlhfekzzrPisq0WfKbt3w4MPwnXXQUHs88qC/IClSnFRAavv/OaB21VD3SBmK7FBUQE7Kz4UlS2tn/91FZ/sjL9vOprqdt273TE/6dcPu2w42B8pWjdguuuq7u+yOgVANjfZ1EcflPfeg4cegrFjo4Z+vLuPkYoKOOz5yYyCSHa3vXKYZzZ9aUULj9q05msbCNmsshVdtnQTN05fFvj6NS0uYtmYfgdu5/teV21p1E2Q/vd/4eabYfhwePhhKCqK+rR4WjCJHmSqjaD6alMtWnjcNGMZifQIRb7f0Yb0ARndVY/sIki0cVBVswZFCe3ZTBzaFSDh9zBekXsZ2us6XDpHuinoU8E5uOceuO02uOgimD4d6teP+fRogR/0mbPZsHtfG5Gt+qqzkVYn0fe7NsMhExHrQ56p7RK5/Nqsa4OKCaN21vDNVPllEk9rPrKm9rfMjruWbFPZ9Rntfc3UuQoK+lSaNAmuvx7OPhuefhoaNw66ooSEMewrD0rFcywklcNFU9X1kMgXTqxx68lKZUuypkBuUFRAs4b12LRtV8znRBvt1Wv8C9X+n0QUGqRx8NMh4h3MkG4K+lSbOhV+9SuYPx+aNAm6moSd+LM5NbbK0iWR1l6kyAO+sVTt5kmFZII32T24VOxhlKThjNNkAzlWMKbqWEPVPZd0HicIei89koI+Hfbtg8JC2LULtm+Hli2DrihuZUs3cdP0ZRkfdRAZxOkYqZSpk7+iSffp/LUJwUSH5yVSSzJDZ6s7byMVx5beqTLMM9ljBZXDOJ9Z/n7KT/hLJQV9Og0bBkuWwPPPQ4cOQVcTt3R1EcQS7QN+e9kKnnh1A/uco9CMOoVW6xNRcmU6h+ok2oed6Ak3iahtSzmeva5Yf5tFBRbXl0vVoK+p1qJCo/2RDaJOm5FNLfaa5PUVptLuppt8i753b1i1Kuhq4ja4Wwmr7/zmgQNssTQtLqJp8cERRs0aFDH89HYUFVo1/+twV57e7rAPy12DT2bdPefzzviBrLvnfHbXMuR7Hdc850Me/FmxiWjdtDhNlfi/n8puuERsj7sbyg67NbRn2xrfg8i/1UqDu5XQ67jmUZ9fr04BEy49heduOouJQ7tS0rQYw+8NTRzalVV3DAhFyMcj5y4OnlE9e8KiRdC3L/TpA3Pm+PtCol5RYcy+bwPGXhR997TqbJjtjyyutismniBu3bQ44b7fTAxVzRb7EtjzLi4qPDB0NF0Gdyuh/N2tCXW1xPPlM2HeGnbt2XfIfQ5Y+K8tXH5a7DNhiwqMsRd1jvrY1O+dcdgeZNWpJAZ3K8mZUI9GQZ+szp3hpZfgvPN8V86aNTHH2WebbdX0XTqI+Ycf7UOR7PC4m/t3Sqg7oGlxUd6EPPhWZjxfhJnsP75r8MlR56KJJt4vn1jruGnbrgPBXPXLJZ51vmvwyXmx5xeLum5SoUMHH/ZPPRWakIfqW1glCe76R9ttru7+qgZ3K6FZg/jfu1itt1xVU0g2a1DExKFdWTq6X8ZbpjUdW2nWoIh7LomvrztW90zl/aXHNKd+UeEhj32Rg3NQpZqCPlVat4ZTTvG/jxkDU6YEW08cbu7fiaKCwz9YRYWW8K7/2Is6H/Za1e1ORzPmws4UV/kQi1fdF2FJ0+JAAh6id7VEMiOhPYxYXVSV90db3q49+5gwb02cFecnBX2q7d4NL74IV10Fv/1t0NVUa3C3EiZcdsphB1wnXJrYhEqRrxV5QGtCghMzDe5Wwj2XnBzX3kQ+frCjfREWFRg7d+/l2Ftm02v8C5Qt3ZTRmmrqTnIORs1cEXddsbZ95f2bYywv1v3iqY8+1erWhWefhaFDYeRIPypn1CjftMlCqTwIlYrXinyN6obG5eMHu/J9qTwQ3qS4iB279x4YJ75p2y5GzVxxyHPTqWzpprgmjKtsccdT0839OzFq5opDWu2R/fuxDtqnc5RRLlCLPh3q14cnn/SToN12G9x6a9AVhVJ13RX5+sEe3K2Exbecw9vjB9KwXh32VDnXP5PdGBPmrYl7xE28X8yRe3WVe4aR/fs39+902F5NJkYZhZ1a9OlSVASPPgrNm8NJJwVdTWiNubBztS28fBZ0N0Yiy0nki7m6PcOqezVhvLB4EBT06VRQAA88cPD2yy9Djx6+e0fiog92bEF3Y8R77kNtDu5XJ9fHvKeDum4yZcMGP+vloEH+UoVSo7Klm+g1/gVurOin/+XQriy+5Rx9yCsE3Y0RbflRZc8sK3lLQZ8pbdvCb34D8+ZBv36wbVvQFWU1P+fJCjZt24Xj4IHGTI8qyWY19WdncvlQdeKCg/bsd3k5SiqbJDWpmZldBowFvgb0dM6VRzw2CvgusA/4gXNuXk2vF7pJzWrjz3+GK6/0Z9TOmwctWgRdUVaKNR1uumZllOTUNH1xOidZk/RParYSuARYVGWhJwLDgM7AAGCSmelMGIDLLoNZs/xUCY88EnQ1WSvoA42SmJq2S76OksoWSR2Mdc6tBrDDx4gPAqY5574E3jaztUBP4OVklpczBgyApUvh+OP9beeydpx9UII+0CiJqe7ArEZJBS9dffQlwIaI2xsr7juMmY0ws3IzK9+yZUuayslCnTr5cF+/Hrp3h2XLgq4oqwR9oFESE+vAbCLz3Ej61NiiN7PngWiXULrNOfd0rP8W5b6oBwOcc5OByeD76GuqJ+fs3QsffwxnnQWzZ0OvXkFXlBU0rDJctL2yW41B75w7rxavuxFoG3G7DbC5Fq+T+44/3s982bev/3nqKejfP+iqsoLGS4eLtlf2SlfXzSxgmJnVM7NjgY7AkjQtK/zatfMToXXqBBdeCAsXBl2RiOSQpILezC42s43AGcBsM5sH4JxbBcwA3gTmAtc752LPZSp+mOXChXDNNXDqqUFXIyI5RBcHz1aff+6HYV5xRdCViEiW08XBw+rXv/YnVo0e7YdfiojUkiY1y1Y/+QmsWwd33umnS5g40U+SJiKSIAV9tioshAcfhKZN4b77/AVM/vAHqKNNJiKJUWpkMzOYMAGaNfOXJfzgA2jTJuiqRCRk1BeQ7cz8VapWrvQh75ymORaRhCjow6J5c//vT3/q57XfujXYekQkNBT0YdOrl58X5xvfgPffD7oaEQkBBX3YDBoEc+bA229D797+XxGRaijow+icc2DBAvjkE//7l18GXZGIZDGNugmr006DRYv8NMf16gVdjYhkMQV9mJ10kv8BmDYNWrb00x2LiERQ100u2LsXxo/3V67661+DrkZEsoyCPhfUqeP77Lt0gYsvhscfD7oiEckiCvpcceSRPuzPPBOGD4ff/S7oikQkSyjoc0njxvDss3DBBbBhQ83PF5G8oIOxuaa4GGbO9JOigQ/8Nm38VAoikpfUos9Fder4YH//fejeHa69FvbpAl8i+UpBn8tatoQRI2DyZH8Rk927g65IRAKgrptcZgbjxkGTJn4ytE8/hSefhAYNgq5MRDJILfp88JOfwP/9H8yd64NfRPKKWvT5YsQIaN/eT4QmInlFLfp80q+f77bZvh0uvxw2bgy6IhHJAAV9Plq71o+3790b3nor6GpEJM0U9PmoRw9YuBB27PBn0i5fHnRFIpJGCvp81b07vPgiFBX5GS9ffTXoikQkTRT0+eyEE+Cll3zot2oVdDUikiYK+nx3zDF+MrR27WD/fnjllaArEpEUU9DLQRMn+ouPP/JI0JWISAop6OWga66B886D73zHh76I5AQFvRzUsCHMmgVDhsCNN8KYMeBc0FWJSJIU9HKoevX89Wevvhp+8Qs/5l5EQk1BL4erUwceegheew06dvT3qWUvEloKeomuoABOOsn//vDDcOml8MUXwdYkIrWioJea7dzpr1p1wQXw+edBVyMiCVLQS81GjoRHH4W//Q369oWtW4OuSEQSoKCX+HzrW/6iJW+84adM2LUr6IpEJE5JBb2ZTTCzf5nZP83sKTNrGvHYKDNba2ZrzKx/0pVK8AYP9rNeDh/uL0IuIqGQbIv+OeAk51wX4N/AKAAzOxEYBnQGBgCTzKwwyWVJNjj3XH/FKoAlS2D16mDrEZEaJRX0zrn5zrm9FTdfAdpU/D4ImOac+9I59zawFuiZzLIky+zb58fan3kmlJcHXY2IVCOVffTfAeZU/F4CbIh4bGPFfYcxsxFmVm5m5Vu2bElhOZJWhYXw9NPQqBGccw78/e9BVyQiMdQY9Gb2vJmtjPIzKOI5twF7gamVd0V5qahn3DjnJjvnSp1zpUcffXRt1kGC8tWvwuLF0KYNDBgAs2cHXZGIRFHjxcGdc+dV97iZfRu4ADjXuQOnT24E2kY8rQ2wubZFShYrKYFFi3zQ/+lPMHBg0BWJSBU1Bn11zGwA8FPgG865nREPzQIeN7P7gdZAR2BJMsuSLHbUUfDCC1C3rr/9xRdQv36wNYnIAcn20f8GaAw8Z2bLzOz3AM65VcAM4E1gLnC9c25fksuSbHbEET7cP/kETj0Vxo8PuiIRqZBUi94599VqHhsHjEvm9SWEGjWCLl1g1CjYtg3uuQcs2iEbEcmUpIJe5DBFRfDYY76Ff++9sH07/OY3fpSOiARCQS+pV1AAkyZBs2a+Rd+sGdx9d9BVieQtBb2kh5kP93bt4KKLgq5GJK9pUjNJr2uvhdatYe9euOMO+PTToCsSyTsKesmM116DO+/0Z9F+9FHQ1YjkFQW9ZMYZZ0BZGaxaBX36wMaNQVckkjcU9JI5AwfCvHk+5Hv31oXHRTJEQS+Z1acPLFzof1cXjkhGaNSNZF6PHvDvfx+cMuH996FVq2BrEslhatFLMCpD/rHHoGNHeP75YOsRyWEKeglW377QoYPvv3/qqaCrEclJCnoJVsuW/qIlPXrApZfCo48GXZFIzlHQS/CaNYP58/0Y+6uvhjffDLoikZyig7GSHRo1gmee8cMvTzwx6GpEcopa9JI96tU7OC/OokXw05/C/v3B1iSSAxT0kp3mzYNf/AK++10/T46I1Jq6biQ73XWXH4I5dqyfCO3xx32LX0QSpha9ZCczGDMGJk6EmTPhwgth166gqxIJJbXoJbv98IfQpIm/+Lha9CK1oha9ZL///m8/vr6gADZsgA8+CLoikVBR0Es4mPkROIMHw5lnwrvvBl2RSGgo6CU8Cgr8hcY/+gh69YLVq4OuSCQUFPQSLmec4adM2LvXT3n8xhtBVySS9RT0Ej5dusCLL0LDhnDTTeBc0BWJZDWNupFw6tgRXnrJj7U382FvFnRVIllJLXoJrzZtoEUL2LMHhgyB6dODrkgkKynoJfy++AI+/hguvxwmTw66GpGso6CX8GvcGObOhW9+E665Bu69N+iKRLKKgl5yQ3Gxv0LV0KFwyy0wblzQFYlkDR2MldxRty5MnQqtW8OAAUFXI5I11KKX3FJYCPff7y9NCPDkk/5grUgeU9BL7lqyBC67DC65RDNfSl5T0Evu6tkTJk2C2bP9gdpPPw26IpFAKOglt113HUyZ4k+uOvdcP0+OSJ5R0Evuu+IKKCuDN9/0UyeI5BmNupH8cMEFsG4dtGzpb+/e7UfpiOSBpFr0Znanmf3TzJaZ2Xwzax3x2CgzW2tma8ysf/KliiSpMuQXLIBOnWDlymDrEcmQZLtuJjjnujjnugLPAKMBzOxEYBjQGRgATDKzwiSXJZIarVr5Fn2fPvDqq0FXI5J2SQW9cy5yGENDoHK+2EHANOfcl865t4G1QM9kliWSMiee6A/ONm/uD9AuWBB0RSJplfTBWDMbZ2YbgCupaNEDJcCGiKdtrLhPJDsce6w/MHvssXD++bB8edAViaRNjUFvZs+b2cooP4MAnHO3OefaAlOBkZX/LcpLRb06hJmNMLNyMyvfsmVLbddDJHGtWvmrVf3853DyyUFXI5I25lJ0dR4zOwaY7Zw7ycxGATjn7ql4bB4w1jn3cnWvUVpa6srLy1NSj0jC1q/33Tjf+17QlYgkxMxed86Vxno82VE3HSNuXgT8q+L3WcAwM6tnZscCHYElySxLJO0mToQRI+DOO3V5QskpyY6jH29mnYD9wLvAtQDOuVVmNgN4E9gLXO+c25fkskTS6/77Yft2GD0aPvkE7rtPlyeUnJBU0DvnhlTz2DhAk4JLeNSpA488Ak2bwi9/6UN/8mQ/I6ZIiOnMWJFIBQW+C6dZM5gzx8962ahR0FWJJEVz3YhUZQZjx8KiRT7kd+zwPyIhpaAXiaVePX9Q9tJLoV8/2LYt6IpEakVBL1IdM/if/4HXXoOzzoL//CfoikQSpqAXqcmQIfDMM/DWW3DmmfDee0FXJJIQBb1IPPr1g+eegw8/9F05GmcvIaJRNyLx+vrX/ZQJZhpfL6GiFr1IIk45Bbp08S360aN1xSoJBQW9SG18+inMmAH9+/vx9iJZTEEvUhtNmvhx9iecABdd5ENfJEsp6EVqq0ULWLgQTj8dhg2Dhx4KuiKRqBT0Islo0gTmzYOBA/0cOSJZSKNuRJLVoAHMmnVwJM7y5f6ArUbmSJZQi14kFSJDvrQURo6E/fuDrUmkgoJeJJW6dIEbb4RJk+Db34Y9e4KuSERdNyIpZQb33uunOb71Vj8Mc/p0qF8/6Mokj6lFL5JqZjBqFPz2t77vfsqUoCuSPKcWvUi6fP/70KMH9OwZdCWS59SiF0mn007zLfw1a+Dss2HTpqArkjykoBfJhP/8B8rL/TTH69cHXY3kGQW9SCb06QMLFvgLjvfuDStXBl2R5BEFvUim9Ozp58cBH/wKe8kQBb1IJnXuDC+95KdM6NAh6GokTyjoRTKtQwd47DE/dcL27fD880FXJDlOQS8SpJ/9DAYM0Fh7SSuNoxcJ0t13w6pVcNVVvnV//fVBVyQ5SC16kSA1agSzZ8OgQX4itLvv1oXHJeUU9CJBq18fnnzSt+p/9zvYti3oiiTHqOtGJBvUqQN//CN88IGfEG3/ft+yLywMujLJAWrRi2SLggJo3doH/A9+AJdfDrt3B12V5AAFvUi2MfNDMP/8Z993v3Nn0BVJyCnoRbLRTTf5i43Pnw/9+qnfXpKioBfJVt/9LkybBkuWwPnnazSO1JoOxopks8sug8aNYe9eXWxcak1BL5LtBgw4+Pu0adC9Oxx/fHD1SOio60YkLHbs8H33vXvD0qVBVyMhoqAXCYuGDeFvf/MnWJ19NixeHHRFEhIpCXoz+7GZOTM7KuK+UWa21szWmFn/VCxHJO8df7yf5vgrX4G+fWHu3KArkhBIOujNrC3QF3gv4r4TgWFAZ2AAMMnMdIqfSCq0awcvvgidOsHrrwddjYRAKg7G/hL4CfB0xH2DgGnOuS+Bt81sLdATeDkFyxORFi18101xsb/98cdw5JHB1iRZK6kWvZldBGxyzi2v8lAJsCHi9saK+6K9xggzKzez8i1btiRTjkh+adDAD7l86y3fpXP//UFXJFmqxha9mT0PtIzy0G3ArUC/aP8tyn1Rz/Zwzk0GJgOUlpbqjBCRRB1zDJx7LvzoR/DJJ3DHHRpzL4eoMeidc+dFu9/MTgaOBZab/6NqA7xhZj3xLfi2EU9vA2xOuloROVzduvDEE3DEEXDXXX66hAce8JOkiZBEH71zbgXQovK2mb0DlDrnPjKzWcDjZnY/0BroCCxJslYRiaWwEB58EJo2hfvu8wdqR44MuirJEmk5M9Y5t8rMZgBvAnuB651z+9KxLBGpYAYTJkDXrnDppUFXI1kkZft2zrn2zrmPIm6Pc84d55zr5Jybk6rliEg1zGD4cH9S1dat8P3vw2efBV2VBEydeCK56uWXYfJkOO88H/qStxT0Irlq4ED4y19g2TLo0wc2azxEvlLQi+SyQYNgzhx45x0480x4++2gK5IAKOhFct0558ALL0Dz5n4opuQdBb1IPujZ01+pqqTEX8RkzZqgK5IMUtCL5IvKs2XHjIHSUj/lseQFBb1Ivrn+ej8D5oAB8Ne/Bl2NZICCXiTftG4NixZBly5w8cUwZUrQFUmaKehF8tGRR8KCBX4kznXXgWaOzWm6OLhIvmrcGJ59FlauhKOPDroaSSO16EXyWXExnHpq0FVIminoRURynIJeRCTHKehFRHKcgl5EJMcp6EVEcpyCXkQkxynoRURynIJeRCTHKehFRHKcOeeCruEAM9sCvJvESxwFfFTjs8JD65PdtD7ZLZ/W5xjnXMx5LLIq6JNlZuXOudKg60gVrU920/pkN63PQeq6ERHJcQp6EZEcl2tBPznoAlJM65PdtD7ZTetTIaf66EVE5HC51qIXEZEqFPQiIjkudEFvZgPMbI2ZrTWzW6I8bmb2q4rH/2lm3YOoM15xrM9ZZrbdzJZV/IwOos54mdnDZvahma2M8XjYtk9N6xO27dPWzBaa2WozW2VmP4zynNBsozjXJzTbyMzqm9kSM1tesT4/j/KcxLePcy40P0AhsA7oANQFlgMnVnnO+cAcwIDTgVeDrjvJ9TkLeCboWhNYpz5Ad2BljMdDs33iXJ+wbZ9WQPeK3xsD/w75Zyie9QnNNqp4zxtV/F4EvAqcnuz2CVuLview1jm33jm3G5gGDKrynEHAn5z3CtDUzFplutA4xbM+oeKcWwRsreYpYdo+8axPqDjn3nfOvVHx+2fAaqCkytNCs43iXJ/QqHjPP6+4WVTxU3XETMLbJ2xBXwJsiLi9kcM3ajzPyRbx1npGxa7cHDPrnJnS0iZM2ydeodw+ZtYe6IZvNUYK5TaqZn0gRNvIzArNbBnwIfCccy7p7VMnpRWmn0W5r+q3XTzPyRbx1PoGfh6Lz83sfKAM6JjuwtIoTNsnHqHcPmbWCPgLcINz7tOqD0f5L1m9jWpYn1BtI+fcPqCrmTUFnjKzk5xzkceIEt4+YWvRbwTaRtxuA2yuxXOyRY21Ouc+rdyVc849CxSZ2VGZKzHlwrR9ahTG7WNmRfhQnOqcmxnlKaHaRjWtTxi3EYBzbhvwN2BAlYcS3j5hC/rXgI5mdqyZ1QWGAbOqPGcW8K2KI9OnA9udc+9nutA41bg+ZtbSzKzi9574bfZxxitNnTBtnxqFbftU1PoHYLVz7v4YTwvNNopnfcK0jczs6IqWPGZWDJwH/KvK0xLePqHqunHO7TWzkcA8/IiVh51zq8zs2orHfw88iz8qvRbYCVwdVL01iXN9LgWuM7O9wC5gmKs49J6NzOwJ/CiHo8xsIzAGf0ApdNsH4lqfUG0foBdwFbCioh8Y4FagHYRyG8WzPmHaRq2AR82sEP+FNMM590yyGacpEEREclzYum5ERCRBCnoRkRynoBcRyXEKehGRHKegFxHJcQp6EZEcp6AXEclx/w/PjMz4MlNd0QAAAABJRU5ErkJggg==\n",
>>>>>>> Stashed changes
      "text/plain": [
       "<Figure size 432x288 with 1 Axes>"
      ]
     },
     "metadata": {
      "needs_background": "light"
     },
     "output_type": "display_data"
    },
    {
     "name": "stdout",
     "output_type": "stream",
     "text": [
<<<<<<< Updated upstream
      "R square is 0.9942541910345823\n"
||||||| constructed merge base
      "R square is 0.9999596963993119\n"
=======
      "R square is 0.9991769922332654\n"
>>>>>>> Stashed changes
     ]
    }
   ],
   "source": [
    "lagtime_g2t= [element * framespeed for element in laglist_g2t]\n",
    "plateau=0#np.mean(average_g2t[100:200])\n",
<<<<<<< Updated upstream
    "tau, a, b=fit_exponential_decay_rsq(plateau,np.array(g2t),lagtime_g2t,1,10, True)"
||||||| constructed merge base
    "tau, a, b=fit_exponential_decay_rsq(plateau,np.array(average_g2t),lagtime_g2t,1,10, True)"
=======
    "tau, a, b=fit_exponential_decay_rsq(plateau,np.array(average_g2t),lagtime_g2t,1,20, True)"
>>>>>>> Stashed changes
   ]
  },
  {
   "cell_type": "code",
<<<<<<< Updated upstream
   "execution_count": 115,
   "id": "15d1426a-b813-4d93-9150-f63507445faa",
||||||| constructed merge base
   "execution_count": 90,
   "id": "896809a0-8ddb-4752-8083-08530f0bd712",
=======
   "execution_count": 21,
   "id": "896809a0-8ddb-4752-8083-08530f0bd712",
>>>>>>> Stashed changes
   "metadata": {},
   "outputs": [
    {
     "data": {
<<<<<<< Updated upstream
      "image/png": "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\n",
||||||| constructed merge base
      "image/png": "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\n",
=======
      "image/png": "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\n",
>>>>>>> Stashed changes
      "text/plain": [
       "<Figure size 576x360 with 1 Axes>"
      ]
     },
     "metadata": {
      "needs_background": "light"
     },
     "output_type": "display_data"
    }
   ],
   "source": [
<<<<<<< Updated upstream
    "reconstruct(lagtime_g2t[0:50],plateau,np.array(g2t[0:50]),a,b)\n",
||||||| constructed merge base
    "reconstruct(lagtime_g2t[0:60],plateau,np.array(average_g2t[0:60]),a,b)\n",
=======
    "reconstruct(lagtime_g2t[0:20],plateau,np.array(average_g2t[0:20]),a,b)\n",
>>>>>>> Stashed changes
    "#plt.ylim(0,0.1)\n",
    "#plt.xlim(0,lagtime_g2t[20])\n",
    "plt.yscale(\"log\")"
   ]
  },
  {
   "cell_type": "code",
<<<<<<< Updated upstream
   "execution_count": 116,
   "id": "667a39a4-b7d4-4eb9-abcd-cf23e8746ae4",
||||||| constructed merge base
   "execution_count": 91,
   "id": "3522782a-3f6a-4a50-ba3c-0f5010267112",
=======
   "execution_count": 22,
   "id": "3522782a-3f6a-4a50-ba3c-0f5010267112",
>>>>>>> Stashed changes
   "metadata": {},
   "outputs": [
    {
     "name": "stdout",
     "output_type": "stream",
     "text": [
<<<<<<< Updated upstream
      "6.3365245889963676e-15\n"
||||||| constructed merge base
      "5.5064331635492186e-15\n"
=======
      "5.2085071497768506e-15\n"
>>>>>>> Stashed changes
     ]
    }
   ],
   "source": [
    "n=1.47\n",
    "angle=np.arange(180-19.77,180+19.77,1)\n",
    "lamda=405 #nm\n",
    "k=2*math.pi/lamda\n",
    "q=2*k*np.sin(np.radians(angle/2))*10**(9)*n\n",
    "\n",
    "q=np.mean(q)\n",
    "D=a/(-2*q**2)\n",
    "print(D)"
   ]
  },
  {
   "cell_type": "markdown",
   "id": "8fe6f60b-eeee-4fff-856c-7411a177a1c8",
   "metadata": {},
   "source": [
    "#### average over pixels"
   ]
  },
  {
   "cell_type": "code",
   "execution_count": null,
   "id": "ab5fdff4-623a-47e9-854e-402c2ba27029",
   "metadata": {},
   "outputs": [],
   "source": [
    "laglist_g2t=range(0,100,1)\n",
    "averaged_g2t=[]\n",
    "for y in range(0,20,1):\n",
    "    for x in range(10,30,1):\n",
    "        px=[y,x]\n",
    "        g2t=compute_g2t_wo_kernel(px,laglist_g2t)\n",
    "        averaged_g2t.append(g2t)"
   ]
  },
  {
   "cell_type": "code",
   "execution_count": null,
   "id": "81084bad-5054-47eb-9fca-c248f12ba2e8",
   "metadata": {},
   "outputs": [],
   "source": [
    "average_g2t=np.mean(averaged_g2t,axis=0)\n",
    "pickle.dump(average_g2t, open(foldername+imgname+'_g2tcorrrelation_avg_temporal.p',\"wb\"))"
   ]
  },
  {
   "cell_type": "code",
   "execution_count": null,
   "id": "896e3b50-329c-4e3b-b07a-c9bcf1f3ef6b",
   "metadata": {},
   "outputs": [],
   "source": [
    "average_g2t=pickle.load(open(foldername+imgname+'_g2tcorrrelation_avg_temporal.p', \"rb\"))\n",
    "laglist_g2t=range(0,len(average_g2t),1) # assumes that the laglist is calculated is consective\n",
    "lagtime_g2t= [element * framespeed for element in laglist_g2t]"
   ]
  },
  {
   "cell_type": "code",
   "execution_count": null,
   "id": "c1f07416-2399-406c-b7ea-b52fc3fa20e4",
   "metadata": {},
   "outputs": [],
   "source": [
    "plt.figure(figsize=(8,5))\n",
    "plt.plot(lagtime_g2t[0:100],average_g2t[0:100],'.')\n",
    "plt.legend(['g2t vs laglist'], fontsize=18)\n",
    "plt.xlabel(\"Lagtime\",fontsize=18)\n",
    "plt.ylabel(\"g2(t)\",fontsize=18)\n",
    "plt.tick_params(direction='in')"
   ]
  },
  {
   "cell_type": "code",
   "execution_count": null,
   "id": "14b2cb97-0a93-44cc-a643-ee53e7b2b055",
   "metadata": {},
   "outputs": [],
   "source": [
    "lagtime_g2t= [element * framespeed for element in laglist_g2t]\n",
    "plateau=0#np.mean(average_g2t[100:200])\n",
    "tau, a, b=fit_exponential_decay_rsq(plateau,np.array(average_g2t),lagtime_g2t,1,10, True)"
   ]
  },
  {
   "cell_type": "code",
   "execution_count": null,
   "id": "896809a0-8ddb-4752-8083-08530f0bd712",
   "metadata": {},
   "outputs": [],
   "source": [
    "reconstruct(lagtime_g2t[0:60],plateau,np.array(average_g2t[0:60]),a,b)\n",
    "#plt.ylim(0,0.1)\n",
    "#plt.xlim(0,lagtime_g2t[20])\n",
    "plt.yscale(\"log\")"
   ]
  },
  {
   "cell_type": "code",
   "execution_count": null,
   "id": "3522782a-3f6a-4a50-ba3c-0f5010267112",
   "metadata": {},
   "outputs": [],
   "source": [
    "n=1.47\n",
    "angle=np.arange(180-19.77,180+19.77,1)\n",
    "lamda=405 #nm\n",
    "k=2*math.pi/lamda\n",
    "q=2*k*np.sin(np.radians(angle/2))*10**(9)*n\n",
    "\n",
    "q=np.mean(q)\n",
    "D=a/(-2*q**2)\n",
    "print(D)"
   ]
  },
  {
   "cell_type": "markdown",
   "id": "c09cb85d-bb9a-442c-a687-5bfba7d2497a",
   "metadata": {},
   "source": [
    "### TRC"
   ]
  },
  {
   "cell_type": "code",
   "execution_count": 117,
   "id": "b5c96698-8a80-40b5-b882-ab78a0bf24be",
   "metadata": {},
   "outputs": [],
   "source": [
    "# for one pixel\n",
    "\n",
    "#kernel_size is half of the total window size\n",
    "def TRC(pixel,kernel_size_y, kernel_size_x, t_interest, tau_interest,normalize=True):\n",
    "    correlation_2d=np.zeros((len(t_interest),len(tau_interest)))\n",
    "    total_tlength=len(t_interest)+len(tau_interest)\n",
    "    # get intensity data\n",
    "    intensity=np.zeros((total_tlength, 2*kernel_size_y, 2*kernel_size_x))\n",
    "    y=pixel[0]\n",
    "    x=pixel[1]\n",
    "    for yindex,i in enumerate(range(y-kernel_size_y, y+kernel_size_y)):\n",
    "        for xindex, j in enumerate(range(x-kernel_size_x, x+kernel_size_x)):\n",
    "            for t in range(total_tlength):\n",
    "                intensity[t,yindex,xindex]=img[t,i,j]\n",
    "    value=(2*kernel_size_x)*(2*kernel_size_y)\n",
    "    intensity=np.reshape(intensity,(total_tlength, value))\n",
    "    print(intensity.shape)\n",
    "    # compute correlation\n",
    "    for t in t_interest:\n",
    "        for tau in tau_interest:\n",
    "            numerator=[]\n",
    "            denum1=[]\n",
    "            denum2=[]\n",
    "            for i in range(intensity.shape[1]):\n",
    "                It=intensity[t,i]\n",
    "                Ittau=intensity[t+tau,i]\n",
    "                numerator.append(It*Ittau)\n",
    "                denum1.append(It)\n",
    "                denum2.append(Ittau)\n",
    "            correlation_2d[t,tau]=np.array(numerator).mean()/(np.array(denum1).mean()*np.array(denum2).mean())-1\n",
    "        if normalize:\n",
    "            first=correlation_2d[t,0]\n",
    "            for tau in tau_interest:\n",
    "                correlation_2d[t,tau]=correlation_2d[t,tau]/first\n",
    "    return correlation_2d"
   ]
  },
  {
   "cell_type": "code",
   "execution_count": 118,
   "id": "def8f3d7-21ea-4b35-8a36-262e6003e18f",
   "metadata": {},
   "outputs": [
    {
     "name": "stdout",
     "output_type": "stream",
     "text": [
      "(150, 5000)\n"
     ]
    }
   ],
   "source": [
    "laglist_g2t=range(0,100,1)\n",
    "t_range=range(0,50,1)\n",
    "TRC_corr=TRC([10,300],10,125,t_range,laglist_g2t)"
   ]
  },
  {
   "cell_type": "code",
   "execution_count": 119,
   "id": "aef32b59-431b-4a93-8f31-0d0bb8f2b3b9",
   "metadata": {},
   "outputs": [],
   "source": [
    "pickle.dump(TRC_corr, open(foldername+imgname+'_g2tcorrrelation_avg_TRC.p',\"wb\"))"
   ]
  },
  {
   "cell_type": "code",
   "execution_count": 120,
   "id": "ecc96160-587f-4ad5-83e0-f1a30d206cd9",
   "metadata": {},
   "outputs": [
    {
     "data": {
      "image/png": "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\n",
      "text/plain": [
       "<Figure size 432x288 with 1 Axes>"
      ]
     },
     "metadata": {
      "needs_background": "light"
     },
     "output_type": "display_data"
    }
   ],
   "source": [
    "laglist_g2t=range(0,100,1)\n",
    "lagtime_g2t= [element * framespeed for element in laglist_g2t]\n",
    "plt.plot(lagtime_g2t,TRC_corr[20,:],'.')\n",
    "plt.legend(['TRC vs laglist'], fontsize=18)\n",
    "plt.xlabel(\"Lagtime\",fontsize=18)\n",
    "plt.ylabel(\"TRC\",fontsize=18)\n",
    "plt.tick_params(direction='in')"
   ]
  },
  {
   "cell_type": "code",
   "execution_count": 121,
   "id": "893e2a50-5e78-44bb-b63c-ebd4ac273d15",
   "metadata": {},
   "outputs": [
    {
     "name": "stdout",
     "output_type": "stream",
     "text": [
      "tau is: 0.04240281255716306\n",
      "y = -23.58334 * x + -0.65808\n"
     ]
    },
    {
     "data": {
      "image/png": "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\n",
      "text/plain": [
       "<Figure size 432x288 with 1 Axes>"
      ]
     },
     "metadata": {
      "needs_background": "light"
     },
     "output_type": "display_data"
    },
    {
     "name": "stdout",
     "output_type": "stream",
     "text": [
      "R square is 0.9847101428729854\n"
     ]
    }
   ],
   "source": [
    "lagtime_g2t= [element * framespeed for element in laglist_g2t]\n",
    "plateau=0#np.mean(average_g2t[100:200])\n",
    "tau, a, b=fit_exponential_decay_rsq(plateau,np.array(TRC_corr[10,:]),lagtime_g2t,1,10, True)"
   ]
  },
  {
   "cell_type": "code",
   "execution_count": 122,
   "id": "8ad1fc94-c85b-46af-8a6a-08c49349c5f5",
   "metadata": {},
   "outputs": [
    {
     "data": {
      "image/png": "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\n",
      "text/plain": [
       "<Figure size 576x360 with 1 Axes>"
      ]
     },
     "metadata": {
      "needs_background": "light"
     },
     "output_type": "display_data"
    }
   ],
   "source": [
    "reconstruct(lagtime_g2t[:50],plateau,np.array(TRC_corr[10,:50]),a,b)\n",
    "plt.yscale(\"log\")"
   ]
  },
  {
   "cell_type": "code",
   "execution_count": 123,
   "id": "edd6d521-685f-4ae2-84f3-6d526e5eae21",
   "metadata": {},
   "outputs": [
    {
     "name": "stdout",
     "output_type": "stream",
     "text": [
      "5.725915296811134e-15\n"
     ]
    }
   ],
   "source": [
    "n=1.47\n",
    "angle=np.arange(180-19.77,180+19.77,1)\n",
    "lamda=405 #nm\n",
    "k=2*math.pi/lamda\n",
    "q=2*k*np.sin(np.radians(angle/2))*10**(9)*n\n",
    "\n",
    "q=np.mean(q)\n",
    "D=a/(-2*q**2)\n",
    "print(D)"
   ]
  },
  {
   "cell_type": "markdown",
   "id": "caeb4f84-d53f-450c-9d4a-2cf1d833470e",
   "metadata": {},
   "source": [
    "### Average over spatial and temporal"
   ]
  },
  {
   "cell_type": "code",
   "execution_count": 90,
   "id": "4ff73520-85b1-45aa-96d2-8728ab8b1eb2",
   "metadata": {},
   "outputs": [],
   "source": [
    "# for one pixel\n",
    "def spatial_temporal(pixel,kernel_size_y, kernel_size_x, t_interest, tau_interest, normalize=True):\n",
    "    correlation=np.zeros(len(tau_interest))\n",
    "    \n",
    "    total_tlength=len(t_interest)+len(tau_interest)\n",
    "    # get intensity data\n",
    "    intensity=np.zeros((total_tlength, 2*kernel_size_y, 2*kernel_size_x))\n",
    "    y=pixel[0]\n",
    "    x=pixel[1]\n",
    "    for yindex,i in enumerate(range(y-kernel_size_y, y+kernel_size_y)):\n",
    "        for xindex, j in enumerate(range(x-kernel_size_x, x+kernel_size_x)):\n",
    "            for t in range(total_tlength):\n",
    "                intensity[t,yindex,xindex]=img[t,i,j]\n",
    "    value=(2*kernel_size_x)*(2*kernel_size_y)\n",
    "    intensity=np.reshape(intensity,(total_tlength, value))\n",
    "    print(intensity.shape)\n",
    "    # compute correlation\n",
    "\n",
    "    for tau in tau_interest:\n",
    "        numerator=[]\n",
    "        denum1=[]\n",
    "        denum2=[]\n",
    "        for t in t_interest:\n",
    "            for i in range(intensity.shape[1]):\n",
    "                It=intensity[t,i]\n",
    "                Ittau=intensity[t+tau,i]\n",
    "                numerator.append(It*Ittau)\n",
    "                denum1.append(It)\n",
    "                denum2.append(Ittau)\n",
    "        correlation[tau]=np.array(numerator).mean()/(np.array(denum1).mean()*np.array(denum2).mean())-1\n",
    "    if normalize:\n",
    "        first=correlation[0]\n",
    "        for tau in tau_interest:\n",
    "            correlation[tau]=correlation[tau]/first   \n",
    "    \n",
    "\n",
    "    return correlation"
   ]
  },
  {
   "cell_type": "code",
   "execution_count": 91,
   "id": "eaeea3b0-eda2-4c27-92e8-49d21f5c6c37",
   "metadata": {},
   "outputs": [
    {
     "name": "stdout",
     "output_type": "stream",
     "text": [
      "(170, 72)\n"
     ]
    }
   ],
   "source": [
    "laglist_g2t=range(0,100,1)\n",
    "t_range=range(0,70,1)\n",
    "spatemp_corr=spatial_temporal([10,300],1,18,t_range,laglist_g2t)"
   ]
  },
  {
   "cell_type": "code",
   "execution_count": 92,
   "id": "fa5c9bbd-56d4-4daf-9407-7faef09f73af",
   "metadata": {},
   "outputs": [],
   "source": [
    "pickle.dump(spatemp_corr, open(foldername+imgname+'_g2tcorrrelation_avg_spatemp.p',\"wb\"))"
   ]
  },
  {
   "cell_type": "code",
   "execution_count": 93,
   "id": "12ca1e32-b765-4b82-921e-df3d10810f56",
   "metadata": {},
   "outputs": [
    {
     "data": {
      "image/png": "iVBORw0KGgoAAAANSUhEUgAAAYoAAAEjCAYAAAAsbUY2AAAAOXRFWHRTb2Z0d2FyZQBNYXRwbG90bGliIHZlcnNpb24zLjUuMSwgaHR0cHM6Ly9tYXRwbG90bGliLm9yZy/YYfK9AAAACXBIWXMAAAsTAAALEwEAmpwYAAA7qUlEQVR4nO3deXhU9fX48ffJQhIQJUBYirKoyKZWJSxadgVxRZRqVRa1GhWt1upPqbaKrda1tVK0QlEQFZEi4tqvgmJdUQIqoggii1IQQlhkJ8v5/XFnwp3JzGRuMpOZTM7reeYhufeTO+dmyJz57KKqGGOMMeGkJToAY4wxyc0ShTHGmIgsURhjjInIEoUxxpiILFEYY4yJyBKFMcaYiCxRGGOMiahaiUJEskSkjYg0iHVAxhhjkounRCEiJ4nIO8BO4Hugj+94CxF5W0ROi0OMxhhjEijqRCEiJwDvA0cB093nVHUzkAOMiWVwxhhjEs9LjeJPwAagGzAOkKDzbwM9YxSXMcaYJOElUfQF/qWqu4BQC0R9D/wsJlEZY4xJGl4SRTawI8L5Q2sYizHGmCTkJVF8B3SPcH4Q8HXNwjHGGJNsvCSKGcCooJFNCiAiNwNDgWdiGJsxxpgkINHuR+GbM/Em0A/4BugMfAnkAa2AecCZqloen1CNMcYkQtQ1ClU9AAwGbgH2AvuAY4AtwK3A2ZYkjDEm9URdozDGGFM/2VpPxhhjIsrw+gMiMhjoCDSj8qQ7VdU/xyIwY4wxycFLZ3Zn4CWcfongBOGnqpoeo9iMMcYkAS81iknAEcBvcdZ82haPgIwxxiQXLzWKvcD9qnp3fEMyxhiTTLx0ZhfjDIU1xhhTj3hJFDOB8+IUhzHGmCTlpekpC5gNlAITgLVAWXA5Vf0+hvEZY4xJMC+d2SXAV8D/A86NUM5GPRljTArxkigeAH4HfAZ8gI16MsaYesFL09Mm4H1VHRHfkIwxxiQTL53ZDYG34hWIMcaY5OSl6Wkhzn7ZSad58+bavn37RIdhjDF1yuLFi7eoal5V5bwkipuBt0Tkv6o6p/qhxV779u0pLCxMdBjGGFOniMi6aMp5SRR/B3YC/xaR/wFrqDw8VlX1VA/XNMYYk+S8JIojcbY+9c+TaBv7cIwxxiSbqBOFqraPYxzGGGOSlG1cZIwxJqKEJQoReUpENovIsjDnRUQmiMgqEVkqIifVdozGGGMiND2JyDs4fRKnq2qp7/uqeOnMngZMBKaHOX8Gzk56HYFewD99/xpjjKlFkfoojgTKObibnb8zOyZU9T0RaR+hyDBgujpTxxeKSBMRaa2qG2MVw+J121i4upjeRzaje7vcWF3WGGNSSthEEdx5nYDO7DbAD67v1/uOxSRRLF63jUunLORAaTkNMtJ47sreVSaLffv2UVRUxL59+ygtLY1FGMYYEzMZGRlkZ2eTl5dHdnZ27K4bsyvFXqh9uUPWaIqKisjPz6/4vqCggIKCgogXX7i6mAOl5ZQrlJSWs3B1ccREsWPHDjZt2kReXh6tWrUiIyMDkXBbhxtjTO1SVUpLS9m1axfff/89LVu25LDDDovJtaNOFCJSBoxS1Rlhzl8EzFDVWC0zvh5nj26/w4ENoQrm5eV5npnd+8hmNMhIo6S0nMyMNHof2Sxi+S1btnD44YfTsGFDT89jjDG1QUTIzMwkNzeXrKwsfvzxx9pPFIT+hO/lvFevANeLyEycTuwdseyf6N4ul+eu7B11H8WBAwfIycmJ1dMbY0zc5OTksH///phdL5ZNT21xlviIiog8DwwAmovIeuAuIBNAVZ8A3gDOBFYBe4DLYxgr4CQLL53Y1tRkjKkLYv1eFTFRiMgwnNFHfgUiclqIok2B03A2NIqKql5cxXkFrov2esYYY+KjqhrFCcBlvq8V6Od7BNsFfARcH6vAjDHGJIeIM7NV9W5VTVPVNJw+iJH+74Meh6rqEFVdVTthm/ru3XffRUSYNm1ata8hIlx22WUxi8kcNG3aNESEd999N9GhVBgwYAC1tW/N2rVrERHGjx8fcLyu/p/zsoRHB2BunOIwSWb16tUUFBTQuXNnGjZsSG5uLl27dmXMmDEsWLCgVmL4/PPPGT9+PGvXrq2V5wtn7dq1jB8/ns8//zyhcZj6a+7cuZWSTm3ysnpsVBtcmLqvsLCQ/v37k5mZyejRo+nWrRt79+5l5cqVvPrqqzRu3JiBAwfGPY7PP/+cu+++O+QnwX79+rF3714yMzPjHsfatWu5++67ad++PSeccELcn8+krr1795Ke7n0Gwdy5c3n66acTliySecKdSZC7776bPXv28Nlnn1V6Y5w4cSI//vhjYgJzSUtLi+nMUxPezp07ady4caLDSAl19f+sLTNuKvn2229p1qxZyE/PaWlp/OxnPws45m93nT9/Pr1796Zhw4a0atWKG2+8kd27dweU3bBhAzfffDMnnHACubm5ZGdn07VrVx544AHKyg5umDh+/Hguv9wZET1w4EBEJKB9N1QfRXl5Offeey/9+vWjVatWNGjQgLZt23LttddSXFxcrd/FtGnTKmpPl19+eUUcAwYMqCijqvzzn/+ke/fuNGzYsKLGFdxE5263njVrFieccAI5OTkcffTRTJ06FYDvv/+eESNG0LRpUxo3bszIkSPZuTNw1Plll12GiFBUVMTo0aNp1qwZjRo14tRTT+Wzzz6rdA+lpaU88MADdO3alezsbJo1a8bw4cP58ssvw8b3wgsv0L17d3JycvjNb34DwDfffMPYsWPp1q0bjRs3pmHDhnTv3p1//etf1frdAtx2222ICEuXLq10bseOHeTk5HDeeedVHHv99dfp378/zZs3Jycnh7Zt23L++eezcuXKaj3/p59+ymWXXcYxxxxT8dr94he/4KWXXgpZ/r///S8nn3wyOTk5Ff/Hv/rqq5D9EaGE6qOo6p4GDBjA008/XfHz/kdN+ue8shqFqeSoo45ixYoVzJkzh/PPPz+qn1myZAmzZ8/mqquuYvTo0SxYsIAJEyawbNky5s2bR1qa85lk6dKlzJkzh+HDh3PUUUdRUlLCf/7zH8aNG8fq1auZNGkSAOeffz4bN25k8uTJ3H777XTp0qUitnAOHDjAQw89xAUXXMCwYcNo1KgRixYt4sknn+SDDz5g8eLFNGjQwNPvol+/ftx+++385S9/oaCggL59+wLQsmXLijKjRo3i+eefZ8SIEVx++eXs37+f5557jsGDBzNnzhzOPffcgGu+9tprPPHEE4wdO5amTZvy5JNPcsUVV9CgQQNuv/12Bg0axF/+8hcWLVrEU089RXZ2NlOmTKkU29ChQ2natCnjx4/nxx9/ZOLEifTr14+PP/6YY489tqLcpZdeyqxZsxg8eDDXXnstP/74I4899hgnn3wy77//PieeeGLAdefOncuECRO49tprueaaazj00EMBJzm/9957nH322XTo0IHdu3fz73//m4KCArZs2cLvf/97T79bgDFjxvDggw8yffp0Hn744YBzs2bNYt++fYwZMwZw3qTPPfdcjjvuOH7/+9/TpEkTNmzYwPz581m1ahXHHHOM5+d/6aWX+Oabb7jwwgtp164dxcXFPP3005x//vk899xzXHLJJRVlP/jgA4YMGUJubi7jxo2jSZMmzJo1iw8//NDz8/pFc0933HEH5eXlvP/++zzzzDMVP3vKKadU+3k9U9U6/+jevbvG29dffx3X6xeu3aoT3/lWC9dujevzROOjjz7SzMxMBbRjx456+eWX6+OPPx72d4AzdFpfeumlgOM33HCDAvr8889XHNuzZ4+Wl5dXusbIkSM1LS1NN2zYUHFs6tSpCuiCBQsqlV+wYIECOnXq1Ipj5eXlumfPnkplp0yZooC+8MILleIeM2ZMyHuq6rn85syZo4BOmjQp4HhJSYl2795d27dvX3G/a9asUUAbNmyoa9eurSi7efNmzcrKUhHRv/71rwHXGT58uGZmZurOnTsrjo0ZM0YBHT58eMDvsrCwUEVETz/99Ipjb731lgJ64YUXBpT94osvND09Xfv06VNxzB9fRkZGyNd6165dlY6VlZVp//799dBDD9UDBw5UHI/02gXLz8/X1q1ba2lpacDxPn36aLNmzXT//v2qqnrTTTcpoJs2barymqH0799f27VrF3As1D3t3r1bjznmGO3SpUvA8R49emhWVpZ+9913FccOHDigp5xyigJ61113VRz3/y7dx1Qr/5+L9p78r7kX0bxnAYUaxXusNT0lAf9Ktn99awWXTlnI4nXbEhrPySefzOLFixkzZgw7duxg6tSpjB07lq5du9K3b19Wr15d6Wc6deoU0EQAMG7cOICAanxOTk7FrNEDBw6wdetWtmzZwumnn055ebnnNbvcRKRimZWysjK2b9/Oli1bGDRoEACffPJJta8dzrPPPkvjxo0577zz2LJlS8Vj+/btnHPOOaxdu5Zvv/024GfOO+882rVrV/F9Xl4enTp1Ii0tjeuuC5xj2rdvX0pKSkKO/Lr11lsDZuB2796dwYMHM3/+fHbt2gUc/N3fcccdAWWPP/54zj77bD744AOKiooCrnvWWWdV1ODcGjVqVPH1vn37KC4uZuvWrQwZMoSffvqJb775pqpfV0hjxoxh48aNzJs3r+LYmjVr+PDDD7n44osraoH+dYtefPHFmK3e7L6nPXv2UFxczJ49exg0aBDLly/np59+AmDTpk0sWrSIYcOGceSRR1b8TGZmJjfeeGO1nz8e9xQPliiSQKiVbBPtuOOOY9q0aWzatIm1a9fy9NNP07dvXz744AOGDRvGgQMHAsqHemNp3bo1TZo0CUgspaWl3HPPPRxzzDEV7eV5eXmMGjUKgG3bapYkZ82aRa9evcjJySE3N5e8vLyKP+yaXjuU5cuXs3PnTlq2bEleXl7Aw99mvWnTpoCfcb/R+OXm5tK6dWuysrIqHQdC9rGE+p137dqVsrIy1q1zBimuWbOGtLS0kGX9zVNr1qwJOB6uCWfXrl3ccssttG3blpycHJo3b05eXh533HEHUP3f78UXX0xmZibTpx/cw2z69OmoakWzE8D111/PiSeeWNFkd+aZZzJhwoRKic6LzZs3U1BQQMuWLWnUqFHFPT3xxBMAbN++HTj4O+rUqVOla4Q6Fq143FM8RNrhrhzvGxWpqlq/h0deV7Ktbe3atWP06NGMGjWKvn378uGHH/Lpp5/Sp0+fijLh1pZxarcH/e53v+Mf//gHF110EXfccQctWrQgMzOTJUuWcNttt1FeXl7tOOfMmcNFF11Ez549efTRRzniiCPIzs6mrKyMoUOH1uja4agqeXl5zJgRclFlgID+AiDs8MhIwyaDf4/Rlov259zCrZB8ySWX8Nprr1FQUEC/fv1o2rQpGRkZvPHGGzzyyCPV/v02a9aMs846i7lz51aMsHr22Wfp0qVLwPYBzZo1Y9GiRbz//vvMmzeP9957j5tuuom77rqLN954g5NPPtnT86oqQ4YMYfny5dxwww306NGDww47jPT0dKZOncqMGTMq7qk6v8doxPqe4iXSm/p0KieK7sCxwApgOc5s7c5AJ2AZsDgOMaY8ryvZJoqI0KtXLz788EP+97//BZz7+uuvK5XfuHEjO3bsCPgE/cwzz9CvXz9mzpwZUHbVqsqT+r0ubPbMM8+QnZ3NggULAt7sqtskEk0cHTt2ZOXKlfTu3ZtDDjmkRs/j1fLly+ndu3elY+np6RVNW0cddRRvvvkmy5cv5/jjjw8o63/NOnToUOVzbd++nddee41Ro0ZVfNr2mz9/fk1uA3Can+bOncu///1vOnXqxKpVq7j//vsrlUtPT2fAgAEVo86WLl1K9+7dueeee3j99dc9PefSpUv54osvuPPOO7n77rsDzgUPHvD/H16xYkWl64Q65kU095ToBUnDNj2p6mWqern/AczAmZ19nqp2UdXzVXW4qnYBzvedC/+xykTUvV0u1w08OimSxLx580K2l+7du5e33noLcJo43FasWMHcuXMDjj3wwAMAAX0X6enplT6d7d69m0ceeaTS8/nfeLdu3RpV3Onp6YhIwCdbVeWee+6J6ufDiRTH6NGjKS8vDzviJ7jZKZYefPDBgN/lkiVLmD9/PqeeempFzP7f/X333RdQdtmyZbzyyiv06dOHvLy8Kp/LX9sJfu02btwYckSWV2eddRbNmzdn+vTpTJ8+nbS0NEaOHBlQZsuWLZV+rnPnzuTk5ET9f8Qt3D0tW7as0vDYli1bkp+fz8svvxzQlFpSUsKjjz7q+bn9or0nr38LsealmejPwCRVfSX4hKrOFZHJwD3AvEo/aeqUm266ieLi4ophew0bNuSHH35gxowZrFy5ktGjR3PccccF/Mxxxx3HyJEjueqqq+jYsSMLFixg9uzZ9O/fn4suuqii3IgRI5g0aRIXXXQRp512Gps2beKpp56iWbPKzW09evQgLS2Ne++9l23bttGoUSM6dOhAr169QsY9YsQIXnzxRQYNGsTo0aMpKSlh7ty57Nmzp0a/j65du9K4cWMef/xxGjZsSJMmTWjRogWDBg2qGBI7ceJElixZwtlnn03z5s1Zv349H3/8MatWrQrZ+R8L69at4/TTT+fcc89l48aNTJw4kZycHB566KGKMoMHD+bCCy9k5syZbNu2jbPPPrtieGx2djYTJkyI6rkaN27MkCFDePbZZ8nJyaFHjx6sW7eOSZMm0aFDh2rPU/HLzMzk4osvZuLEiSxevJjTTjuNNm3aBJS56qqrWL9+PUOGDKFdu3bs3buXF154gZ07dzJ69GjPz9mlSxe6devGgw8+yJ49e+jUqRMrV65k0qRJHHvssSxZsiSg/MMPP8zgwYM55ZRTGDt2LIcddhizZs2q6K+rzqf+aO+pd+/eTJw4kbFjx3LWWWeRmZlJr169oqoNxkQ0Q6N8GXcPcG2E89cCu6O9XiwfqTA8Npm8+eabOnbsWD3++OO1WbNmmp6erk2bNtUBAwbok08+qWVlZQHl8Q35mzdvnvbs2VOzs7O1RYsWev311+tPP/0UUHb37t16yy23aNu2bTUrK0uPPvpove+++3T+/Pkhh6BOmzZNu3TpUjFc1z+0MNyQ1cmTJ2uXLl00KytLW7VqpVdddZUWFxeHHAob6lg4r7/+up544omalZWlgPbv3z/g/PTp07VPnz7auHFjzcrK0nbt2unw4cN15syZFWXCDZlUDT10UzX0MFP/UMnNmzfryJEjtWnTppqTk6MDBw7UwsLCStcoKSnR+++/Xzt37qwNGjTQ3NxcHTZsmC5dujSgXKT4VFWLior017/+tbZu3VqzsrL02GOP1cmTJ4eM0cvwWL/CwsKKodbPPvtspfMvvviinnPOOdqmTRtt0KCBNm/eXPv166ezZ8+O6vqhfsdr167VESNGaPPmzTUnJ0d79Oihc+bM0bvuuksBXbNmTUD5t99+W3v16qVZWVnaokULveGGG3ThwoUK6AMPPFBRLtrhsdHeU1lZmd58883apk0bTUtLCztc2y2Ww2O9JIr/AS9FOP8ysCHa68XyYYkisby84Zqaq86YehM/s2fPrjRfKBkkah7FDGCYiDwpIl1EJN336CIiTwFnA895rtIYY0wdoKrs27cv4FhJSQl/+9vfyMjICFjWJdV46aP4A3A0zpaklwH+HkP/XhWv+soYY0zK2b9/P+3atePSSy+lU6dOFBcX88ILL7B06VJuu+02WrVqlegQ48bLMuP7geEiMgRne9QjcRLEd8DLqvpWfEI0xpjEy8zM5KyzzuLll19m48aNqCqdOnXiscceY+zYsYkOL65Eg4aG1UX5+flak6UforF8+fKQs1uNMSYZRfOeJSKLVTU/YiFsCQ9jjDFV8LTchoi0Ba4GOgLNcJqe3FRVT41RbMYYY5JA1IlCRM4AXgIaADuBxEwRNMYYU6u81CjuA7bgLOER3w6BJKWqCV9zxRhjqhLrvmcvfRSdgb/X1yTRoEED9u7dm+gwjDGmSnv37q20ZH1NeEkURcCBKkulKP/6PVu3bqWkpCRuyw4bY0x1qColJSVs3bqV9evXh1w/rbq8ND09A1wARLeKWIo57LDDyMrKoqioiOLi4qTejcoYUz9lZGSQnZ1N27Ztyc7Ojt11PZSdBgwUkZeBR4E1QFlwIVX9PjahJZ/s7GyOOOKIRIdhjDG1ykui+AZnZUfBWdcpnPDbdAURkaE4SScdmKKq9wedPwx4Fmjri/VhVZ3qIWZjjDE15CVR/AnvW6OGJSLpwGPAYGA9sEhEXlFV91Zp1wFfq+o5IpIHrBCR51S13vaVGGNMbfOy1tP4GD93T2CVqq4GEJGZOGtIuROFAo3FGZN6CM7cDescMMaYWpTIJTzaAD+4vl/vO+Y2EegCbAC+BG5U1ert4G6MMaZaPC3hARVNRp2BXEIkGlV9L9pLhTgW3LR1OvA5MAg4CpgnIu+r6k/uQkVFReTnH1zXqqCggIKCgijDMMYYE4nXtZ5uA8YBh0YoFm1n9nrAPYTocJyag9vlwP2+nZhWicganCT1qbtQXl4e8V491hhj6quom55E5EqcZTw+x9mgSIC/Aw/h9B0UAld4eO5FQEcR6SAiDYBfAa8ElfkeONX3/C2BTkB8dqo3xhgTkpc+imuAhao6EJjsO/a6qo4Djgfa42ForKqWAtcDbwLLgVmq+pWIXCMi1/iK/Rk4RUS+BN4GblPVLR5iNsYYU0Nemp66cHCrU39fQgaAqm4UkcnAjcBT0V5QVd8A3gg69oTr6w3AEA8xGmOMiTEvNYoyYLfva/+/TV3n1+LsU2GMMSaFeEkU3wMdoGL/7B+Avq7zPbA9KowxJuV4aXp6DzgL+L3v+38DvxWRHJyEMxIPzU7GGGPqBi+J4lHgCxHJUdW9wF3AMcAY3/m3cIbOGmOMSSFelvBYAaxwfb8bONe3cF+Zqu6KQ3zGGGMSzPPM7GCquiMWgRhjjElOiVzryRhjTB1gicIYY0xEliiMMcZEZInCGGNMRJYojDHGRGSJwhhjTESeEoWIHCEiT4nIehE5ICKDfMfzfMd7xCdMY4wxieJlP4oOOHtOXAB8hWtJcVUtAvKBK2MdoDHGmMTyMuHuXqAcOBbYC2wOOv8GcE6M4jLGGJMkvDQ9nQY8rqo/UHlva4B1ONuZGmOMSSFeEsWhwMYI5xsQgyVBjDHGJBcvieIHoFuE872BVTULxxhjTLLxkijmAFeIyLGuYwogIhcAvwRmxTA2Y4wxScBLorgXWA98AjyLkyTGicjHOAniC+CvMY/QGGNMQkWdKFT1J+BkYArOUFgBBgOdgMeBgaq6Lx5BGmOMSRxPnc++ZHEjcKOI5OEkiyJVDTUKyhhjTAqo9igl3yQ7Y4wxKc7LzOzrRGR+hPNvicjVsQnLGGNMsvDSmX0Z8G2E8yuBK2oUjTHGmKTjJVF0BL6McP4rXxljjDEpxEuiyASyI5zPruK8McaYOshLoliJMxw2nCHAdzULxxhjTLLxkiieB4aIyJ9FpIH/oIhkisjdOIliRqwDNMYYk1heEsUjwHvAHcAGEflARN7HWSjwj8AHeJyZLSJDRWSFiKwSkXFhygwQkc9F5CsR+a+X6xtjjKk5LzOzS3BqDeNwlvI4ETgJZ7HAW4HTVPVAtNcTkXTgMeAMoCtwsYh0DSrTBGfW97mq2g1nPSljjDG1yOvM7BLgQd+jpnoCq1R1NYCIzASGAV+7ylwCzFHV733PH7xZkjHGmDjztGd2jLXBqY34rfcdczsGyBWRd0VksYiMrrXojDHGANVYwkNEWuIsCphLiESjqtOjvVSIY8FrRmUA3YFTgRzgYxFZqKor3YWKiorIz8+v+L6goICCgoIowzDGGBNJ1IlCRNJw+hSuJHJNJNpEsR44wvX94cCGEGW2qOpuYLeIvAf8HGeoboW8vDwKCwujfFpjjDFeeGl6ugW4GmeY7BicGsE44DqcpT0KiTzPItgioKOIdPANt/0V8EpQmZeBviKSISINgV7Acg/PYYwxpoa8ND2NAd5U1dEi0sx3bLGqviMizwBLcZqJ3onmYqpaKiLXA28C6cBTqvqViFzjO/+Eqi4Xkf/zXbscmKKqyzzEbIwxpoa8JIojgUm+r8t9/2YCqOpuEZmK0yz1ULQXVNU3gDeCjj0R9P1DXq5pjDEmtrw0Pe0FSnxf78LpeG7hOv8jgX0OxhhjUoCXRLEOOAoq5lOsAoa6zp8GbIpdaMYYY5KBl0TxDjDc9f0zOLOpF4jIuzizpmfFMDZjjDFJwEsfxcPAWyKSpar7gftwmp5GAmXAZOCu2IdojDEmkaJOFKq6EWcBQP/3ZcANvocxxpgUlcglPIwxxtQB1VnC40KcvoojfYdWAy+pqvVPGGNMCvKyhEdDnJnSg3BmZW/3/dsDuFBErsZZDnx3HOI0xhiTIF6anv6CszjfP4CfqWpTVc0FfuY7NhC4N/YhGmOMSSQvieIi4N+q+ltV/dF/UFV/VNXfAi/6yhhjjEkhXhLFocCCCOff8ZUxxhiTQrwkiqVAxwjnOwJf1iwcY4wxycZLovgDcJWInBN8QkSG4SwIeHusAjPGGJMcvAyPvRRYA8wVkRU4+0Io0BXohFObGCkiI10/o6r661gFa4wxpvZ5SRSXub7u7Hu4He97uClgicIYY+owL0t42CxuY4yph+zN3xhjTESel/BwE5EMYBjQFHjVPb/CGGNMaoi6RiEiD4rIItf3AszH2YNiEvCliBwV+xBrx+J123hswSoWr9uW6FCMMSapeKlRDMVJDH7nAP2AB4HPcZbxGAdcFavgasviddu4dMpCDpSW0yAjjeeu7E33drmJDssYY5KCl0RxBPCt6/tzgDWqOg5ARLrhDKGtcxauLuZAaTnlCiWl5SxcXWyJwhhjfLx0ZjfA2cnObyCBNYzVQOtYBFXbeh/ZjAYZaaQLZGak0fvIZokOyRhjkoaXGsUPQG9gsq/2cCRwp+t8C2BXDGOrNd3b5fLclb1ZuLqY3kc2s9qEMca4eEkUM4E/ikgLoBvwE/CG6/yJwHcxjK1WdW+XawnCGGNC8NL0dB8wDTgZZ8b1aFXdDiAihwHnAm/HOD5jjDEJ5mVm9n6c5ThCLcmxE6d/Yk+M4jLGGJMkajThzk9Vy4EdsbiWMcaY5GJLeBhjjIkooYlCRIaKyAoRWSUi4yKU6yEiZSIyojbjM8YYk8BEISLpwGPAGTh7WlwsIl3DlHsAeLN2IzTGGAOJrVH0BFap6mpVPYAz/HZYiHK/AV4ENtdmcMYYYxxRJQoRSReRtiLSNIbP3QZnEp/fet8x9/O2AYYDT8TweY0xxngQbY0iE2eJjljuVichjmnQ938HblPVshBlKxQVFZGfn1/xmDx5cqxiNMaYei+q4bGquk9EtgC7Y/jc63EWGvQ7HNgQVCYfmOmsaE5z4EwRKVXVue5CeXl5FBYWxjA0Y4wxfl76KN4Azo7hcy8COopIBxFpAPwKeMVdQFU7qGp7VW0PzAbGBicJY4wx8eUlUdwKtBaRp0XkOBHJrskTq2opcD3OaKblwCxV/UpErhGRa2py7ZqyTYyMMeYgUQ3uFghTUKQcpw9BqNyX4KeqGpPZ3l7k5+drrJqebBMjY0x9ISKLVTW/qnJe3tSnEz5BpAzbxMgYYwJ5WRTwsjjGkTT8mxiVlJbbJkbGGEOMFgVMJbaJkTHGBPKUKHzLaVwKDAFaAreq6mcikouzh/bbqvq/2IdZu2wTI2OMOSjqRCEiDYG3gFNw5lM0BPzvpj8B9wNPAX+IcYzGGGMSyMvw2PE4E+CG4+yXXTGz2jdzeg5weiyDM8YYk3heEsUvgcmq+jJQHuL8KqB9LIIyxhiTPLwkip8BX0Q4vwdoXLNwko9NvjPG1HdeOrOLCVrdNUg3Kq/VVKfZ5DtjjPFWo3gbuNzXqR1ARDoAVwD/F6vAkkGoyXfGGFPfeEkUd+OMcloEXIszS3uoiNwHLAH2A/fFPMIE8k++Sxds8p0xpt6Keq0nABHpjjME9rigU8uAUaoaqQ8jbmK51lOwxeu22eQ7Y0xKisdaT6jqYuDnInIs0AVniOy3qvpZ9cJMfjb5zhhT33mZcJfu32lOVZfh1CKMMcakOC99FBtE5G8ickK8gjHGGJN8vCSK1cBvgcUi8oWI3CQiLeMTljHGmGQRdaJQ1ZOBY4C/4Eys+yvwg4i8JiK/FJGsOMWYNGzynTGmPvLamb0K+CPwRxHpD4wGLgDOBLaLyCxVTeg2pvFik++MMfWVl6anAKr6X1X9NdAKuMp3ratiFViyscl3xpj6qtqJAkBEBgFPAI8AhwJbYxFUMgqefJfbsIE1Qxlj6gXPO9yJSGecJqdLgcOBUuA/wNPAazGNLom4d77LbdiAP732lTVDGWPqBS/zKK7HSRDdcSbafYbToT1DVbfEJ7zk4p9899iCVQHNUC8uWW+zt40xKctLjWICsBEnOTytql/FJ6Tk52+GKiktJz1NmL14PaVlVrswxqQmL4niTOAtVQ21aVG94m6G2rB9L89/+n1AJ7clCmNMKok6UahqSi0hXlP+ZqjF67bx4pL1lJSW2wqzxpiU5KkzW0QaAbdycN9scGZszwEeUtXdsQ0v+blrF/4k8diCVdZfYYxJGV46s5sC7+OsGrsFpzMbnNnadwK/FJG+qpqyQ2TDcdcubFKeMSbVeJlH8SegM3A90FpV+6pqX5y9tK8DOgHjYx5hHWKT8owxqchLojgXmKKqj/uXGwdQ1TJV/SfOhkbneXlyERkqIitEZJWIjAtx/lIRWep7fCQiP/dy/doWakc8Wx/KGFPXeemjaMnB5qZQlgBjor2YiKQDjwGDgfXAIhF5RVW/dhVbA/RX1W0icgYwGejlIeZaFaq/wpqijDF1nZdEsQk4McL5E31lotUTWKWqqwFEZCYwDKhIFKr6kav8QpyZ4EnNvSOeTcwzxqQCL4niVeBqEVkC/Ms/n0JE0oArgSuASR6u1wb4wfX9eiLXFn6Ns1RInWET84wxqcBLorgTp5noceBuEVnhO94JyANWAXd5uJ6EOKYhC4oMxEkUfUKdLyoqIj//4P7gBQUFFBQUeAglPmxinjEmFXiZcFcsIvnAbTid1j18p1YDU4AHVfUnD8+9HjjC9f3hwIbgQiJyvO/6Z6hqyGFEeXl5FBYWenjq2mMT84wxdZ2ohvwQH/8nFskAVgKnAv8DFgGXuNeQEpG2wDvA6KD+igD5+fmarInCbfG6bdZHYYxJGiKyWFXzqyrneZnxWFHVUt+KtG8C6cBTqvqViFzjO/8ETnNXM+BxEQEojeamkpW7o9sYY+qKhNUoYqmu1CjcrHZhjEm0pK9R1Ge21Icxpi6p0VaopnpsqQ9jTF1iiSIBbP9tY0xdYk1PCVAb+2+7+0AA6w8xxlRbtRKFiByNs/bTMlXdEduQ6odo9t8Gb2/w/uTgTj4ZaQIiNiPcGFNtXjcuOht4FGjvOzQYeEdEWgAfAeNUdXZMI0xx4Zb5iPQGH2rElLuDPE2EclUn+ZQpoCg2I9wYUz1eNi4aALwEfA48jWvvCVXdLCLfAb8CLFF4EHaZj6A3eH9NI1xTlbuDHFXS0gRBSfclnLIymxFujKker2s9fYGzcF8ulTcp+hgYHZuw6pdQy3y43+DdNY2A2kJQAvHXTDIz0rjz7G5s23PA+iiMMTXmJVHkA3eparlvlnSw9UCrmERVT4XazyK4phFcW3CvSOtODsEJIVKzlTHGROIlUaQD+yOcbw4cqFk4JniZj1ALCvoTQvCKtNv2HOC6gUeHvXbwRL9IicUYY/y8JIrlQF+cZcZDORunacrEWHBNw1078LIirbsf40BJOXe+vIxyVRsNZYyJyEuieBKYICLzgVd8x1REGgL3AydjfRRxE2pBwXAJJBz3CCsJ6uuw0VDGmHA8LQooIs8ClwA/AY2BIpzVXdOBqar663gEWZW6uChgogTPtfDXRqxGYUz9E5dFAVV1pIi8CIwEOuPsUvcJMF1VX6xWpKZWuWsmnVo1to5tY0yVPM/MVtWXcOZTmDrO9scwxkTDFgU0VVq8bpstWmhMPeZlZvadVRRRYC/wPfCuqm6uSWCm9oVaSDBeixYaY+oOL01P43GSATh9E27Bx0tE5GFVvaMGsZla5J5j4V5nKngmuI2OMqb+8dL0dCywBGepjouAE3yPXwELgUKgN/BL39fjROTqGMZq4ihgM6UypcT3dXm5kiZie2cYU495qVFcBewDBqhqmev4UhGZA7wL/EpVfyciL+Mki6uBSbEK1sRP8Cq27oUE/TO4Y9kMZUuJGFN3eEkUvwL+EpQkAFDVUhGZBfwe+J3re2t6qiPCrTPlfiMP3jujus1Qtme4MXWLl0RxmO8R7fktHOy7MHVAqHWm3Ny1DnczVKRaQagO8g3b98Yk4RhjaoeXRPEFMFZEnlHVde4TItIeGIuzV4VfJ2BjTQM0ySPaLVyr2mkvI03ISE+zPTJSTDI2JyZjTHWRl0QxDngTWC4ic4GVvuOdgGE4HeMXA4hIFnAp8FrMIjVJIdwWrv5aQTQ77ZWVKxf1PII2TXLsDzjJVPeNNdHNiVXt+hjPmOpDMoo6Uajqf0XkNOBvOP0VboXALar6nq/sfhFpB5TELFKTVMI1Q7mblSLttHfBSYfbHhlJpjpvrP7XLlJzYrxe31A113C7PsayiTO4ObU+9Ld5XevpA6Cnb4/sDjjzJlaHmlynqpH2rjB1XLhmqOBmpap22kv0J1FzUPAbq3/3xODXzv91pNfdXy5er2/YmqsrIVSnTy3S84VKShecdLjnZFQXPxh5XusJnD2yAZt5Xc+Faoaqqlkp+PtIb07x+PRZl/44a4v7TdA9RNq/e2Jw/1KoyZjBrztQqYYZy0/14faIdyepSH1qXjbtipSUFAKSUbj+tqpqP8muWolCRA4BmhBiwp6qfl/DmEwdE/zJzd2s5OVng7d2rekfUV3/44ykpokv3O8m5O6Jrv4l99fBb9D+1z14ln9NBy6EW1om0h7x7ppD8IcZr5t2RUpKF5x0OBecdHjI1yLU77iurnTgKVGIyK+APwBdIhRLr1FEps7xuoFSuJ8N3to1uHYRzZtjKv1xhlPT5pxIn5D92+m6d0909y+Fm4zpfk3cb6zhahrh3lRDNXOFWlomXK0g3O8m0qZd4WqxoWpa4e450og/9+84ONHUpDmsNnlZFPA8YAbOaKdJwDW+7zOA84Av8TjKSUSGAo/iJJcpqnp/0HnxnT8T2ANcpqpLvDyHqR01WbLc/7PBb07u2sWdZ3cL23QAldvMU+GPM5yaNtd5bbYJ10cR7vnC1TDDvYmHW2esUh+Au2YTZo/4cB3YoZqhItViq7O/fLgEHPw7jsdKB/HmpUZxC86+2d2BQ3ASxVOq+o6IHAt8SOA8iohEJB14DBgMrAcWicgrqvq1q9gZQEffoxfwT9+/JgVFql38Z9nGkE0H4drMU+GPM5xIzXXhBg+4vw5+Iw/3JhhpAmak31m4Gma4N/HgdcbcycDdBxBcmwnVjBV8b+4yoTbtCv5/FjKmMEkpWKQEHOp3HDzEPF79c7HgJVEcD9yjqvt8+2SDr5lJVZeJyGScJTxejvJ6PYFVqroaQERm4szHcCeKYTi75ymwUESaiEhrVbWJfCkqVO0iMyONM45tzaK1Wys3HURoM4/VH2eydYSHS6jhEmjwp/Tnruxd7aZCLzFGO7M/uBM9eBi1uw8AItdmom0GDff/LFRM0fatRJuAQ5WPdf9crHlJFOlAse/rvb5/3Ut2rACu9XC9NsAPru/XU7m2EKpMG2zGd8oL9Qfv/xQY3HRQVZu5m9c/zuo0QcRLcMIKfqMLl0CDP6UvXF3MdQOPrvX4ox2FBJWTQbS1Gf/5aO8tViOjgq8Vzc9E2z8HkZNjbfCSKNYD7QBUda+IbAbygdm+852A3R6uF7ynBVReGyqaMhQVFZGff3B/8IKCAgoKCjyEYpJRqKaP4KYDr39Ikf44Q00Scw/vDB4tU5tJI1z7fqS293Ad0IlcMiXUKKRQTTu1+YYYbUxeruW1fLj+uWg68GuDl0TxEXAa4N/p7hXgRhHZgzNM9jrgVQ/XWw8c4fr+cGBDNcqQl5dHYWGhh6c2dV2k9vNofza42SHUJDH38E73J3avQyxrKtIs42gSqPvrZGjSiNSXUB9jCvsBxlUbrO3/c27iNP9HUVCkBzAc+LOvRpEHzMPpuwD4CjhTVX8Id42g62XgjKA6FfgfsAi4RFW/cpU5C7geZ9RTL2CCqvYMvlZ+fr5aojDVEW51W/8farrART3b0qZJTsAndnfSSBf43ZBOnj99eo3z0ikLK97Ekq0NuzqSre8HkiMm92vtrg0G/5/z/7+sSawislhV86ssF22iiPBExwNlwHJVLff4s2cCf8fp/3hKVe8VkWsAVPUJ3/DYicBQnOGxl6tqpYxgicLUVKghmv6mmkgr48b7jTvc/IJkeWM18RFp/3p3Aqlp53dME4WINAJuBj5R1Tc9RxNnlihMTT22YBV/fWuFp09rkd7EY/HJ1NbBMsHcfWfuWm91a7TRJoqo+ihUdbeI3I7TDGRMyqnOMiTuvo7gkVE1masRzYqspn6qqn8tXrx0Zn8HtIpXIMYkktehjW7BHc3uyYFeVxSNZkVWY2ry/7U6vCSKx4FbReSfqlpcZWlj6pjqLkMSXBtxTw4MfoOvaoOdSCuyWm3CuNVk2RyvvCSKncBWYIWIPA18i9PBHEBVp8coNmPqhEiTA90L4UVaqTXS6qSWIEyieRkeG82IJlXVWl891jqzTbIKV1tIA9LSJGC5jWhnlxsTKzHtzPYZWIN4jKmXwi0UJ9bEZOoQT3tmxzMQY1JRuIXigudhWBOTSWbV3eEuC2gOFKnqgdiGZEzqiDQ6xd2PYUnCJDOvO9ydBDwM9MGZTT0YeEdEWgDPA/ep6vyYR2lMHRZudEptjloxpiYq7XkdjoicALwPHAUEjGxS1c1ADjAmlsEZY4xJvKgTBfAnnJVbuwHjqLwE+Ns4mxEZY4xJIV4SRV/gX6q6ixB7QgDfAz+LSVTGGGOShpdEkQ3siHD+0BrGkhCTJ09OdAgxlWr3A6l3T6l2P5B695Rq9wM1uycvieI7oHuE84MI3O+6Tki1/xCpdj+QeveUavcDqXdPqXY/UHuJYgYwSkROcx1TABG5GWfPiGeqHYkxxpik5GUJjwbAm0A/4BugM/AlkIezquw8nB3uPG1eFAsiUgSsq+aPNwe2xDCcREu1+4HUu6dUux9IvXtKtfuB0PfUTlXzqvpBTzvc+bYv/Q1wKdAFZ+TTtzjDZR9V1dKoL2aMMaZOqPFWqMYYY1Kblwl354pIra8Ma4wxJrG8dGbPBTaIyCMicmKc4okbERkqIitEZJWIjAtxXkRkgu/8Ut9yJUkrivvpLCIfi8h+EbklETF6FcU9Xep7bZaKyEci8vNExBmtKO5nmO9ePheRQhHpk4g4vajqnlzleohImYiMqM34vIriNRogIjt8r9HnInJnIuKMVjSvj++ePheRr0QkusVeVTWqB3A18CFQDpQBS4GbgVbRXiNRD5x1qb4DjgQaAF8AXYPKnAn8B6ffpTfwSaLjruH9tAB6APcCtyQ65hjd0ylAru/rM1LgNTqEg82/xwPfJDrumt6Tq9w7wBvAiETHXcPXaADwWqJjjeH9NMGZxtDW932LaK4ddY1CVSep6i+Ao4F7gIbAQ8APIvK6iFzoW1U2GfUEVqnqanVWu50JDAsqMwyYro6FQBMRaV3bgUapyvtR1c2quggoSUSA1RDNPX2kqtt83y4EDq/lGL2I5n52qe+vFWhE6BUPkkk0f0fgDHh5Edhcm8FVQ7T3U1dEcz+XAHNU9XuoWKevSl6anvBdeLWq3qWqRwP9gWk4n/SeBzZ6vV4taQP84Pp+ve+Y1zLJoi7FGi2v9/RrnBpgsorqfkRkuIh8A7wOXFFLsVVXlfckIm2A4cATtRhXdUX7f+5kEflCRP4jIt1qJ7RqieZ+jgFyReRdEVksIqOjuXC19qPwU9X3RWQxUAg8ABxWk+vFUfAChlD501s0ZZJFXYo1WlHfk4gMxEkUydymH9X9qOpLwEsi0g/4M3BapZ9KHtHc09+B21S1TCRU8aQSzf0swZlrsEtEzsTpq+0Y78CqKZr7ycBZYeNUnBW/PxaRhaq6MtKFq50ofDO0R+N8emgIbAUeq+714mw9cITr+8NxVsL1WiZZ1KVYoxXVPYnI8cAU4AxVLa6l2KrD02ukqu+JyFEi0lxVk3WiVzT3lA/M9CWJ5sCZIlKqqnNrJUJvqrwfVf3J9fUbIvJ4Er9G0b7PbVHV3cBuEXkP+DkQMVF47SzpCtyPU70pA/YDLwHnAZmJ7syJEHcGsBrowMFOnm5BZc4isDP700THXZP7cZUdT93ozI7mNWoLrAJOSXS8MbqfoznYmX0S8D//98n48PL/zld+GsndmR3Na9TK9Rr1xFklOylfoyjvpwvOlhAZOB/wlwHHVnXtqGsUIlIInOh7I10MPAjM0OT+VAeAqpaKyPU4S5CkA0+p6lcico3v/BM4IzTOxHkj2gNcnqh4qxLN/YhIK5wmwUOBchH5Lc4IiJ/CXTeRonyN7gSaAY/7PrGWqmp+omKOJMr7uQAYLSIlwF7gIvX9NSejKO+pzojyfkYA14pIKc5r9KtkfY2iuR9VXS4i/4czarUcmKKqy6q6tpe1ntYDzwFPq2rIVWJFJEtV90d1QWOMMXWCl0SRpmEW/BOR7jidixeparMYxmeMMSbBom56Ck4SItIUGImTII7FaZKK3CFijDGmzvG8KKCInI4z3vtcnA6TlThzKF5U1a9iHqExxpiEiipRiEgHnM7dMThDropw9p+4BPilqs6JZ5DGGGMSJ+LMbBG5RETextlz4lacUTTDcWb73U3oCR7GGGNSSFV9FM/ijMv9Lc5Q2K3+EyKSlEPEjElmIvIu0F5V2yc4FGOiVtVaTweA9jgLS50hIjlxj8iYGvIto6yJWl5dRH4rIpcl4rmNiYeqEkUrnNpEM+AZYJOIPOlbl8aanYwJ7bfAZWHODQE61VokxsRAxEShqttVdaKqnoSzhsszOMt1LAA+wFlwKlkXAjQm6ajqAZuUauoaL/tRLFHV64CfAaMA/1DYKb7dkv6Q5EvwGlNBRBqLyD0i8omIbPHtBLhKRO4XkYYhyjcTkadEpFhEdonIOyJyom+55rWucgq0A/r7mr/8j/a+8wHl3cdEpL2IvCQi20Vkm4hME5FDRCRNRG4XkTUisk9ElojIL0LEKCJyrW/56D0islNEFvhW2zWm2jyvHuv7NDQDmOH7z38FzrDZP+EsQFejpcuNqSVtgCtxNtiZAZTi7K9yK86aZqf7C4pIA2A+cALOQnef4uxINx9n1WS3UcAjwBac3QX9iqqIpxHOrnDvAeNwdie8AsgGioFewD+ATOAW4FURaaeqO13XeAa4GJgNTAWygEuBeSJyvqq+UkUMxoQWo1ULBRgKzEr0Cor2sAfO9pVKhFVzcSaLVlrxGGdPCAV6uo6N9R27I6is//jaoONrgXfDPO+7Icq/67vO/ws6Pgdn4bZCd6w4k10VuNp1bLjvWEHQNTJ8P7+GJF311B7J//C8w12YZKOq+n+qemEsrmdMvKnTV1ACICIZIpIrIs1xagngfIL3OwdnWf1Hgy7zL2BHjEIqw6kxuL2P8yHsCX+sruMQuIHOSGAnMFdEmvsfOHskv4ozejFZN9wxSc6aiUy9JSJjgWuAblTur8t1fd0B2KCqu9wFVLVERNYEla2ujaq6L+iYf3/wNUHPu823zLp7Ac4uQGNgU4TnaImtx2aqwRKFqZdE5HfAX4G3gAk4O4EdwOm7mEZg4qiNoeBl1TgnQV8X4SyrE06V+w4YE4olClNfjcLpSzhDXSsji8jQEGXXAKeJyCHuWoWIZOLUNrYHlU/EqgXfAscAC4NrPsbUVEz6KIypg8pw3tArPpWLSAbOiKNgr+LsGHZj0PGrCD2PaBfQNDZhRm06zt/zfaFOikjL2g3HpBKrUZhUdqqIZIc4vgVnCOl9wH9EZA7OlrGXACUhyk8BrgbuEZGjOTg89kKcrXOD/44WAr8WkT8Dy3FGLr2qzob2caGqs0VkKnC9iJwEvIZzn4cDJ+Psz31kvJ7fpDZLFCaVDfU9gq3A6cAWnI23HgV+BF7AmX8QsNWvqu4XkVOBh3DWPbsQ+AQ4FSeJBE/QuwOnRnEdzqgjwWmiilui8MV5hYgsAAqA3+MMAf4RWOL73phq8bxxkTHGISLpOJ/aP1HVUAnJmJRgfRTGRCHMysnX4NQY5tVuNMbULqtRGBMFEXkWZzmNj4D9OO3+lwDfASdp4FIaxqQUSxTGREFERuP0ORwDHIIzse0N4I+qGmmSmzF1niUKY4wxEVkfhTHGmIgsURhjjInIEoUxxpiILFEYY4yJyBKFMcaYiCxRGGOMiej/A1j7z2inNC86AAAAAElFTkSuQmCC\n",
      "text/plain": [
       "<Figure size 432x288 with 1 Axes>"
      ]
     },
     "metadata": {
      "needs_background": "light"
     },
     "output_type": "display_data"
    }
   ],
   "source": [
    "lagtime_g2t= [element * framespeed for element in laglist_g2t]\n",
    "plt.plot(lagtime_g2t,spatemp_corr[:],'.')\n",
    "plt.legend(['Spatial temporal vs laglist'], fontsize=18)\n",
    "plt.xlabel(\"Lagtime\",fontsize=18)\n",
    "plt.ylabel(\"Average over space and time\",fontsize=18)\n",
    "plt.tick_params(direction='in')"
   ]
  },
  {
   "cell_type": "code",
   "execution_count": 99,
   "id": "2bf274f4-3daa-470e-aef0-cb5ab26fa58a",
   "metadata": {},
   "outputs": [
    {
     "name": "stdout",
     "output_type": "stream",
     "text": [
      "tau is: 0.06004968014420785\n",
      "y = -16.65288 * x + -0.79165\n"
     ]
    },
    {
     "data": {
      "image/png": "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\n",
      "text/plain": [
       "<Figure size 432x288 with 1 Axes>"
      ]
     },
     "metadata": {
      "needs_background": "light"
     },
     "output_type": "display_data"
    },
    {
     "name": "stdout",
     "output_type": "stream",
     "text": [
      "R square is 0.9404512945317786\n"
     ]
    }
   ],
   "source": [
    "lagtime_g2t= [element * framespeed for element in laglist_g2t]\n",
    "plateau=0#np.mean(average_g2t[100:200])\n",
    "tau, a, b=fit_exponential_decay_rsq(plateau,np.array(spatemp_corr[:]),lagtime_g2t,1,10, True)"
   ]
  },
  {
   "cell_type": "code",
   "execution_count": 100,
   "id": "0a334f30-5a03-403b-b79d-2001818aeb1e",
   "metadata": {},
   "outputs": [
    {
     "data": {
      "image/png": "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\n",
      "text/plain": [
       "<Figure size 576x360 with 1 Axes>"
      ]
     },
     "metadata": {
      "needs_background": "light"
     },
     "output_type": "display_data"
    }
   ],
   "source": [
    "reconstruct(lagtime_g2t[:50],plateau,np.array(spatemp_corr[:50]),a,b)\n",
    "plt.yscale(\"log\")"
   ]
  },
  {
   "cell_type": "code",
   "execution_count": 171,
   "id": "dfd429a6-970b-4a85-9cc4-1ef1e9fd60bf",
   "metadata": {},
   "outputs": [
    {
     "name": "stdout",
     "output_type": "stream",
     "text": [
      "5.725915296811134e-15\n"
     ]
    }
   ],
   "source": [
    "n=1.47\n",
    "angle=np.arange(180-19.77,180+19.77,1)\n",
    "lamda=405 #nm\n",
    "k=2*math.pi/lamda\n",
    "q=2*k*np.sin(np.radians(angle/2))*10**(9)*n\n",
    "\n",
    "q=np.mean(q)\n",
    "D=a/(-2*q**2)\n",
    "print(D)"
   ]
  },
  {
   "cell_type": "code",
   "execution_count": 172,
   "id": "6098613d-ff85-4109-8bd2-8a206e8ae586",
   "metadata": {},
   "outputs": [
    {
     "name": "stdout",
     "output_type": "stream",
     "text": [
      "45380075.12515703\n"
     ]
    }
   ],
   "source": [
    "print(q)"
   ]
  },
  {
   "cell_type": "code",
   "execution_count": 170,
   "id": "64210eae-6b27-431c-9ca5-12973d99721c",
   "metadata": {},
   "outputs": [
    {
     "data": {
      "text/plain": [
       "45611271.11878514"
      ]
     },
     "execution_count": 170,
     "metadata": {},
     "output_type": "execute_result"
    }
   ],
   "source": [
    "2*k*np.sin(np.radians(180/2))*10**(9)*n"
   ]
  },
  {
   "cell_type": "code",
   "execution_count": 173,
   "id": "3d3bb6d9-09e0-4759-b326-06ab5786d4a5",
   "metadata": {},
   "outputs": [
    {
     "data": {
      "text/plain": [
       "44934140.02294469"
      ]
     },
     "execution_count": 173,
     "metadata": {},
     "output_type": "execute_result"
    }
   ],
   "source": [
    "2*k*np.sin(np.radians(199.77/2))*10**(9)*n"
   ]
  },
  {
   "cell_type": "markdown",
   "id": "73477aa2-05c4-4e93-a557-bea2464971bb",
   "metadata": {},
   "source": [
    "## line scanning"
   ]
  },
  {
   "cell_type": "code",
   "execution_count": null,
   "id": "0084948e-1511-498f-bcc8-39e06bbe3c2c",
   "metadata": {},
   "outputs": [],
   "source": [
    "video_time_length=10\n",
    "imgname='0p05ps_beads_inglycerol_405laser_10xobj_0p52au_10s_2avg_linescan_bidirc'\n",
    "foldername='/Volumes/WENYUN WANG/20221129/0p05_PSbeads_in_glycerol/'"
   ]
  },
  {
   "cell_type": "code",
   "execution_count": null,
   "id": "c26b70d6-286f-4d60-93ed-fa473109dba2",
   "metadata": {},
   "outputs": [],
   "source": [
    "import czifile\n",
    "from skimage import io\n",
    "\n",
    "img = czifile.imread(foldername+imgname+\".czi\")"
   ]
  },
  {
   "cell_type": "code",
   "execution_count": null,
   "id": "b33d6184-4391-44f4-954b-47eb2133a9f2",
   "metadata": {},
   "outputs": [],
   "source": [
    "img.shape"
   ]
  },
  {
   "cell_type": "code",
   "execution_count": null,
   "id": "d7792e2f-2a98-46a9-9c12-b8494e8d8a19",
   "metadata": {},
   "outputs": [],
   "source": [
    "# read the image stack\n",
    "frame_number=img.shape[1]\n",
    "img_width=img.shape[5]\n",
    "framespeed=video_time_length/frame_number"
   ]
  },
  {
   "cell_type": "markdown",
   "id": "c2e854e3-43bb-4dba-82e3-6f5258611313",
   "metadata": {},
   "source": [
    "### temporal autocorrelation"
   ]
  },
  {
   "cell_type": "code",
   "execution_count": null,
   "id": "cf062873-b6e8-4a6b-bba1-d624a9997c1a",
   "metadata": {},
   "outputs": [],
   "source": [
    "def compute_g2t_wo_kernel_line(img,x,laglist_g2t,normalize=True):\n",
    "    intensity=[]\n",
    "    for t in range(0,img.shape[1],1):\n",
    "        intensity.append(img[0,t,0,0,0,x,0])\n",
    "    plt.plot(intensity[0:50],'-')\n",
    "        \n",
    "    g2t=[]\n",
    "    for lag in laglist_g2t:\n",
    "        numerator_sum=0\n",
    "        denumerator_sum_1=0\n",
    "        denumerator_sum_2=0\n",
    "        max_t_range=len(intensity)-lag\n",
    "        for t in range(0,max_t_range,1):\n",
    "            numerator_sum=numerator_sum+int(intensity[t])*int(intensity[t+lag])\n",
    "            denumerator_sum_1=denumerator_sum_1+int(intensity[t])\n",
    "            denumerator_sum_2=denumerator_sum_2+int(intensity[t+lag])\n",
    "        numerator=numerator_sum/max_t_range\n",
    "        denumerator_1=denumerator_sum_1/max_t_range\n",
    "        denumerator_2=denumerator_sum_2/max_t_range\n",
    "        g2t.append((numerator/denumerator_1/denumerator_2)-1)\n",
    "    \n",
    "    if normalize:\n",
    "        first=g2t[0]\n",
    "        for lag in laglist_g2t:\n",
    "            g2t[lag]=g2t[lag]/first\n",
    "    \n",
    "    \n",
    "    return g2t"
   ]
  },
  {
   "cell_type": "code",
   "execution_count": null,
   "id": "384ccf94-4bca-4988-8a50-c536fa0cc838",
   "metadata": {},
   "outputs": [],
   "source": [
    "laglist_g2t=range(0,1000,1)\n",
    "averaged_g2t=[]\n",
    "for x in range(140,150,1):\n",
    "    g2t=compute_g2t_wo_kernel_line(img,x,laglist_g2t)\n",
    "    averaged_g2t.append(g2t)"
   ]
  },
  {
   "cell_type": "code",
   "execution_count": null,
   "id": "c3781d82-b61b-4838-84b3-0dacb48097be",
   "metadata": {},
   "outputs": [],
   "source": [
    "average_g2t=np.mean(averaged_g2t,axis=0)\n",
    "pickle.dump(average_g2t, open(foldername+imgname+'_g2tcorrrelation_avg.p',\"wb\"))"
   ]
  },
  {
   "cell_type": "code",
   "execution_count": null,
   "id": "f550906d-d141-40b9-b765-5da6db56b680",
   "metadata": {},
   "outputs": [],
   "source": [
    "average_g2t=pickle.load(open(foldername+imgname+'_g2tcorrrelation_avg.p', \"rb\"))\n",
    "laglist_g2t=range(0,len(average_g2t),1)\n",
    "lagtime_g2t= [element * framespeed for element in laglist_g2t]"
   ]
  },
  {
   "cell_type": "code",
   "execution_count": null,
   "id": "cb11f4e4-7f70-4ffc-af55-54810202069e",
   "metadata": {},
   "outputs": [],
   "source": [
    "plt.figure(figsize=(8,5))\n",
    "plt.plot(lagtime_g2t[:],average_g2t[:],'.')\n",
    "plt.legend(['g2t vs laglist'], fontsize=18)\n",
    "plt.xlabel(\"Lagtime (s)\",fontsize=18)\n",
    "plt.ylabel(\"g2(t)\",fontsize=18)\n",
    "plt.tick_params(direction='in')"
   ]
  },
  {
   "cell_type": "code",
   "execution_count": null,
   "id": "df447974-4fd0-497f-bde6-cfd99993a887",
   "metadata": {},
   "outputs": [],
   "source": [
    "lagtime_g2t= [element * framespeed for element in laglist_g2t]\n",
    "plateau=0#np.mean(average_g2t[100:200])\n",
    "tau, a, b=fit_exponential_decay_rsq(plateau,np.array(average_g2t),lagtime_g2t,1,15, True)"
   ]
  },
  {
   "cell_type": "code",
   "execution_count": null,
   "id": "19ff990e-bf71-4f9d-a6ed-8b3f5784e5f6",
   "metadata": {},
   "outputs": [],
   "source": [
    "reconstruct(lagtime_g2t[0:60],plateau,np.array(average_g2t[0:60]),a,b)\n",
    "#plt.ylim(0,0.1)\n",
    "#plt.xlim(0,lagtime_g2t[20])\n",
    "plt.yscale(\"log\")"
   ]
  },
  {
   "cell_type": "code",
   "execution_count": null,
   "id": "4862b366-a45a-4b02-98d3-1dfdf675be22",
   "metadata": {},
   "outputs": [],
   "source": [
    "n=1.47\n",
    "angle=np.arange(180-19.77,180+19.77,1)\n",
    "lamda=405 #nm\n",
    "k=2*math.pi/lamda\n",
    "q=2*k*np.sin(np.radians(angle/2))*10**(9)*n\n",
    "\n",
    "q=np.mean(q)\n",
    "D=a/(-2*q**2)\n",
    "print(D)"
   ]
  },
  {
   "cell_type": "markdown",
   "id": "377adf6c-2df2-4826-8971-2c4191914a34",
   "metadata": {},
   "source": [
    "### Average over spatial and temperol "
   ]
  },
  {
   "cell_type": "code",
   "execution_count": null,
   "id": "5fc57e9c-03a9-4fb8-a31f-0a26e504c639",
   "metadata": {},
   "outputs": [],
   "source": [
    "def spatial_temporal_line(img, x, kernel_size,t_interest, tau_interest,normalize=True):\n",
    "    \n",
    "    \n",
    "    correlation=np.zeros(len(tau_interest))\n",
    "    total_tlength=len(t_interest)+len(tau_interest)\n",
    "    # get intensity data\n",
    "    intensity=np.zeros((total_tlength, 2*kernel_size))\n",
    "    for index,i in enumerate(range(x-kernel_size, x+kernel_size)):\n",
    "        for t in range(total_tlength):\n",
    "            intensity[t,index]=img[0,t,0,0,0,i,0]\n",
    "    print(intensity.shape)\n",
    "        \n",
    "    for tau in tau_interest:\n",
    "        numerator=[]\n",
    "        denum1=[]\n",
    "        denum2=[]\n",
    "        for t in t_interest:\n",
    "            for i in range(intensity.shape[1]):\n",
    "                It=intensity[t,i]\n",
    "                Ittau=intensity[t+tau,i]\n",
    "                numerator.append(It*Ittau)\n",
    "                denum1.append(It)\n",
    "                denum2.append(Ittau)\n",
    "        correlation[tau]=np.array(numerator).mean()/(np.array(denum1).mean()*np.array(denum2).mean())-1\n",
    "    if normalize:\n",
    "        first=correlation[0]\n",
    "        for tau in tau_interest:\n",
    "            correlation[tau]=correlation[tau]/first   \n",
    "    \n",
    "\n",
    "    return correlation"
   ]
  },
  {
   "cell_type": "code",
   "execution_count": null,
   "id": "8d177b85-0124-440b-8492-dade4585e870",
   "metadata": {},
   "outputs": [],
   "source": [
    "print(img.shape[1])"
   ]
  },
  {
   "cell_type": "code",
   "execution_count": null,
   "id": "5509f7a7-0705-4605-9604-aec19f94902a",
   "metadata": {},
   "outputs": [],
   "source": [
    "tau_interest=range(0,1000,1)\n",
    "t_interest=range(0,15000,1)\n",
    "averaged_g2t=[]\n",
    "x=125\n",
    "g2t=spatial_temporal_line(img,110,100,t_interest,tau_interest)"
   ]
  },
  {
   "cell_type": "code",
   "execution_count": null,
   "id": "044c63d1-a611-4e7e-be60-f17b88eac9d7",
   "metadata": {},
   "outputs": [],
   "source": [
    "g2t.shape"
   ]
  },
  {
   "cell_type": "code",
   "execution_count": null,
   "id": "2931dc9e-0828-4ef6-952e-1ca10be027cc",
   "metadata": {},
   "outputs": [],
   "source": [
    "lagtime_g2t=tau_interest\n",
    "lagtime_g2t= [element * framespeed for element in laglist_g2t]\n",
    "plt.figure(figsize=(8,5))\n",
    "plt.plot(lagtime_g2t[:],g2t[:],'.')\n",
    "plt.legend(['Spatemp vs laglist'], fontsize=18)\n",
    "plt.xlabel(\"Lagtime (s)\",fontsize=18)\n",
    "plt.ylabel(\"Spatial temperol Corr\",fontsize=18)\n",
    "plt.tick_params(direction='in')"
   ]
  },
  {
   "cell_type": "code",
   "execution_count": null,
   "id": "d0f6d5df-f5b4-48ec-be64-df17e6d6e149",
   "metadata": {},
   "outputs": [],
   "source": [
    "laglist_g2t=tau_interest\n",
    "lagtime_g2t= [element * framespeed for element in laglist_g2t]\n",
    "plateau=0#np.mean(average_g2t[100:200])\n",
    "tau, a, b=fit_exponential_decay_rsq(plateau,np.array(g2t),lagtime_g2t,1,15, True)"
   ]
  },
  {
   "cell_type": "code",
   "execution_count": null,
   "id": "fb73b492-b94c-444c-a084-f831bd65fa45",
   "metadata": {},
   "outputs": [],
   "source": []
  },
  {
   "cell_type": "code",
   "execution_count": null,
   "id": "d4e56ff1-2b36-4b81-b17e-9de21cd737a1",
   "metadata": {},
   "outputs": [],
   "source": [
    "len(lagtime_g2t)"
   ]
  },
  {
   "cell_type": "code",
   "execution_count": null,
   "id": "8f091e56-2fe0-44dd-9aee-49f513ba69d8",
   "metadata": {},
   "outputs": [],
   "source": [
    "reconstruct(lagtime_g2t[0:100],plateau,np.array(g2t[0:100]),a,b)\n",
    "#plt.ylim(0,0.1)\n",
    "#plt.xlim(0,lagtime_g2t[20])\n",
    "plt.yscale(\"log\")"
   ]
  },
  {
   "cell_type": "code",
   "execution_count": null,
   "id": "1d1bc106-3288-49e1-93e1-e3fcf61f6121",
   "metadata": {},
   "outputs": [],
   "source": [
    "n=1.47\n",
    "angle=np.arange(180-19.77,180+19.77,1)\n",
    "lamda=405 #nm\n",
    "k=2*math.pi/lamda\n",
    "q=2*k*np.sin(np.radians(angle/2))*10**(9)*n\n",
    "\n",
    "q=np.mean(q)\n",
    "D=a/(-2*q**2)\n",
    "print(D)"
   ]
  },
  {
   "cell_type": "markdown",
   "id": "706e3a78-ea9d-4f33-b778-0316d6ad6b97",
   "metadata": {},
   "source": [
    "#plot distribution"
   ]
  },
  {
   "cell_type": "code",
   "execution_count": 127,
   "id": "c141f4b5-d676-44cc-ac94-5ab7b3d7d4a7",
   "metadata": {},
   "outputs": [],
   "source": [
    "Ibar=31.2\n",
    "I=np.linspace(0,255,5000)"
   ]
  },
  {
   "cell_type": "code",
   "execution_count": 130,
   "id": "70202fa6-9b43-465f-9ece-b9692d0aec48",
   "metadata": {},
   "outputs": [],
   "source": [
    "p_I=(1/Ibar)*np.exp(-I/Ibar)"
   ]
  },
  {
   "cell_type": "code",
   "execution_count": 132,
   "id": "fad9c012-5cc6-4c00-a581-36d084e823bd",
   "metadata": {},
   "outputs": [
    {
     "data": {
      "text/plain": [
       "[<matplotlib.lines.Line2D at 0x7f8144549b20>]"
      ]
     },
     "execution_count": 132,
     "metadata": {},
     "output_type": "execute_result"
    },
    {
     "data": {
      "image/png": "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\n",
      "text/plain": [
       "<Figure size 432x288 with 1 Axes>"
      ]
     },
     "metadata": {
      "needs_background": "light"
     },
     "output_type": "display_data"
    }
   ],
   "source": [
    "plt.plot(I,p_I)"
   ]
  },
  {
   "cell_type": "code",
   "execution_count": 146,
   "id": "c53a1f8f-b1b1-4234-ae6a-5cc7f35b3efd",
   "metadata": {},
   "outputs": [
    {
     "data": {
      "text/plain": [
       "Text(0, 0.5, 'C')"
      ]
     },
     "execution_count": 146,
     "metadata": {},
     "output_type": "execute_result"
    },
    {
     "data": {
      "image/png": "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\n",
      "text/plain": [
       "<Figure size 432x288 with 1 Axes>"
      ]
     },
     "metadata": {
      "needs_background": "light"
     },
     "output_type": "display_data"
    }
   ],
   "source": [
    "au=[0.26, 0.52, 0.78, 1]\n",
    "contrast=[0.618226049,0.495740801,0.413857826,0.35796003]\n",
    "plt.plot(au,contrast,'k')\n",
    "plt.tick_params(bottom=True, top=True, left=True, right=True,direction='in')\n",
    "plt.xticks(fontsize=14)\n",
    "plt.yticks(fontsize=14)\n",
    "plt.ylim(0,1)\n",
    "plt.xlabel('Airy Unit (A.U.)',size=18)\n",
    "plt.ylabel('C',size=18)\n"
   ]
  },
  {
   "cell_type": "code",
   "execution_count": 148,
   "id": "11ced2fe-9405-4beb-8c38-e91be3d2fdab",
   "metadata": {},
   "outputs": [],
   "source": [
    "measured_size=[411,457,477,491]\n",
    "psf=[351,395,432,450]"
   ]
  },
  {
   "cell_type": "code",
   "execution_count": 160,
   "id": "ad94d6de-32f1-4a41-bf28-f91665cb109f",
   "metadata": {},
   "outputs": [
    {
     "data": {
      "text/plain": [
       "<matplotlib.legend.Legend at 0x7f8120daf0d0>"
      ]
     },
     "execution_count": 160,
     "metadata": {},
     "output_type": "execute_result"
    },
    {
     "data": {
      "image/png": "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\n",
      "text/plain": [
       "<Figure size 432x288 with 1 Axes>"
      ]
     },
     "metadata": {
      "needs_background": "light"
     },
     "output_type": "display_data"
    }
   ],
   "source": [
    "plt.plot(au,measured_size,'k.',label='measured speckle size')\n",
    "plt.plot(au,psf,'b.',label='point spread function')\n",
    "plt.tick_params(bottom=True, top=True, left=True, right=True,direction='in')\n",
    "plt.xticks(fontsize=14)\n",
    "plt.yticks(fontsize=14)\n",
    "plt.ylim(0,550)\n",
    "plt.xlabel('Airy Unit (A.U.)',size=18)\n",
    "plt.ylabel('Size (nm)',size=18)\n",
    "plt.legend(fontsize=18)"
   ]
  },
  {
   "cell_type": "code",
   "execution_count": null,
   "id": "eddb32f4-f9c6-4263-a1db-671372c5159f",
   "metadata": {},
   "outputs": [],
   "source": []
  }
 ],
 "metadata": {
  "kernelspec": {
   "display_name": "Python 3 (ipykernel)",
   "language": "python",
   "name": "python3"
  },
  "language_info": {
   "codemirror_mode": {
    "name": "ipython",
    "version": 3
   },
   "file_extension": ".py",
   "mimetype": "text/x-python",
   "name": "python",
   "nbconvert_exporter": "python",
   "pygments_lexer": "ipython3",
   "version": "3.8.13"
  }
 },
 "nbformat": 4,
 "nbformat_minor": 5
}
