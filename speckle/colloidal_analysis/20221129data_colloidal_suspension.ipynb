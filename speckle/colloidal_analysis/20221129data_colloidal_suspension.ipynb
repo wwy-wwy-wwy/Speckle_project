{
 "cells": [
  {
   "cell_type": "code",
   "execution_count": 24,
   "id": "8b97b73a-c020-480c-96ab-117222794d39",
   "metadata": {},
   "outputs": [],
   "source": [
    "from PIL import Image\n",
    "import matplotlib.pyplot as plt\n",
    "import numpy as np\n",
    "import numpy as np\n",
    "from ellipse import LsqEllipse\n",
    "import matplotlib.pyplot as plt\n",
    "from matplotlib.patches import Ellipse\n",
    "from skimage import io\n",
    "import matplotlib.pyplot as plt\n",
    "import math\n",
    "import pickle\n",
    "import statistics\n",
    "from statistics import mean\n",
    "from scipy.fft import fft, fftfreq\n",
    "from scipy.signal import find_peaks\n",
    "\n",
    "from numpy import arange\n",
    "from pandas import read_csv\n",
    "from scipy.optimize import curve_fit\n",
    "from matplotlib import pyplot\n",
    "import pickle"
   ]
  },
  {
   "cell_type": "code",
   "execution_count": 25,
   "id": "1e1728a2-de9a-4f7b-9fb1-02c472ea5d86",
   "metadata": {},
   "outputs": [],
   "source": [
    "import sys\n",
    "import sys\n",
    "sys.path.append('../')\n",
    "from inference.read_in_data import *\n",
    "from inference.correlation_heatmap import *\n",
    "from inference.calculating_tau import *\n",
    "from inference.dedrift import *"
   ]
  },
  {
   "cell_type": "markdown",
   "id": "42c92e33-bcc3-48a7-89c0-48f279d07066",
   "metadata": {},
   "source": [
    "# Viscosity of 0.05% glycerol (4 uL glycerol + 196 uL)"
   ]
  },
  {
   "cell_type": "markdown",
   "id": "4b387e04-5108-4345-be8d-8a809556b339",
   "metadata": {},
   "source": [
    "viscosity from Rheometer data: 0.588 Pa*S"
   ]
  },
  {
   "cell_type": "code",
   "execution_count": 26,
   "id": "ea7aad32-9c9b-4076-9aa4-f2e2d4de8e76",
   "metadata": {},
   "outputs": [
    {
     "name": "stdout",
     "output_type": "stream",
     "text": [
      "7.16222663053723e-15\n"
     ]
    }
   ],
   "source": [
    "#expected D\n",
    "kb=1.380649*10**(-23) # J*K^(-1)\n",
    "T=300 # K\n",
    "eta=0.59 # Pa*S\n",
    "r=52*10**(-9) # m\n",
    "D=kb*T/(6*math.pi*eta*r) #m^2/s\n",
    "print(D) #m^2/s"
   ]
  },
  {
   "cell_type": "code",
   "execution_count": 27,
   "id": "f0079e92-467a-431b-b8a0-e20900c2b516",
   "metadata": {},
   "outputs": [
    {
     "name": "stdout",
     "output_type": "stream",
     "text": [
      "6.5010980184876395e-15\n"
     ]
    }
   ],
   "source": [
    "#expected D\n",
    "kb=1.380649*10**(-23) # J*K^(-1)\n",
    "T=300 # K\n",
    "eta=0.65 # Pa*S\n",
    "r=52*10**(-9) # m\n",
    "D=kb*T/(6*math.pi*eta*r) #m^2/s\n",
    "print(D) #m^2/s"
   ]
  },
  {
   "cell_type": "markdown",
   "id": "89187e80-b3d0-43ae-bc16-1a9b3fb47527",
   "metadata": {},
   "source": [
    "viscosity measured using DLS is 0.6498021636129446 Pa*s"
   ]
  },
  {
   "cell_type": "markdown",
   "id": "ebf9d850-9789-4099-959d-b2918fb6e9c0",
   "metadata": {},
   "source": [
    "# 0.05% 100nm in diameter PS beads in glycerol (10x Objective)"
   ]
  },
  {
   "cell_type": "markdown",
   "id": "7e47168b-be65-4d1d-89dd-3445e0e11f0f",
   "metadata": {},
   "source": [
    "## 2d scan"
   ]
  },
  {
   "cell_type": "code",
   "execution_count": 28,
   "id": "ed0b60c9-bb89-4e39-93fa-015869546219",
   "metadata": {},
   "outputs": [],
   "source": [
    "video_time_length=30 #s\n",
    "imgname='0p05ps_beads_inglycerol_405laser_10xobj_0p52au_30s_2avg'\n",
    "foldername='/Volumes/WENYUN WANG/20221129/0p05_PSbeads_in_glycerol/'"
   ]
  },
  {
   "cell_type": "code",
   "execution_count": 29,
   "id": "35533082-4751-4b7c-8c9c-182be9644dfa",
   "metadata": {},
   "outputs": [],
   "source": [
    "# read the image stack\n",
    "img = io.imread(foldername+imgname+'.tif')\n",
    "frame_number=img.shape[0]\n",
    "img_height=img.shape[1]\n",
    "img_width=img.shape[2]\n",
    "framespeed=video_time_length/frame_number"
   ]
  },
  {
   "cell_type": "code",
   "execution_count": 30,
   "id": "fe9e2e0d-4e59-408f-90bd-3963d6a1ddb9",
   "metadata": {},
   "outputs": [
    {
     "data": {
      "text/plain": [
       "5122"
      ]
     },
     "execution_count": 30,
     "metadata": {},
     "output_type": "execute_result"
    }
   ],
   "source": [
    "frame_number"
   ]
  },
  {
   "cell_type": "code",
   "execution_count": 31,
   "id": "36b7400b-0dca-4c75-83cd-87d6052a668f",
   "metadata": {},
   "outputs": [
    {
     "name": "stdout",
     "output_type": "stream",
     "text": [
      "0.005857087075361187\n"
     ]
    }
   ],
   "source": [
    "print(framespeed)"
   ]
  },
  {
   "cell_type": "code",
   "execution_count": 32,
   "id": "8637160e-5303-4473-bf86-ecb5fa6a17a2",
   "metadata": {},
   "outputs": [
    {
     "data": {
      "text/plain": [
       "20"
      ]
     },
     "execution_count": 32,
     "metadata": {},
     "output_type": "execute_result"
    }
   ],
   "source": [
    "img_height"
   ]
  },
  {
   "cell_type": "markdown",
   "id": "c9b1a221-c1d5-4daf-8429-d9850e1dca63",
   "metadata": {},
   "source": [
    "### Temporal Autocorrelation"
   ]
  },
  {
   "cell_type": "code",
   "execution_count": 112,
   "id": "57cb420e-c89c-4ba0-b883-8009b7fbd60e",
   "metadata": {},
   "outputs": [],
   "source": [
    "def compute_g2t_wo_kernel(px,laglist_g2t,normalize=True):\n",
    "    intensity=[]\n",
    "    for t in range(0,img.shape[0],1):\n",
    "        intensity.append(img[t][px[0],px[1]])\n",
    "        \n",
    "    g2t=np.zeros(len(laglist_g2t))\n",
    "    for lag in laglist_g2t:\n",
    "        numerator=[]\n",
    "        denumerator1=[]\n",
    "        denumerator2=[]\n",
    "        max_t_range=5000 #len(intensity)-lag\n",
    "        for t in range(0,max_t_range,1):\n",
    "            numerator.append(int(intensity[t])*int(intensity[t+lag]))\n",
    "            denumerator1.append(intensity[t])\n",
    "            denumerator2.append(intensity[t+lag])\n",
    "        g2t[lag]=(np.array(numerator).mean()/np.array(denumerator1).mean()/np.array(denumerator2).mean())-1\n",
    "        #g2t[lag]=g2t[lag]/g2t[0]\n",
    "    if normalize:\n",
    "        first=g2t[0]\n",
    "        for lag in laglist_g2t:\n",
    "            g2t[lag]=g2t[lag]/first\n",
    "    return g2t"
   ]
  },
  {
   "cell_type": "code",
   "execution_count": 113,
   "id": "92a53239-06a0-4de7-9501-706ddfec4780",
   "metadata": {},
   "outputs": [
    {
     "data": {
      "image/png": "[encoded data removed]",
      "text/plain": [
       "<Figure size 576x360 with 1 Axes>"
      ]
     },
     "metadata": {
      "needs_background": "light"
     },
     "output_type": "display_data"
    }
   ],
   "source": [
    "laglist_g2t=range(0,100,1)\n",
    "px=[10,300]\n",
    "g2t=compute_g2t_wo_kernel(px,laglist_g2t)\n",
    "lagtime_g2t= [element * framespeed for element in laglist_g2t]\n",
    "plt.figure(figsize=(8,5))\n",
    "plt.plot(lagtime_g2t,g2t,'.')\n",
    "plt.legend(['g2t vs laglist'], fontsize=18)\n",
    "plt.xlabel(\"Lagtime\",fontsize=18)\n",
    "plt.ylabel(\"g2(t)\",fontsize=18)\n",
    "plt.tick_params(direction='in')"
   ]
  },
  {
   "cell_type": "code",
   "execution_count": 114,
   "id": "d9a86310-6912-4193-a299-81bb0310a542",
   "metadata": {},
   "outputs": [
    {
     "name": "stdout",
     "output_type": "stream",
     "text": [
      "tau is: 0.038316731772886733\n",
      "y = -26.09826 * x + -0.63049\n"
     ]
    },
    {
     "data": {
      "image/png": "[encoded data removed]",
      "text/plain": [
       "<Figure size 432x288 with 1 Axes>"
      ]
     },
     "metadata": {
      "needs_background": "light"
     },
     "output_type": "display_data"
    },
    {
     "name": "stdout",
     "output_type": "stream",
     "text": [
      "R square is 0.9942541910345823\n"
     ]
    }
   ],
   "source": [
    "lagtime_g2t= [element * framespeed for element in laglist_g2t]\n",
    "plateau=0#np.mean(average_g2t[100:200])\n",
    "tau, a, b=fit_exponential_decay_rsq(plateau,np.array(g2t),lagtime_g2t,1,10, True)"
   ]
  },
  {
   "cell_type": "code",
   "execution_count": 115,
   "id": "15d1426a-b813-4d93-9150-f63507445faa",
   "metadata": {},
   "outputs": [
    {
     "data": {
      "image/png": "[encoded data removed]",
      "text/plain": [
       "<Figure size 576x360 with 1 Axes>"
      ]
     },
     "metadata": {
      "needs_background": "light"
     },
     "output_type": "display_data"
    }
   ],
   "source": [
    "reconstruct(lagtime_g2t[0:50],plateau,np.array(g2t[0:50]),a,b)\n",
    "#plt.ylim(0,0.1)\n",
    "#plt.xlim(0,lagtime_g2t[20])\n",
    "plt.yscale(\"log\")"
   ]
  },
  {
   "cell_type": "code",
   "execution_count": 116,
   "id": "667a39a4-b7d4-4eb9-abcd-cf23e8746ae4",
   "metadata": {},
   "outputs": [
    {
     "name": "stdout",
     "output_type": "stream",
     "text": [
      "6.3365245889963676e-15\n"
     ]
    }
   ],
   "source": [
    "n=1.47\n",
    "angle=np.arange(180-19.77,180+19.77,1)\n",
    "lamda=405 #nm\n",
    "k=2*math.pi/lamda\n",
    "q=2*k*np.sin(np.radians(angle/2))*10**(9)*n\n",
    "\n",
    "q=np.mean(q)\n",
    "D=a/(-2*q**2)\n",
    "print(D)"
   ]
  },
  {
   "cell_type": "markdown",
   "id": "8fe6f60b-eeee-4fff-856c-7411a177a1c8",
   "metadata": {},
   "source": [
    "#### average over pixels"
   ]
  },
  {
   "cell_type": "code",
   "execution_count": null,
   "id": "ab5fdff4-623a-47e9-854e-402c2ba27029",
   "metadata": {},
   "outputs": [],
   "source": [
    "laglist_g2t=range(0,100,1)\n",
    "averaged_g2t=[]\n",
    "for y in range(0,20,1):\n",
    "    for x in range(10,30,1):\n",
    "        px=[y,x]\n",
    "        g2t=compute_g2t_wo_kernel(px,laglist_g2t)\n",
    "        averaged_g2t.append(g2t)"
   ]
  },
  {
   "cell_type": "code",
   "execution_count": null,
   "id": "81084bad-5054-47eb-9fca-c248f12ba2e8",
   "metadata": {},
   "outputs": [],
   "source": [
    "average_g2t=np.mean(averaged_g2t,axis=0)\n",
    "pickle.dump(average_g2t, open(foldername+imgname+'_g2tcorrrelation_avg_temporal.p',\"wb\"))"
   ]
  },
  {
   "cell_type": "code",
   "execution_count": null,
   "id": "896e3b50-329c-4e3b-b07a-c9bcf1f3ef6b",
   "metadata": {},
   "outputs": [],
   "source": [
    "average_g2t=pickle.load(open(foldername+imgname+'_g2tcorrrelation_avg_temporal.p', \"rb\"))\n",
    "laglist_g2t=range(0,len(average_g2t),1) # assumes that the laglist is calculated is consective\n",
    "lagtime_g2t= [element * framespeed for element in laglist_g2t]"
   ]
  },
  {
   "cell_type": "code",
   "execution_count": null,
   "id": "c1f07416-2399-406c-b7ea-b52fc3fa20e4",
   "metadata": {},
   "outputs": [],
   "source": [
    "plt.figure(figsize=(8,5))\n",
    "plt.plot(lagtime_g2t[0:100],average_g2t[0:100],'.')\n",
    "plt.legend(['g2t vs laglist'], fontsize=18)\n",
    "plt.xlabel(\"Lagtime\",fontsize=18)\n",
    "plt.ylabel(\"g2(t)\",fontsize=18)\n",
    "plt.tick_params(direction='in')"
   ]
  },
  {
   "cell_type": "code",
   "execution_count": null,
   "id": "14b2cb97-0a93-44cc-a643-ee53e7b2b055",
   "metadata": {},
   "outputs": [],
   "source": [
    "lagtime_g2t= [element * framespeed for element in laglist_g2t]\n",
    "plateau=0#np.mean(average_g2t[100:200])\n",
    "tau, a, b=fit_exponential_decay_rsq(plateau,np.array(average_g2t),lagtime_g2t,1,10, True)"
   ]
  },
  {
   "cell_type": "code",
   "execution_count": null,
   "id": "896809a0-8ddb-4752-8083-08530f0bd712",
   "metadata": {},
   "outputs": [],
   "source": [
    "reconstruct(lagtime_g2t[0:60],plateau,np.array(average_g2t[0:60]),a,b)\n",
    "#plt.ylim(0,0.1)\n",
    "#plt.xlim(0,lagtime_g2t[20])\n",
    "plt.yscale(\"log\")"
   ]
  },
  {
   "cell_type": "code",
   "execution_count": null,
   "id": "3522782a-3f6a-4a50-ba3c-0f5010267112",
   "metadata": {},
   "outputs": [],
   "source": [
    "n=1.47\n",
    "angle=np.arange(180-19.77,180+19.77,1)\n",
    "lamda=405 #nm\n",
    "k=2*math.pi/lamda\n",
    "q=2*k*np.sin(np.radians(angle/2))*10**(9)*n\n",
    "\n",
    "q=np.mean(q)\n",
    "D=a/(-2*q**2)\n",
    "print(D)"
   ]
  },
  {
   "cell_type": "markdown",
   "id": "c09cb85d-bb9a-442c-a687-5bfba7d2497a",
   "metadata": {},
   "source": [
    "### TRC"
   ]
  },
  {
   "cell_type": "code",
   "execution_count": 117,
   "id": "b5c96698-8a80-40b5-b882-ab78a0bf24be",
   "metadata": {},
   "outputs": [],
   "source": [
    "# for one pixel\n",
    "\n",
    "#kernel_size is half of the total window size\n",
    "def TRC(pixel,kernel_size_y, kernel_size_x, t_interest, tau_interest,normalize=True):\n",
    "    correlation_2d=np.zeros((len(t_interest),len(tau_interest)))\n",
    "    total_tlength=len(t_interest)+len(tau_interest)\n",
    "    # get intensity data\n",
    "    intensity=np.zeros((total_tlength, 2*kernel_size_y, 2*kernel_size_x))\n",
    "    y=pixel[0]\n",
    "    x=pixel[1]\n",
    "    for yindex,i in enumerate(range(y-kernel_size_y, y+kernel_size_y)):\n",
    "        for xindex, j in enumerate(range(x-kernel_size_x, x+kernel_size_x)):\n",
    "            for t in range(total_tlength):\n",
    "                intensity[t,yindex,xindex]=img[t,i,j]\n",
    "    value=(2*kernel_size_x)*(2*kernel_size_y)\n",
    "    intensity=np.reshape(intensity,(total_tlength, value))\n",
    "    print(intensity.shape)\n",
    "    # compute correlation\n",
    "    for t in t_interest:\n",
    "        for tau in tau_interest:\n",
    "            numerator=[]\n",
    "            denum1=[]\n",
    "            denum2=[]\n",
    "            for i in range(intensity.shape[1]):\n",
    "                It=intensity[t,i]\n",
    "                Ittau=intensity[t+tau,i]\n",
    "                numerator.append(It*Ittau)\n",
    "                denum1.append(It)\n",
    "                denum2.append(Ittau)\n",
    "            correlation_2d[t,tau]=np.array(numerator).mean()/(np.array(denum1).mean()*np.array(denum2).mean())-1\n",
    "        if normalize:\n",
    "            first=correlation_2d[t,0]\n",
    "            for tau in tau_interest:\n",
    "                correlation_2d[t,tau]=correlation_2d[t,tau]/first\n",
    "    return correlation_2d"
   ]
  },
  {
   "cell_type": "code",
   "execution_count": 118,
   "id": "def8f3d7-21ea-4b35-8a36-262e6003e18f",
   "metadata": {},
   "outputs": [
    {
     "name": "stdout",
     "output_type": "stream",
     "text": [
      "(150, 5000)\n"
     ]
    }
   ],
   "source": [
    "laglist_g2t=range(0,100,1)\n",
    "t_range=range(0,50,1)\n",
    "TRC_corr=TRC([10,300],10,125,t_range,laglist_g2t)"
   ]
  },
  {
   "cell_type": "code",
   "execution_count": 119,
   "id": "aef32b59-431b-4a93-8f31-0d0bb8f2b3b9",
   "metadata": {},
   "outputs": [],
   "source": [
    "pickle.dump(TRC_corr, open(foldername+imgname+'_g2tcorrrelation_avg_TRC.p',\"wb\"))"
   ]
  },
  {
   "cell_type": "code",
   "execution_count": 120,
   "id": "ecc96160-587f-4ad5-83e0-f1a30d206cd9",
   "metadata": {},
   "outputs": [
    {
     "data": {
      "image/png": "[encoded data removed]",
      "text/plain": [
       "<Figure size 432x288 with 1 Axes>"
      ]
     },
     "metadata": {
      "needs_background": "light"
     },
     "output_type": "display_data"
    }
   ],
   "source": [
    "laglist_g2t=range(0,100,1)\n",
    "lagtime_g2t= [element * framespeed for element in laglist_g2t]\n",
    "plt.plot(lagtime_g2t,TRC_corr[20,:],'.')\n",
    "plt.legend(['TRC vs laglist'], fontsize=18)\n",
    "plt.xlabel(\"Lagtime\",fontsize=18)\n",
    "plt.ylabel(\"TRC\",fontsize=18)\n",
    "plt.tick_params(direction='in')"
   ]
  },
  {
   "cell_type": "code",
   "execution_count": 121,
   "id": "893e2a50-5e78-44bb-b63c-ebd4ac273d15",
   "metadata": {},
   "outputs": [
    {
     "name": "stdout",
     "output_type": "stream",
     "text": [
      "tau is: 0.04240281255716306\n",
      "y = -23.58334 * x + -0.65808\n"
     ]
    },
    {
     "data": {
      "image/png": "[encoded data removed]",
      "text/plain": [
       "<Figure size 432x288 with 1 Axes>"
      ]
     },
     "metadata": {
      "needs_background": "light"
     },
     "output_type": "display_data"
    },
    {
     "name": "stdout",
     "output_type": "stream",
     "text": [
      "R square is 0.9847101428729854\n"
     ]
    }
   ],
   "source": [
    "lagtime_g2t= [element * framespeed for element in laglist_g2t]\n",
    "plateau=0#np.mean(average_g2t[100:200])\n",
    "tau, a, b=fit_exponential_decay_rsq(plateau,np.array(TRC_corr[10,:]),lagtime_g2t,1,10, True)"
   ]
  },
  {
   "cell_type": "code",
   "execution_count": 122,
   "id": "8ad1fc94-c85b-46af-8a6a-08c49349c5f5",
   "metadata": {},
   "outputs": [
    {
     "data": {
      "image/png": "[encoded data removed]",
      "text/plain": [
       "<Figure size 576x360 with 1 Axes>"
      ]
     },
     "metadata": {
      "needs_background": "light"
     },
     "output_type": "display_data"
    }
   ],
   "source": [
    "reconstruct(lagtime_g2t[:50],plateau,np.array(TRC_corr[10,:50]),a,b)\n",
    "plt.yscale(\"log\")"
   ]
  },
  {
   "cell_type": "code",
   "execution_count": 123,
   "id": "edd6d521-685f-4ae2-84f3-6d526e5eae21",
   "metadata": {},
   "outputs": [
    {
     "name": "stdout",
     "output_type": "stream",
     "text": [
      "5.725915296811134e-15\n"
     ]
    }
   ],
   "source": [
    "n=1.47\n",
    "angle=np.arange(180-19.77,180+19.77,1)\n",
    "lamda=405 #nm\n",
    "k=2*math.pi/lamda\n",
    "q=2*k*np.sin(np.radians(angle/2))*10**(9)*n\n",
    "\n",
    "q=np.mean(q)\n",
    "D=a/(-2*q**2)\n",
    "print(D)"
   ]
  },
  {
   "cell_type": "markdown",
   "id": "caeb4f84-d53f-450c-9d4a-2cf1d833470e",
   "metadata": {},
   "source": [
    "### Average over spatial and temporal"
   ]
  },
  {
   "cell_type": "code",
   "execution_count": 33,
   "id": "4ff73520-85b1-45aa-96d2-8728ab8b1eb2",
   "metadata": {},
   "outputs": [],
   "source": [
    "# for one pixel\n",
    "def spatial_temporal(pixel,kernel_size_y, kernel_size_x, t_interest, tau_interest, normalize=True):\n",
    "    correlation=np.zeros(len(tau_interest))\n",
    "    \n",
    "    total_tlength=len(t_interest)+len(tau_interest)\n",
    "    # get intensity data\n",
    "    intensity=np.zeros((total_tlength, 2*kernel_size_y, 2*kernel_size_x))\n",
    "    y=pixel[0]\n",
    "    x=pixel[1]\n",
    "    for yindex,i in enumerate(range(y-kernel_size_y, y+kernel_size_y)):\n",
    "        for xindex, j in enumerate(range(x-kernel_size_x, x+kernel_size_x)):\n",
    "            for t in range(total_tlength):\n",
    "                intensity[t,yindex,xindex]=img[t,i,j]\n",
    "    value=(2*kernel_size_x)*(2*kernel_size_y)\n",
    "    intensity=np.reshape(intensity,(total_tlength, value))\n",
    "    print(intensity.shape)\n",
    "    # compute correlation\n",
    "\n",
    "    for tau in tau_interest:\n",
    "        numerator=[]\n",
    "        denum1=[]\n",
    "        denum2=[]\n",
    "        for t in t_interest:\n",
    "            for i in range(intensity.shape[1]):\n",
    "                It=intensity[t,i]\n",
    "                Ittau=intensity[t+tau,i]\n",
    "                numerator.append(It*Ittau)\n",
    "                denum1.append(It)\n",
    "                denum2.append(Ittau)\n",
    "        correlation[tau]=np.array(numerator).mean()/(np.array(denum1).mean()*np.array(denum2).mean())-1\n",
    "    if normalize:\n",
    "        first=correlation[0]\n",
    "        for tau in tau_interest:\n",
    "            correlation[tau]=correlation[tau]/first   \n",
    "    \n",
    "\n",
    "    return correlation"
   ]
  },
  {
   "cell_type": "code",
   "execution_count": 91,
   "id": "eaeea3b0-eda2-4c27-92e8-49d21f5c6c37",
   "metadata": {},
   "outputs": [
    {
     "name": "stdout",
     "output_type": "stream",
     "text": [
      "(170, 72)\n"
     ]
    }
   ],
   "source": [
    "laglist_g2t=range(0,100,1)\n",
    "t_range=range(0,70,1)\n",
    "spatemp_corr=spatial_temporal([10,300],1,18,t_range,laglist_g2t)"
   ]
  },
  {
   "cell_type": "code",
   "execution_count": 92,
   "id": "fa5c9bbd-56d4-4daf-9407-7faef09f73af",
   "metadata": {},
   "outputs": [],
   "source": [
    "pickle.dump(spatemp_corr, open(foldername+imgname+'_g2tcorrrelation_avg_spatemp.p',\"wb\"))"
   ]
  },
  {
   "cell_type": "code",
   "execution_count": 93,
   "id": "12ca1e32-b765-4b82-921e-df3d10810f56",
   "metadata": {},
   "outputs": [
    {
     "data": {
      "image/png": "[encoded data removed]",
      "text/plain": [
       "<Figure size 432x288 with 1 Axes>"
      ]
     },
     "metadata": {
      "needs_background": "light"
     },
     "output_type": "display_data"
    }
   ],
   "source": [
    "lagtime_g2t= [element * framespeed for element in laglist_g2t]\n",
    "plt.plot(lagtime_g2t,spatemp_corr[:],'.')\n",
    "plt.legend(['Spatial temporal vs laglist'], fontsize=18)\n",
    "plt.xlabel(\"Lagtime\",fontsize=18)\n",
    "plt.ylabel(\"Average over space and time\",fontsize=18)\n",
    "plt.tick_params(direction='in')"
   ]
  },
  {
   "cell_type": "code",
   "execution_count": 99,
   "id": "2bf274f4-3daa-470e-aef0-cb5ab26fa58a",
   "metadata": {},
   "outputs": [
    {
     "name": "stdout",
     "output_type": "stream",
     "text": [
      "tau is: 0.06004968014420785\n",
      "y = -16.65288 * x + -0.79165\n"
     ]
    },
    {
     "data": {
      "image/png": "[encoded data removed]",
      "text/plain": [
       "<Figure size 432x288 with 1 Axes>"
      ]
     },
     "metadata": {
      "needs_background": "light"
     },
     "output_type": "display_data"
    },
    {
     "name": "stdout",
     "output_type": "stream",
     "text": [
      "R square is 0.9404512945317786\n"
     ]
    }
   ],
   "source": [
    "lagtime_g2t= [element * framespeed for element in laglist_g2t]\n",
    "plateau=0#np.mean(average_g2t[100:200])\n",
    "tau, a, b=fit_exponential_decay_rsq(plateau,np.array(spatemp_corr[:]),lagtime_g2t,1,10, True)"
   ]
  },
  {
   "cell_type": "code",
   "execution_count": 100,
   "id": "0a334f30-5a03-403b-b79d-2001818aeb1e",
   "metadata": {},
   "outputs": [
    {
     "data": {
      "image/png": "[encoded data removed]",
      "text/plain": [
       "<Figure size 576x360 with 1 Axes>"
      ]
     },
     "metadata": {
      "needs_background": "light"
     },
     "output_type": "display_data"
    }
   ],
   "source": [
    "reconstruct(lagtime_g2t[:50],plateau,np.array(spatemp_corr[:50]),a,b)\n",
    "plt.yscale(\"log\")"
   ]
  },
  {
   "cell_type": "code",
   "execution_count": 171,
   "id": "dfd429a6-970b-4a85-9cc4-1ef1e9fd60bf",
   "metadata": {},
   "outputs": [
    {
     "name": "stdout",
     "output_type": "stream",
     "text": [
      "5.725915296811134e-15\n"
     ]
    }
   ],
   "source": [
    "n=1.47\n",
    "angle=np.arange(180-19.77,180+19.77,1)\n",
    "lamda=405 #nm\n",
    "k=2*math.pi/lamda\n",
    "q=2*k*np.sin(np.radians(angle/2))*10**(9)*n\n",
    "\n",
    "q=np.mean(q)\n",
    "D=a/(-2*q**2)\n",
    "print(D)"
   ]
  },
  {
   "cell_type": "code",
   "execution_count": 172,
   "id": "6098613d-ff85-4109-8bd2-8a206e8ae586",
   "metadata": {},
   "outputs": [
    {
     "name": "stdout",
     "output_type": "stream",
     "text": [
      "45380075.12515703\n"
     ]
    }
   ],
   "source": [
    "print(q)"
   ]
  },
  {
   "cell_type": "code",
   "execution_count": 170,
   "id": "64210eae-6b27-431c-9ca5-12973d99721c",
   "metadata": {},
   "outputs": [
    {
     "data": {
      "text/plain": [
       "45611271.11878514"
      ]
     },
     "execution_count": 170,
     "metadata": {},
     "output_type": "execute_result"
    }
   ],
   "source": [
    "2*k*np.sin(np.radians(180/2))*10**(9)*n"
   ]
  },
  {
   "cell_type": "code",
   "execution_count": 173,
   "id": "3d3bb6d9-09e0-4759-b326-06ab5786d4a5",
   "metadata": {},
   "outputs": [
    {
     "data": {
      "text/plain": [
       "44934140.02294469"
      ]
     },
     "execution_count": 173,
     "metadata": {},
     "output_type": "execute_result"
    }
   ],
   "source": [
    "2*k*np.sin(np.radians(199.77/2))*10**(9)*n"
   ]
  },
  {
   "cell_type": "markdown",
   "id": "ff9d8cb8-afca-4a68-841a-b4659edf4756",
   "metadata": {},
   "source": [
    "# larger average spatial temporal"
   ]
  },
  {
   "cell_type": "code",
   "execution_count": 34,
   "id": "08a87abf-66d0-469b-bd5e-9e737067c983",
   "metadata": {},
   "outputs": [
    {
     "name": "stdout",
     "output_type": "stream",
     "text": [
      "(600, 4000)\n"
     ]
    }
   ],
   "source": [
    "laglist_g2t=range(0,100,1)\n",
    "t_range=range(0,500,1)\n",
    "spatemp_corr=spatial_temporal([10,300],10,100,t_range,laglist_g2t)"
   ]
  },
  {
   "cell_type": "code",
   "execution_count": 35,
   "id": "7db0e150-cdd0-4196-966e-e369168e8ace",
   "metadata": {},
   "outputs": [],
   "source": [
    "pickle.dump(spatemp_corr, open(foldername+imgname+'_g2tcorrrelation_avg_larger_spatemp.p',\"wb\"))"
   ]
  },
  {
   "cell_type": "code",
   "execution_count": 36,
   "id": "c2833b54-77d9-4d62-88bc-950451b912d2",
   "metadata": {},
   "outputs": [
    {
     "data": {
      "image/png": "[encoded data removed]",
      "text/plain": [
       "<Figure size 432x288 with 1 Axes>"
      ]
     },
     "metadata": {
      "needs_background": "light"
     },
     "output_type": "display_data"
    }
   ],
   "source": [
    "lagtime_g2t= [element * framespeed for element in laglist_g2t]\n",
    "plt.plot(lagtime_g2t,spatemp_corr[:],'.')\n",
    "plt.legend(['Spatial temporal vs laglist'], fontsize=18)\n",
    "plt.xlabel(\"Lagtime\",fontsize=18)\n",
    "plt.ylabel(\"Average over space and time\",fontsize=18)\n",
    "plt.tick_params(direction='in')"
   ]
  },
  {
   "cell_type": "code",
   "execution_count": 40,
   "id": "87c06711-8527-43cd-bed4-4aedde9316c7",
   "metadata": {},
   "outputs": [
    {
     "name": "stdout",
     "output_type": "stream",
     "text": [
      "tau is: 0.05565572648905162\n",
      "y = -17.96760 * x + -0.65781\n"
     ]
    },
    {
     "data": {
      "image/png": "[encoded data removed]",
      "text/plain": [
       "<Figure size 432x288 with 1 Axes>"
      ]
     },
     "metadata": {
      "needs_background": "light"
     },
     "output_type": "display_data"
    },
    {
     "name": "stdout",
     "output_type": "stream",
     "text": [
      "R square is 0.9929831543541043\n"
     ]
    }
   ],
   "source": [
    "lagtime_g2t= [element * framespeed for element in laglist_g2t]\n",
    "plateau=0#np.mean(average_g2t[100:200])\n",
    "tau, a, b=fit_exponential_decay_rsq(plateau,np.array(spatemp_corr[:]),lagtime_g2t,1,20, True)"
   ]
  },
  {
   "cell_type": "code",
   "execution_count": 42,
   "id": "572f689b-39eb-47a3-af8f-1a59fe08308a",
   "metadata": {},
   "outputs": [
    {
     "data": {
      "image/png": "[encoded data removed]",
      "text/plain": [
       "<Figure size 576x360 with 1 Axes>"
      ]
     },
     "metadata": {
      "needs_background": "light"
     },
     "output_type": "display_data"
    }
   ],
   "source": [
    "reconstruct(lagtime_g2t[:30],plateau,np.array(spatemp_corr[:30]),a,b)\n",
    "plt.yscale(\"log\")"
   ]
  },
  {
   "cell_type": "markdown",
   "id": "73477aa2-05c4-4e93-a557-bea2464971bb",
   "metadata": {},
   "source": [
    "## line scanning"
   ]
  },
  {
   "cell_type": "code",
   "execution_count": null,
   "id": "0084948e-1511-498f-bcc8-39e06bbe3c2c",
   "metadata": {},
   "outputs": [],
   "source": [
    "video_time_length=10\n",
    "imgname='0p05ps_beads_inglycerol_405laser_10xobj_0p52au_10s_2avg_linescan_bidirc'\n",
    "foldername='/Volumes/WENYUN WANG/20221129/0p05_PSbeads_in_glycerol/'"
   ]
  },
  {
   "cell_type": "code",
   "execution_count": null,
   "id": "c26b70d6-286f-4d60-93ed-fa473109dba2",
   "metadata": {},
   "outputs": [],
   "source": [
    "import czifile\n",
    "from skimage import io\n",
    "\n",
    "img = czifile.imread(foldername+imgname+\".czi\")"
   ]
  },
  {
   "cell_type": "code",
   "execution_count": null,
   "id": "b33d6184-4391-44f4-954b-47eb2133a9f2",
   "metadata": {},
   "outputs": [],
   "source": [
    "img.shape"
   ]
  },
  {
   "cell_type": "code",
   "execution_count": null,
   "id": "d7792e2f-2a98-46a9-9c12-b8494e8d8a19",
   "metadata": {},
   "outputs": [],
   "source": [
    "# read the image stack\n",
    "frame_number=img.shape[1]\n",
    "img_width=img.shape[5]\n",
    "framespeed=video_time_length/frame_number"
   ]
  },
  {
   "cell_type": "markdown",
   "id": "c2e854e3-43bb-4dba-82e3-6f5258611313",
   "metadata": {},
   "source": [
    "### temporal autocorrelation"
   ]
  },
  {
   "cell_type": "code",
   "execution_count": null,
   "id": "cf062873-b6e8-4a6b-bba1-d624a9997c1a",
   "metadata": {},
   "outputs": [],
   "source": [
    "def compute_g2t_wo_kernel_line(img,x,laglist_g2t,normalize=True):\n",
    "    intensity=[]\n",
    "    for t in range(0,img.shape[1],1):\n",
    "        intensity.append(img[0,t,0,0,0,x,0])\n",
    "    plt.plot(intensity[0:50],'-')\n",
    "        \n",
    "    g2t=[]\n",
    "    for lag in laglist_g2t:\n",
    "        numerator_sum=0\n",
    "        denumerator_sum_1=0\n",
    "        denumerator_sum_2=0\n",
    "        max_t_range=len(intensity)-lag\n",
    "        for t in range(0,max_t_range,1):\n",
    "            numerator_sum=numerator_sum+int(intensity[t])*int(intensity[t+lag])\n",
    "            denumerator_sum_1=denumerator_sum_1+int(intensity[t])\n",
    "            denumerator_sum_2=denumerator_sum_2+int(intensity[t+lag])\n",
    "        numerator=numerator_sum/max_t_range\n",
    "        denumerator_1=denumerator_sum_1/max_t_range\n",
    "        denumerator_2=denumerator_sum_2/max_t_range\n",
    "        g2t.append((numerator/denumerator_1/denumerator_2)-1)\n",
    "    \n",
    "    if normalize:\n",
    "        first=g2t[0]\n",
    "        for lag in laglist_g2t:\n",
    "            g2t[lag]=g2t[lag]/first\n",
    "    \n",
    "    \n",
    "    return g2t"
   ]
  },
  {
   "cell_type": "code",
   "execution_count": null,
   "id": "384ccf94-4bca-4988-8a50-c536fa0cc838",
   "metadata": {},
   "outputs": [],
   "source": [
    "laglist_g2t=range(0,1000,1)\n",
    "averaged_g2t=[]\n",
    "for x in range(140,150,1):\n",
    "    g2t=compute_g2t_wo_kernel_line(img,x,laglist_g2t)\n",
    "    averaged_g2t.append(g2t)"
   ]
  },
  {
   "cell_type": "code",
   "execution_count": null,
   "id": "c3781d82-b61b-4838-84b3-0dacb48097be",
   "metadata": {},
   "outputs": [],
   "source": [
    "average_g2t=np.mean(averaged_g2t,axis=0)\n",
    "pickle.dump(average_g2t, open(foldername+imgname+'_g2tcorrrelation_avg.p',\"wb\"))"
   ]
  },
  {
   "cell_type": "code",
   "execution_count": null,
   "id": "f550906d-d141-40b9-b765-5da6db56b680",
   "metadata": {},
   "outputs": [],
   "source": [
    "average_g2t=pickle.load(open(foldername+imgname+'_g2tcorrrelation_avg.p', \"rb\"))\n",
    "laglist_g2t=range(0,len(average_g2t),1)\n",
    "lagtime_g2t= [element * framespeed for element in laglist_g2t]"
   ]
  },
  {
   "cell_type": "code",
   "execution_count": null,
   "id": "cb11f4e4-7f70-4ffc-af55-54810202069e",
   "metadata": {},
   "outputs": [],
   "source": [
    "plt.figure(figsize=(8,5))\n",
    "plt.plot(lagtime_g2t[:],average_g2t[:],'.')\n",
    "plt.legend(['g2t vs laglist'], fontsize=18)\n",
    "plt.xlabel(\"Lagtime (s)\",fontsize=18)\n",
    "plt.ylabel(\"g2(t)\",fontsize=18)\n",
    "plt.tick_params(direction='in')"
   ]
  },
  {
   "cell_type": "code",
   "execution_count": null,
   "id": "df447974-4fd0-497f-bde6-cfd99993a887",
   "metadata": {},
   "outputs": [],
   "source": [
    "lagtime_g2t= [element * framespeed for element in laglist_g2t]\n",
    "plateau=0#np.mean(average_g2t[100:200])\n",
    "tau, a, b=fit_exponential_decay_rsq(plateau,np.array(average_g2t),lagtime_g2t,1,15, True)"
   ]
  },
  {
   "cell_type": "code",
   "execution_count": null,
   "id": "19ff990e-bf71-4f9d-a6ed-8b3f5784e5f6",
   "metadata": {},
   "outputs": [],
   "source": [
    "reconstruct(lagtime_g2t[0:60],plateau,np.array(average_g2t[0:60]),a,b)\n",
    "#plt.ylim(0,0.1)\n",
    "#plt.xlim(0,lagtime_g2t[20])\n",
    "plt.yscale(\"log\")"
   ]
  },
  {
   "cell_type": "code",
   "execution_count": null,
   "id": "4862b366-a45a-4b02-98d3-1dfdf675be22",
   "metadata": {},
   "outputs": [],
   "source": [
    "n=1.47\n",
    "angle=np.arange(180-19.77,180+19.77,1)\n",
    "lamda=405 #nm\n",
    "k=2*math.pi/lamda\n",
    "q=2*k*np.sin(np.radians(angle/2))*10**(9)*n\n",
    "\n",
    "q=np.mean(q)\n",
    "D=a/(-2*q**2)\n",
    "print(D)"
   ]
  },
  {
   "cell_type": "markdown",
   "id": "377adf6c-2df2-4826-8971-2c4191914a34",
   "metadata": {},
   "source": [
    "### Average over spatial and temperol "
   ]
  },
  {
   "cell_type": "code",
   "execution_count": null,
   "id": "5fc57e9c-03a9-4fb8-a31f-0a26e504c639",
   "metadata": {},
   "outputs": [],
   "source": [
    "def spatial_temporal_line(img, x, kernel_size,t_interest, tau_interest,normalize=True):\n",
    "    \n",
    "    \n",
    "    correlation=np.zeros(len(tau_interest))\n",
    "    total_tlength=len(t_interest)+len(tau_interest)\n",
    "    # get intensity data\n",
    "    intensity=np.zeros((total_tlength, 2*kernel_size))\n",
    "    for index,i in enumerate(range(x-kernel_size, x+kernel_size)):\n",
    "        for t in range(total_tlength):\n",
    "            intensity[t,index]=img[0,t,0,0,0,i,0]\n",
    "    print(intensity.shape)\n",
    "        \n",
    "    for tau in tau_interest:\n",
    "        numerator=[]\n",
    "        denum1=[]\n",
    "        denum2=[]\n",
    "        for t in t_interest:\n",
    "            for i in range(intensity.shape[1]):\n",
    "                It=intensity[t,i]\n",
    "                Ittau=intensity[t+tau,i]\n",
    "                numerator.append(It*Ittau)\n",
    "                denum1.append(It)\n",
    "                denum2.append(Ittau)\n",
    "        correlation[tau]=np.array(numerator).mean()/(np.array(denum1).mean()*np.array(denum2).mean())-1\n",
    "    if normalize:\n",
    "        first=correlation[0]\n",
    "        for tau in tau_interest:\n",
    "            correlation[tau]=correlation[tau]/first   \n",
    "    \n",
    "\n",
    "    return correlation"
   ]
  },
  {
   "cell_type": "code",
   "execution_count": null,
   "id": "8d177b85-0124-440b-8492-dade4585e870",
   "metadata": {},
   "outputs": [],
   "source": [
    "print(img.shape[1])"
   ]
  },
  {
   "cell_type": "code",
   "execution_count": null,
   "id": "5509f7a7-0705-4605-9604-aec19f94902a",
   "metadata": {},
   "outputs": [],
   "source": [
    "tau_interest=range(0,1000,1)\n",
    "t_interest=range(0,15000,1)\n",
    "averaged_g2t=[]\n",
    "x=125\n",
    "g2t=spatial_temporal_line(img,110,100,t_interest,tau_interest)"
   ]
  },
  {
   "cell_type": "code",
   "execution_count": null,
   "id": "044c63d1-a611-4e7e-be60-f17b88eac9d7",
   "metadata": {},
   "outputs": [],
   "source": [
    "g2t.shape"
   ]
  },
  {
   "cell_type": "code",
   "execution_count": null,
   "id": "2931dc9e-0828-4ef6-952e-1ca10be027cc",
   "metadata": {},
   "outputs": [],
   "source": [
    "lagtime_g2t=tau_interest\n",
    "lagtime_g2t= [element * framespeed for element in laglist_g2t]\n",
    "plt.figure(figsize=(8,5))\n",
    "plt.plot(lagtime_g2t[:],g2t[:],'.')\n",
    "plt.legend(['Spatemp vs laglist'], fontsize=18)\n",
    "plt.xlabel(\"Lagtime (s)\",fontsize=18)\n",
    "plt.ylabel(\"Spatial temperol Corr\",fontsize=18)\n",
    "plt.tick_params(direction='in')"
   ]
  },
  {
   "cell_type": "code",
   "execution_count": null,
   "id": "d0f6d5df-f5b4-48ec-be64-df17e6d6e149",
   "metadata": {},
   "outputs": [],
   "source": [
    "laglist_g2t=tau_interest\n",
    "lagtime_g2t= [element * framespeed for element in laglist_g2t]\n",
    "plateau=0#np.mean(average_g2t[100:200])\n",
    "tau, a, b=fit_exponential_decay_rsq(plateau,np.array(g2t),lagtime_g2t,1,15, True)"
   ]
  },
  {
   "cell_type": "code",
   "execution_count": null,
   "id": "fb73b492-b94c-444c-a084-f831bd65fa45",
   "metadata": {},
   "outputs": [],
   "source": []
  },
  {
   "cell_type": "code",
   "execution_count": null,
   "id": "d4e56ff1-2b36-4b81-b17e-9de21cd737a1",
   "metadata": {},
   "outputs": [],
   "source": [
    "len(lagtime_g2t)"
   ]
  },
  {
   "cell_type": "code",
   "execution_count": null,
   "id": "8f091e56-2fe0-44dd-9aee-49f513ba69d8",
   "metadata": {},
   "outputs": [],
   "source": [
    "reconstruct(lagtime_g2t[0:100],plateau,np.array(g2t[0:100]),a,b)\n",
    "#plt.ylim(0,0.1)\n",
    "#plt.xlim(0,lagtime_g2t[20])\n",
    "plt.yscale(\"log\")"
   ]
  },
  {
   "cell_type": "code",
   "execution_count": null,
   "id": "1d1bc106-3288-49e1-93e1-e3fcf61f6121",
   "metadata": {},
   "outputs": [],
   "source": [
    "n=1.47\n",
    "angle=np.arange(180-19.77,180+19.77,1)\n",
    "lamda=405 #nm\n",
    "k=2*math.pi/lamda\n",
    "q=2*k*np.sin(np.radians(angle/2))*10**(9)*n\n",
    "\n",
    "q=np.mean(q)\n",
    "D=a/(-2*q**2)\n",
    "print(D)"
   ]
  },
  {
   "cell_type": "markdown",
   "id": "706e3a78-ea9d-4f33-b778-0316d6ad6b97",
   "metadata": {},
   "source": [
    "#plot distribution"
   ]
  },
  {
   "cell_type": "code",
   "execution_count": 127,
   "id": "c141f4b5-d676-44cc-ac94-5ab7b3d7d4a7",
   "metadata": {},
   "outputs": [],
   "source": [
    "Ibar=31.2\n",
    "I=np.linspace(0,255,5000)"
   ]
  },
  {
   "cell_type": "code",
   "execution_count": 130,
   "id": "70202fa6-9b43-465f-9ece-b9692d0aec48",
   "metadata": {},
   "outputs": [],
   "source": [
    "p_I=(1/Ibar)*np.exp(-I/Ibar)"
   ]
  },
  {
   "cell_type": "code",
   "execution_count": 132,
   "id": "fad9c012-5cc6-4c00-a581-36d084e823bd",
   "metadata": {},
   "outputs": [
    {
     "data": {
      "text/plain": [
       "[<matplotlib.lines.Line2D at 0x7f8144549b20>]"
      ]
     },
     "execution_count": 132,
     "metadata": {},
     "output_type": "execute_result"
    },
    {
     "data": {
      "image/png": "[encoded data removed]",
      "text/plain": [
       "<Figure size 432x288 with 1 Axes>"
      ]
     },
     "metadata": {
      "needs_background": "light"
     },
     "output_type": "display_data"
    }
   ],
   "source": [
    "plt.plot(I,p_I)"
   ]
  },
  {
   "cell_type": "code",
   "execution_count": 146,
   "id": "c53a1f8f-b1b1-4234-ae6a-5cc7f35b3efd",
   "metadata": {},
   "outputs": [
    {
     "data": {
      "text/plain": [
       "Text(0, 0.5, 'C')"
      ]
     },
     "execution_count": 146,
     "metadata": {},
     "output_type": "execute_result"
    },
    {
     "data": {
      "image/png": "[encoded data removed]",
      "text/plain": [
       "<Figure size 432x288 with 1 Axes>"
      ]
     },
     "metadata": {
      "needs_background": "light"
     },
     "output_type": "display_data"
    }
   ],
   "source": [
    "au=[0.26, 0.52, 0.78, 1]\n",
    "contrast=[0.618226049,0.495740801,0.413857826,0.35796003]\n",
    "plt.plot(au,contrast,'k')\n",
    "plt.tick_params(bottom=True, top=True, left=True, right=True,direction='in')\n",
    "plt.xticks(fontsize=14)\n",
    "plt.yticks(fontsize=14)\n",
    "plt.ylim(0,1)\n",
    "plt.xlabel('Airy Unit (A.U.)',size=18)\n",
    "plt.ylabel('C',size=18)\n"
   ]
  },
  {
   "cell_type": "code",
   "execution_count": 148,
   "id": "11ced2fe-9405-4beb-8c38-e91be3d2fdab",
   "metadata": {},
   "outputs": [],
   "source": [
    "measured_size=[411,457,477,491]\n",
    "psf=[351,395,432,450]"
   ]
  },
  {
   "cell_type": "code",
   "execution_count": 160,
   "id": "ad94d6de-32f1-4a41-bf28-f91665cb109f",
   "metadata": {},
   "outputs": [
    {
     "data": {
      "text/plain": [
       "<matplotlib.legend.Legend at 0x7f8120daf0d0>"
      ]
     },
     "execution_count": 160,
     "metadata": {},
     "output_type": "execute_result"
    },
    {
     "data": {
      "image/png": "[encoded data removed]",
      "text/plain": [
       "<Figure size 432x288 with 1 Axes>"
      ]
     },
     "metadata": {
      "needs_background": "light"
     },
     "output_type": "display_data"
    }
   ],
   "source": [
    "plt.plot(au,measured_size,'k.',label='measured speckle size')\n",
    "plt.plot(au,psf,'b.',label='point spread function')\n",
    "plt.tick_params(bottom=True, top=True, left=True, right=True,direction='in')\n",
    "plt.xticks(fontsize=14)\n",
    "plt.yticks(fontsize=14)\n",
    "plt.ylim(0,550)\n",
    "plt.xlabel('Airy Unit (A.U.)',size=18)\n",
    "plt.ylabel('Size (nm)',size=18)\n",
    "plt.legend(fontsize=18)"
   ]
  },
  {
   "cell_type": "code",
   "execution_count": null,
   "id": "eddb32f4-f9c6-4263-a1db-671372c5159f",
   "metadata": {},
   "outputs": [],
   "source": []
  }
 ],
 "metadata": {
  "kernelspec": {
   "display_name": "Python 3 (ipykernel)",
   "language": "python",
   "name": "python3"
  },
  "language_info": {
   "codemirror_mode": {
    "name": "ipython",
    "version": 3
   },
   "file_extension": ".py",
   "mimetype": "text/x-python",
   "name": "python",
   "nbconvert_exporter": "python",
   "pygments_lexer": "ipython3",
   "version": "3.8.13"
  }
 },
 "nbformat": 4,
 "nbformat_minor": 5
}
