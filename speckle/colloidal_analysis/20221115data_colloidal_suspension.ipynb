{
 "cells": [
  {
   "cell_type": "code",
   "execution_count": 1,
   "id": "8b97b73a-c020-480c-96ab-117222794d39",
   "metadata": {},
   "outputs": [],
   "source": [
    "from PIL import Image\n",
    "import matplotlib.pyplot as plt\n",
    "import numpy as np\n",
    "import numpy as np\n",
    "from ellipse import LsqEllipse\n",
    "import matplotlib.pyplot as plt\n",
    "from matplotlib.patches import Ellipse\n",
    "from skimage import io\n",
    "import matplotlib.pyplot as plt\n",
    "import math\n",
    "import pickle\n",
    "import statistics\n",
    "from statistics import mean\n",
    "from scipy.fft import fft, fftfreq\n",
    "from scipy.signal import find_peaks\n",
    "\n",
    "from numpy import arange\n",
    "from pandas import read_csv\n",
    "from scipy.optimize import curve_fit\n",
    "from matplotlib import pyplot\n",
    "import pickle"
   ]
  },
  {
   "cell_type": "markdown",
   "id": "42c92e33-bcc3-48a7-89c0-48f279d07066",
   "metadata": {},
   "source": [
    "# Viscosity of 0.05% glycerol (4 uL glycerol + 196 uL)"
   ]
  },
  {
   "cell_type": "markdown",
   "id": "4b387e04-5108-4345-be8d-8a809556b339",
   "metadata": {},
   "source": [
    "viscosity from Rheometer data"
   ]
  },
  {
   "cell_type": "code",
   "execution_count": 2,
   "id": "ea7aad32-9c9b-4076-9aa4-f2e2d4de8e76",
   "metadata": {},
   "outputs": [
    {
     "name": "stdout",
     "output_type": "stream",
     "text": [
      "5.731275770080392e-15\n"
     ]
    }
   ],
   "source": [
    "#expected D\n",
    "kb=1.380649*10**(-23) # J*K^(-1)\n",
    "T=300 # K\n",
    "eta=0.71 # Pa*S\n",
    "r=54*10**(-9) # m\n",
    "D=kb*T/(6*math.pi*eta*r) #m^2/s\n",
    "print(D) #m^2/s"
   ]
  },
  {
   "cell_type": "markdown",
   "id": "a3e7b277-5699-4faa-910e-a72883e2187b",
   "metadata": {},
   "source": [
    "## 10x Objective"
   ]
  },
  {
   "cell_type": "code",
   "execution_count": 4,
   "id": "ed0b60c9-bb89-4e39-93fa-015869546219",
   "metadata": {},
   "outputs": [],
   "source": [
    "video_time_length=40 #s\n",
    "imgname='10xobj_50p405nm_0p36au_40s_0p05100nmbeads_in_glycerol'\n",
    "foldername='/Volumes/WENYUN WANG/20221115/'"
   ]
  },
  {
   "cell_type": "code",
   "execution_count": 5,
   "id": "35533082-4751-4b7c-8c9c-182be9644dfa",
   "metadata": {},
   "outputs": [],
   "source": [
    "# read the image stack\n",
    "img = io.imread(foldername+imgname+'.tif')\n",
    "frame_number=img.shape[0]\n",
    "img_height=img.shape[1]\n",
    "img_width=img.shape[2]\n",
    "framespeed=video_time_length/frame_number"
   ]
  },
  {
   "cell_type": "markdown",
   "id": "ebf9d850-9789-4099-959d-b2918fb6e9c0",
   "metadata": {},
   "source": [
    "# Temporal autocorrelation\n",
    "0.05% 100nm in diameter PS beads in glycerol"
   ]
  },
  {
   "cell_type": "code",
   "execution_count": 4,
   "id": "57cb420e-c89c-4ba0-b883-8009b7fbd60e",
   "metadata": {},
   "outputs": [],
   "source": [
    "def compute_g2t_wo_kernel(px,laglist_g2t):\n",
    "    intensity=[]\n",
    "    for t in range(0,img.shape[0],1):\n",
    "        intensity.append(img[t][px[0],px[1]])\n",
    "        \n",
    "    g2t=[]\n",
    "    for lag in laglist_g2t:\n",
    "        numerator_sum=0\n",
    "        denumerator_sum_1=0\n",
    "        denumerator_sum_2=0\n",
    "        max_t_range=5000\n",
    "        for t in range(0,max_t_range,1):\n",
    "            numerator_sum=numerator_sum+int(intensity[t])*int(intensity[t+lag])\n",
    "            denumerator_sum_1=denumerator_sum_1+int(intensity[t])\n",
    "            denumerator_sum_2=denumerator_sum_2+int(intensity[t+lag])\n",
    "        numerator=numerator_sum/max_t_range\n",
    "        denumerator_1=denumerator_sum_1/max_t_range\n",
    "        denumerator_2=denumerator_sum_2/max_t_range\n",
    "        g2t.append((numerator/denumerator_1/denumerator_2)-1)\n",
    "    return g2t"
   ]
  },
  {
   "cell_type": "code",
   "execution_count": 8,
   "id": "ab5fdff4-623a-47e9-854e-402c2ba27029",
   "metadata": {},
   "outputs": [],
   "source": [
    "laglist_g2t=range(0,500,1)\n",
    "averaged_g2t=[]\n",
    "for y in range(12,15,1):\n",
    "    for x in range(10,15,1):\n",
    "        px=[y,x]\n",
    "        g2t=compute_g2t_wo_kernel(px,laglist_g2t)\n",
    "        averaged_g2t.append(g2t)"
   ]
  },
  {
   "cell_type": "code",
   "execution_count": 9,
   "id": "81084bad-5054-47eb-9fca-c248f12ba2e8",
   "metadata": {},
   "outputs": [],
   "source": [
    "average_g2t=np.mean(averaged_g2t,axis=0)\n",
    "pickle.dump(average_g2t, open(foldername+imgname+'_g2tcorrrelation_avg.p',\"wb\"))"
   ]
  },
  {
   "cell_type": "code",
   "execution_count": 10,
   "id": "896e3b50-329c-4e3b-b07a-c9bcf1f3ef6b",
   "metadata": {},
   "outputs": [],
   "source": [
    "average_g2t=pickle.load(open(foldername+imgname+'_g2tcorrrelation_avg.p', \"rb\"))\n",
    "laglist_g2t=range(0,len(average_g2t),1)\n",
    "lagtime_g2t= [element * framespeed for element in laglist_g2t]"
   ]
  },
  {
   "cell_type": "code",
   "execution_count": 11,
   "id": "c1f07416-2399-406c-b7ea-b52fc3fa20e4",
   "metadata": {},
   "outputs": [
    {
     "data": {
      "image/png": "[encoded data removed]",
      "text/plain": [
       "<Figure size 576x360 with 1 Axes>"
      ]
     },
     "metadata": {
      "needs_background": "light"
     },
     "output_type": "display_data"
    }
   ],
   "source": [
    "plt.figure(figsize=(8,5))\n",
    "plt.plot(lagtime_g2t[0:100],average_g2t[0:100],'.')\n",
    "plt.legend(['g2t vs laglist'], fontsize=18)\n",
    "plt.xlabel(\"Lagtime\",fontsize=18)\n",
    "plt.ylabel(\"g2(t)\",fontsize=18)\n",
    "plt.tick_params(direction='in')"
   ]
  },
  {
   "cell_type": "code",
   "execution_count": 12,
   "id": "14b2cb97-0a93-44cc-a643-ee53e7b2b055",
   "metadata": {},
   "outputs": [
    {
     "name": "stdout",
     "output_type": "stream",
     "text": [
      "tau is: 0.05022571770724384\n",
      "y = -19.91012 * x + -2.69627\n"
     ]
    },
    {
     "data": {
      "image/png": "[encoded data removed]",
      "text/plain": [
       "<Figure size 432x288 with 1 Axes>"
      ]
     },
     "metadata": {
      "needs_background": "light"
     },
     "output_type": "display_data"
    },
    {
     "name": "stdout",
     "output_type": "stream",
     "text": [
      "R square is 0.9994793450641839\n"
     ]
    }
   ],
   "source": [
    "lagtime_g2t= [element * framespeed for element in laglist_g2t]\n",
    "plateau=0 #np.mean(average_g2t[100:200])\n",
    "tau, a, b=fit_exponential_decay_rsq(plateau,np.array(average_g2t),lagtime_g2t,1,20, True)"
   ]
  },
  {
   "cell_type": "code",
   "execution_count": 13,
   "id": "896809a0-8ddb-4752-8083-08530f0bd712",
   "metadata": {},
   "outputs": [
    {
     "data": {
      "image/png": "[encoded data removed]",
      "text/plain": [
       "<Figure size 576x360 with 1 Axes>"
      ]
     },
     "metadata": {
      "needs_background": "light"
     },
     "output_type": "display_data"
    }
   ],
   "source": [
    "reconstruct(lagtime_g2t[0:60],plateau,np.array(average_g2t[0:60]),a,b)\n",
    "#plt.ylim(0,0.1)\n",
    "#plt.xlim(0,lagtime_g2t[20])\n",
    "plt.yscale(\"log\")"
   ]
  },
  {
   "cell_type": "code",
   "execution_count": 14,
   "id": "3522782a-3f6a-4a50-ba3c-0f5010267112",
   "metadata": {},
   "outputs": [
    {
     "name": "stdout",
     "output_type": "stream",
     "text": [
      "4.834075532062688e-15\n"
     ]
    }
   ],
   "source": [
    "n=1.47\n",
    "angle=np.arange(180-19.77,180+19.77,1)\n",
    "lamda=405 #nm\n",
    "k=2*math.pi/lamda\n",
    "q=2*k*np.sin(np.radians(angle/2))*10**(9)*n\n",
    "\n",
    "q=np.mean(q)\n",
    "D=a/(-2*q**2)\n",
    "print(D)"
   ]
  },
  {
   "cell_type": "markdown",
   "id": "a6c79bc8-1091-4cc4-9384-600bb6db55a3",
   "metadata": {},
   "source": [
    "# TRC"
   ]
  },
  {
   "cell_type": "code",
   "execution_count": 6,
   "id": "ef19b2e2-93ee-4bb2-8034-da25fee1a791",
   "metadata": {},
   "outputs": [
    {
     "data": {
      "text/plain": [
       "7989"
      ]
     },
     "execution_count": 6,
     "metadata": {},
     "output_type": "execute_result"
    }
   ],
   "source": [
    "frame_number"
   ]
  },
  {
   "cell_type": "code",
   "execution_count": 9,
   "id": "eeba6c42-aa38-4b2f-bd7e-85a79cc3c8e2",
   "metadata": {},
   "outputs": [
    {
     "data": {
      "text/plain": [
       "(7989, 32, 256)"
      ]
     },
     "execution_count": 9,
     "metadata": {},
     "output_type": "execute_result"
    }
   ],
   "source": [
    "img.shape"
   ]
  },
  {
   "cell_type": "code",
   "execution_count": 72,
   "id": "15cac548-c590-44d5-81a7-a4e0b5afcb1b",
   "metadata": {},
   "outputs": [],
   "source": [
    "# for one pixel\n",
    "def TRC(pixel,kernel_size, t_interest, tau_interest):\n",
    "    correlation_2d=np.zeros((len(t_interest),len(tau_interest)))\n",
    "    total_tlength=len(t_interest)+len(tau_interest)\n",
    "    # get intensity data\n",
    "    intensity=np.zeros((total_tlength, 2*kernel_size, 2*kernel_size))\n",
    "    y=pixel[0]\n",
    "    x=pixel[1]\n",
    "    for yindex,i in enumerate(range(y-kernel_size, y+kernel_size)):\n",
    "        for xindex, j in enumerate(range(x-kernel_size, x+kernel_size)):\n",
    "            for t in range(total_tlength):\n",
    "                intensity[t,yindex,xindex]=img[t,i,j]\n",
    "    value=(2*kernel_size)**2\n",
    "    intensity=np.reshape(intensity,(total_tlength, value))\n",
    "    print(intensity.shape)\n",
    "    # compute correlation\n",
    "    for t in t_interest:\n",
    "        for tau in tau_interest:\n",
    "            numerator=[]\n",
    "            denum1=[]\n",
    "            denum2=[]\n",
    "            for i in range(intensity.shape[1]):\n",
    "                It=intensity[t,i]\n",
    "                Ittau=intensity[t+tau,i]\n",
    "                numerator.append(It*Ittau)\n",
    "                denum1.append(It)\n",
    "                denum2.append(Ittau)\n",
    "            correlation_2d[t,tau]=np.array(numerator).mean()/(np.array(denum1).mean()*np.array(denum2).mean())-1\n",
    "            correlation_2d[t,tau]=correlation_2d[t,tau]/correlation_2d[t,0]\n",
    "    \n",
    "    return correlation_2d"
   ]
  },
  {
   "cell_type": "code",
   "execution_count": 74,
   "id": "a301d57e-21ae-4ff1-8385-f32e018711ef",
   "metadata": {},
   "outputs": [
    {
     "name": "stdout",
     "output_type": "stream",
     "text": [
      "(550, 400)\n"
     ]
    }
   ],
   "source": [
    "laglist_g2t=range(0,50,1)\n",
    "t_range=range(0,500,1)\n",
    "TRC_corr=TRC([15,125],10,t_range,laglist_g2t)"
   ]
  },
  {
   "cell_type": "code",
   "execution_count": 75,
   "id": "fdd3a542-3a48-487e-b151-a8e21f572ebc",
   "metadata": {},
   "outputs": [
    {
     "data": {
      "text/plain": [
       "(500, 50)"
      ]
     },
     "execution_count": 75,
     "metadata": {},
     "output_type": "execute_result"
    }
   ],
   "source": [
    "TRC_corr.shape"
   ]
  },
  {
   "cell_type": "code",
   "execution_count": 76,
   "id": "d43a78b2-2cdc-4067-8430-ba59e7e7b80b",
   "metadata": {},
   "outputs": [
    {
     "data": {
      "text/plain": [
       "(array([ 49., 134., 153.,  92.,  27.,  27.,  10.,   4.,   2.,   2.]),\n",
       " array([0.01690606, 0.03287033, 0.0488346 , 0.06479887, 0.08076314,\n",
       "        0.09672741, 0.11269168, 0.12865595, 0.14462022, 0.16058449,\n",
       "        0.17654876]),\n",
       " <BarContainer object of 10 artists>)"
      ]
     },
     "execution_count": 76,
     "metadata": {},
     "output_type": "execute_result"
    },
    {
     "data": {
      "image/png": "[encoded data removed]",
      "text/plain": [
       "<Figure size 432x288 with 1 Axes>"
      ]
     },
     "metadata": {
      "needs_background": "light"
     },
     "output_type": "display_data"
    }
   ],
   "source": [
    "plt.hist(TRC_corr[:,1])"
   ]
  },
  {
   "cell_type": "code",
   "execution_count": 71,
   "id": "d076d9df-7ae4-4f9e-aa89-b1cdfe7da1e9",
   "metadata": {},
   "outputs": [
    {
     "data": {
      "text/plain": [
       "[<matplotlib.lines.Line2D at 0x7f8dc0881130>]"
      ]
     },
     "execution_count": 71,
     "metadata": {},
     "output_type": "execute_result"
    },
    {
     "data": {
      "image/png": "[encoded data removed]",
      "text/plain": [
       "<Figure size 432x288 with 1 Axes>"
      ]
     },
     "metadata": {
      "needs_background": "light"
     },
     "output_type": "display_data"
    }
   ],
   "source": [
    "plt.plot(TRC_corr[10,:],'.')"
   ]
  },
  {
   "cell_type": "markdown",
   "id": "73477aa2-05c4-4e93-a557-bea2464971bb",
   "metadata": {},
   "source": [
    "# line scanning"
   ]
  },
  {
   "cell_type": "code",
   "execution_count": 158,
   "id": "cf062873-b6e8-4a6b-bba1-d624a9997c1a",
   "metadata": {},
   "outputs": [],
   "source": [
    "def compute_g2t_wo_kernel_line(img,x,laglist_g2t):\n",
    "    intensity=[]\n",
    "    for t in range(0,img.shape[1],1):\n",
    "        intensity.append(img[0,t,0,0,0,x,0])\n",
    "    plt.plot(intensity[0:50],'-')\n",
    "        \n",
    "    g2t=[]\n",
    "    for lag in laglist_g2t:\n",
    "        numerator_sum=0\n",
    "        denumerator_sum_1=0\n",
    "        denumerator_sum_2=0\n",
    "        max_t_range=5000\n",
    "        for t in range(0,max_t_range,1):\n",
    "            numerator_sum=numerator_sum+int(intensity[t])*int(intensity[t+lag])\n",
    "            denumerator_sum_1=denumerator_sum_1+int(intensity[t])\n",
    "            denumerator_sum_2=denumerator_sum_2+int(intensity[t+lag])\n",
    "        numerator=numerator_sum/max_t_range\n",
    "        denumerator_1=denumerator_sum_1/max_t_range\n",
    "        denumerator_2=denumerator_sum_2/max_t_range\n",
    "        g2t.append((numerator/denumerator_1/denumerator_2)-1)\n",
    "    return g2t"
   ]
  },
  {
   "cell_type": "code",
   "execution_count": 159,
   "id": "0084948e-1511-498f-bcc8-39e06bbe3c2c",
   "metadata": {},
   "outputs": [],
   "source": [
    "\n",
    "imgname='10xobj_50p405nm_0p36au_40s_0p05100nmbeads_in_glycerol_line'\n",
    "foldername='/Volumes/WENYUN WANG/20221115/'"
   ]
  },
  {
   "cell_type": "code",
   "execution_count": 160,
   "id": "c26b70d6-286f-4d60-93ed-fa473109dba2",
   "metadata": {},
   "outputs": [],
   "source": [
    "import czifile\n",
    "from skimage import io\n",
    "\n",
    "img = czifile.imread(foldername+imgname+\".czi\")"
   ]
  },
  {
   "cell_type": "code",
   "execution_count": 161,
   "id": "b33d6184-4391-44f4-954b-47eb2133a9f2",
   "metadata": {},
   "outputs": [
    {
     "data": {
      "text/plain": [
       "(1, 204887, 1, 1, 1, 256, 1)"
      ]
     },
     "execution_count": 161,
     "metadata": {},
     "output_type": "execute_result"
    }
   ],
   "source": [
    "img.shape"
   ]
  },
  {
   "cell_type": "code",
   "execution_count": 162,
   "id": "fd871b33-c1fb-41db-b28e-a94938868fd8",
   "metadata": {},
   "outputs": [
    {
     "data": {
      "text/plain": [
       "71"
      ]
     },
     "execution_count": 162,
     "metadata": {},
     "output_type": "execute_result"
    }
   ],
   "source": [
    "img[0,3,0,0,0,9,0]"
   ]
  },
  {
   "cell_type": "code",
   "execution_count": 163,
   "id": "378bec53-31cc-4a3d-b49b-706ef44f5de6",
   "metadata": {},
   "outputs": [
    {
     "data": {
      "text/plain": [
       "0.00019522956556540923"
      ]
     },
     "execution_count": 163,
     "metadata": {},
     "output_type": "execute_result"
    }
   ],
   "source": [
    "40/204887"
   ]
  },
  {
   "cell_type": "code",
   "execution_count": 164,
   "id": "d7792e2f-2a98-46a9-9c12-b8494e8d8a19",
   "metadata": {},
   "outputs": [],
   "source": [
    "# read the image stack\n",
    "frame_number=img.shape[1]\n",
    "img_width=img.shape[5]\n",
    "framespeed=video_time_length/frame_number"
   ]
  },
  {
   "cell_type": "code",
   "execution_count": 165,
   "id": "0929bd98-bced-47a7-9e78-91f62a9b8491",
   "metadata": {},
   "outputs": [
    {
     "data": {
      "text/plain": [
       "(1, 204887, 1, 1, 1, 256, 1)"
      ]
     },
     "execution_count": 165,
     "metadata": {},
     "output_type": "execute_result"
    }
   ],
   "source": [
    "img.shape"
   ]
  },
  {
   "cell_type": "code",
   "execution_count": null,
   "id": "242a72a5-5da4-4cc6-84bf-5b3172513cd1",
   "metadata": {},
   "outputs": [],
   "source": []
  },
  {
   "cell_type": "code",
   "execution_count": 170,
   "id": "384ccf94-4bca-4988-8a50-c536fa0cc838",
   "metadata": {},
   "outputs": [
    {
     "data": {
      "image/png": "[encoded data removed]",
      "text/plain": [
       "<Figure size 432x288 with 1 Axes>"
      ]
     },
     "metadata": {
      "needs_background": "light"
     },
     "output_type": "display_data"
    }
   ],
   "source": [
    "laglist_g2t=range(0,500,1)\n",
    "averaged_g2t=[]\n",
    "for x in range(134,135,1):\n",
    "    g2t=compute_g2t_wo_kernel_line(img,x,laglist_g2t)\n",
    "    averaged_g2t.append(g2t)"
   ]
  },
  {
   "cell_type": "code",
   "execution_count": 171,
   "id": "c3781d82-b61b-4838-84b3-0dacb48097be",
   "metadata": {},
   "outputs": [],
   "source": [
    "average_g2t=np.mean(averaged_g2t,axis=0)\n",
    "pickle.dump(average_g2t, open(foldername+imgname+'_g2tcorrrelation_avg.p',\"wb\"))"
   ]
  },
  {
   "cell_type": "code",
   "execution_count": 172,
   "id": "f550906d-d141-40b9-b765-5da6db56b680",
   "metadata": {},
   "outputs": [],
   "source": [
    "average_g2t=pickle.load(open(foldername+imgname+'_g2tcorrrelation_avg.p', \"rb\"))\n",
    "laglist_g2t=range(0,len(average_g2t),1)\n",
    "lagtime_g2t= [element * framespeed for element in laglist_g2t]"
   ]
  },
  {
   "cell_type": "code",
   "execution_count": 173,
   "id": "cb11f4e4-7f70-4ffc-af55-54810202069e",
   "metadata": {},
   "outputs": [
    {
     "data": {
      "image/png": "[encoded data removed]",
      "text/plain": [
       "<Figure size 576x360 with 1 Axes>"
      ]
     },
     "metadata": {
      "needs_background": "light"
     },
     "output_type": "display_data"
    }
   ],
   "source": [
    "plt.figure(figsize=(8,5))\n",
    "plt.plot(lagtime_g2t[0:2000],average_g2t[0:2000],'.')\n",
    "plt.legend(['g2t vs laglist'], fontsize=18)\n",
    "plt.xlabel(\"Lagtime\",fontsize=18)\n",
    "plt.ylabel(\"g2(t)\",fontsize=18)\n",
    "plt.tick_params(direction='in')"
   ]
  },
  {
   "cell_type": "code",
   "execution_count": null,
   "id": "df447974-4fd0-497f-bde6-cfd99993a887",
   "metadata": {},
   "outputs": [],
   "source": []
  },
  {
   "cell_type": "code",
   "execution_count": null,
   "id": "19ff990e-bf71-4f9d-a6ed-8b3f5784e5f6",
   "metadata": {},
   "outputs": [],
   "source": []
  },
  {
   "cell_type": "code",
   "execution_count": null,
   "id": "4862b366-a45a-4b02-98d3-1dfdf675be22",
   "metadata": {},
   "outputs": [],
   "source": []
  }
 ],
 "metadata": {
  "kernelspec": {
   "display_name": "Python 3 (ipykernel)",
   "language": "python",
   "name": "python3"
  },
  "language_info": {
   "codemirror_mode": {
    "name": "ipython",
    "version": 3
   },
   "file_extension": ".py",
   "mimetype": "text/x-python",
   "name": "python",
   "nbconvert_exporter": "python",
   "pygments_lexer": "ipython3",
   "version": "3.8.13"
  }
 },
 "nbformat": 4,
 "nbformat_minor": 5
}
