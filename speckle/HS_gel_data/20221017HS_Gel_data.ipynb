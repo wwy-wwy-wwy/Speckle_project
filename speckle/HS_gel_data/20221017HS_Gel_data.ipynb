{
 "cells": [
  {
   "cell_type": "markdown",
   "id": "36d4cc02-ccec-4548-a3fd-1e76bfd83815",
   "metadata": {},
   "source": [
    "# This notebook is used to study the first point drop of the TRC correlation data"
   ]
  },
  {
   "cell_type": "code",
   "execution_count": 124,
   "id": "8b97b73a-c020-480c-96ab-117222794d39",
   "metadata": {},
   "outputs": [],
   "source": [
    "from PIL import Image\n",
    "import matplotlib.pyplot as plt\n",
    "import numpy as np\n",
    "import numpy as np\n",
    "from ellipse import LsqEllipse\n",
    "import matplotlib.pyplot as plt\n",
    "from matplotlib.patches import Ellipse\n",
    "from skimage import io\n",
    "import matplotlib.pyplot as plt\n",
    "import math\n",
    "import pickle\n",
    "import statistics\n",
    "from statistics import mean\n",
    "from scipy.fft import fft, fftfreq\n",
    "from scipy.signal import find_peaks\n",
    "\n",
    "from numpy import arange\n",
    "from pandas import read_csv\n",
    "from scipy.optimize import curve_fit\n",
    "from matplotlib import pyplot\n",
    "import pickle"
   ]
  },
  {
   "cell_type": "code",
   "execution_count": null,
   "id": "c19d3b5e-c5e4-4404-a9c4-bd59185e414d",
   "metadata": {},
   "outputs": [],
   "source": []
  },
  {
   "cell_type": "code",
   "execution_count": 125,
   "id": "1e1728a2-de9a-4f7b-9fb1-02c472ea5d86",
   "metadata": {},
   "outputs": [],
   "source": [
    "import sys\n",
    "import sys\n",
    "sys.path.append('../')\n",
    "from inference.read_in_data import *\n",
    "from inference.correlation_heatmap import *\n",
    "from inference.calculating_tau import *\n",
    "from inference.dedrift import *"
   ]
  },
  {
   "cell_type": "code",
   "execution_count": 162,
   "id": "57cb420e-c89c-4ba0-b883-8009b7fbd60e",
   "metadata": {},
   "outputs": [],
   "source": [
    "def compute_g2t_wo_kernel(px,laglist_g2t,normalize=True):\n",
    "    intensity=[]\n",
    "    for t in range(0,img.shape[0],1):\n",
    "        intensity.append(img[t][px[0],px[1]])\n",
    "        \n",
    "    g2t=np.zeros(len(laglist_g2t))\n",
    "    for lag in laglist_g2t:\n",
    "        numerator=[]\n",
    "        denumerator1=[]\n",
    "        denumerator2=[]\n",
    "        max_t_range=len(intensity)-lag\n",
    "        for t in range(0,max_t_range,1):\n",
    "            numerator.append(int(intensity[t])*int(intensity[t+lag]))\n",
    "            denumerator1.append(intensity[t])\n",
    "            denumerator2.append(intensity[t+lag])\n",
    "        g2t[lag]=(np.array(numerator).mean()/np.array(denumerator1).mean()/np.array(denumerator2).mean())-1\n",
    "        #g2t[lag]=g2t[lag]/g2t[0]\n",
    "    if normalize:\n",
    "        first=g2t[0]\n",
    "        for lag in laglist_g2t:\n",
    "            g2t[lag]=g2t[lag]/first\n",
    "    return g2t"
   ]
  },
  {
   "cell_type": "markdown",
   "id": "ebf9d850-9789-4099-959d-b2918fb6e9c0",
   "metadata": {},
   "source": [
    "# 20% HS gel"
   ]
  },
  {
   "cell_type": "markdown",
   "id": "a3e7b277-5699-4faa-910e-a72883e2187b",
   "metadata": {},
   "source": [
    "## 10x Objective 1 avg"
   ]
  },
  {
   "cell_type": "code",
   "execution_count": 163,
   "id": "ed0b60c9-bb89-4e39-93fa-015869546219",
   "metadata": {},
   "outputs": [],
   "source": [
    "video_time_length=60 #s\n",
    "imgname='10x_600gritgroundglass_405laser_0p52au_1avg'\n",
    "foldername='/Volumes/WENYUN WANG/20221017/'"
   ]
  },
  {
   "cell_type": "code",
   "execution_count": 164,
   "id": "35533082-4751-4b7c-8c9c-182be9644dfa",
   "metadata": {},
   "outputs": [],
   "source": [
    "# read the image stack\n",
    "img = io.imread(foldername+imgname+'.tif')\n",
    "frame_number=img.shape[0]\n",
    "img_height=img.shape[1]\n",
    "img_width=img.shape[2]\n",
    "framespeed=video_time_length/frame_number"
   ]
  },
  {
   "cell_type": "code",
   "execution_count": 165,
   "id": "36b7400b-0dca-4c75-83cd-87d6052a668f",
   "metadata": {},
   "outputs": [
    {
     "name": "stdout",
     "output_type": "stream",
     "text": [
      "0.6060606060606061\n"
     ]
    }
   ],
   "source": [
    "print(framespeed)"
   ]
  },
  {
   "cell_type": "code",
   "execution_count": 166,
   "id": "ab5fdff4-623a-47e9-854e-402c2ba27029",
   "metadata": {},
   "outputs": [],
   "source": [
    "laglist_g2t=range(0,3,1)\n",
    "averaged_g2t=[]\n",
    "for y in range(1,19,1):\n",
    "    for x in range(10,40,1):\n",
    "        px=[y,x]\n",
    "        g2t=compute_g2t_wo_kernel(px,laglist_g2t)\n",
    "        averaged_g2t.append(g2t)"
   ]
  },
  {
   "cell_type": "code",
   "execution_count": 167,
   "id": "81084bad-5054-47eb-9fca-c248f12ba2e8",
   "metadata": {},
   "outputs": [],
   "source": [
    "average_g2t=np.mean(averaged_g2t,axis=0)\n",
    "pickle.dump(average_g2t, open(foldername+imgname+'_g2tcorrrelation_avg_temperal.p',\"wb\"))"
   ]
  },
  {
   "cell_type": "code",
   "execution_count": 168,
   "id": "896e3b50-329c-4e3b-b07a-c9bcf1f3ef6b",
   "metadata": {},
   "outputs": [],
   "source": [
    "average_g2t=pickle.load(open(foldername+imgname+'_g2tcorrrelation_avg_temperal.p', \"rb\"))\n",
    "laglist_g2t=range(0,len(average_g2t),1)\n",
    "lagtime_g2t= [element * framespeed for element in laglist_g2t]"
   ]
  },
  {
   "cell_type": "code",
   "execution_count": 169,
   "id": "c1f07416-2399-406c-b7ea-b52fc3fa20e4",
   "metadata": {},
   "outputs": [
    {
     "data": {
      "image/png": "[encoded data removed]",
      "text/plain": [
       "<Figure size 576x360 with 1 Axes>"
      ]
     },
     "metadata": {
      "needs_background": "light"
     },
     "output_type": "display_data"
    }
   ],
   "source": [
    "plt.figure(figsize=(8,5))\n",
    "plt.plot(lagtime_g2t[:],average_g2t[:],'.')\n",
    "plt.legend(['g2t vs laglist'], fontsize=18)\n",
    "plt.xlabel(\"Lagtime\",fontsize=18)\n",
    "plt.ylabel(\"g2(t)\",fontsize=18)\n",
    "plt.tick_params(direction='in')"
   ]
  },
  {
   "cell_type": "code",
   "execution_count": 170,
   "id": "db1fef47-6eb4-43a4-b3c2-3fe33d2b3a49",
   "metadata": {},
   "outputs": [
    {
     "name": "stdout",
     "output_type": "stream",
     "text": [
      "[ 1.         -0.00939235 -0.00277067]\n"
     ]
    }
   ],
   "source": [
    "print(average_g2t)"
   ]
  },
  {
   "cell_type": "markdown",
   "id": "5626b1f3-bf0e-44a0-9352-1bcef3a3de08",
   "metadata": {},
   "source": [
    "## 10x Objective 8 avg"
   ]
  },
  {
   "cell_type": "code",
   "execution_count": 171,
   "id": "0bb63f77-db48-426b-84ed-09fdde917a43",
   "metadata": {},
   "outputs": [],
   "source": [
    "video_time_length=60 #s\n",
    "imgname='10x_HSgel_405laser_0p52au_1000umheight_643gain17plaser_1min_8avg'\n",
    "foldername='/Volumes/WENYUN WANG/20221017/'\n",
    "\n",
    "# read the image stack\n",
    "img = io.imread(foldername+imgname+'.tif')\n",
    "frame_number=img.shape[0]\n",
    "img_height=img.shape[1]\n",
    "img_width=img.shape[2]\n",
    "framespeed=video_time_length/frame_number\n",
    "\n",
    "laglist_g2t=range(0,3,1)\n",
    "averaged_g2t=[]\n",
    "for y in range(1,19,1):\n",
    "    for x in range(10,40,1):\n",
    "        px=[y,x]\n",
    "        g2t=compute_g2t_wo_kernel(px,laglist_g2t)\n",
    "        averaged_g2t.append(g2t)"
   ]
  },
  {
   "cell_type": "code",
   "execution_count": 172,
   "id": "11605eff-5979-4b58-8b8b-0e236c33579b",
   "metadata": {},
   "outputs": [],
   "source": [
    "average_g2t=np.mean(averaged_g2t,axis=0)\n",
    "pickle.dump(average_g2t, open(foldername+imgname+'_g2tcorrrelation_avg_temperal_2d.p',\"wb\"))"
   ]
  },
  {
   "cell_type": "code",
   "execution_count": 173,
   "id": "813ffc31-a8f1-42c8-b751-b90d783c71e5",
   "metadata": {},
   "outputs": [],
   "source": [
    "average_g2t=pickle.load(open(foldername+imgname+'_g2tcorrrelation_avg_temperal_2d.p', \"rb\"))\n",
    "laglist_g2t=range(0,len(average_g2t),1)\n",
    "lagtime_g2t= [element * framespeed for element in laglist_g2t]"
   ]
  },
  {
   "cell_type": "code",
   "execution_count": 174,
   "id": "4799b073-c7c6-4393-9a9e-8a0ac8045d15",
   "metadata": {},
   "outputs": [
    {
     "data": {
      "image/png": "[encoded data removed]",
      "text/plain": [
       "<Figure size 576x360 with 1 Axes>"
      ]
     },
     "metadata": {
      "needs_background": "light"
     },
     "output_type": "display_data"
    }
   ],
   "source": [
    "plt.figure(figsize=(8,5))\n",
    "plt.plot(lagtime_g2t[0:100],average_g2t[0:100],'.')\n",
    "plt.legend(['g2t vs laglist'], fontsize=18)\n",
    "plt.xlabel(\"Lagtime\",fontsize=18)\n",
    "plt.ylabel(\"g2(t)\",fontsize=18)\n",
    "plt.tick_params(direction='in')"
   ]
  },
  {
   "cell_type": "markdown",
   "id": "c09cb85d-bb9a-442c-a687-5bfba7d2497a",
   "metadata": {},
   "source": [
    "# TRC"
   ]
  },
  {
   "cell_type": "code",
   "execution_count": null,
   "id": "b5c96698-8a80-40b5-b882-ab78a0bf24be",
   "metadata": {},
   "outputs": [],
   "source": [
    "# for one pixel\n",
    "def TRC(pixel,kernel_size_y, kernel_size_x, t_interest, tau_interest):\n",
    "    correlation_2d=np.zeros((len(t_interest),len(tau_interest)))\n",
    "    total_tlength=len(t_interest)+len(tau_interest)\n",
    "    # get intensity data\n",
    "    intensity=np.zeros((total_tlength, 2*kernel_size_y, 2*kernel_size_x))\n",
    "    y=pixel[0]\n",
    "    x=pixel[1]\n",
    "    for yindex,i in enumerate(range(y-kernel_size_y, y+kernel_size_y)):\n",
    "        for xindex, j in enumerate(range(x-kernel_size_x, x+kernel_size_x)):\n",
    "            for t in range(total_tlength):\n",
    "                intensity[t,yindex,xindex]=img[t,i,j]\n",
    "    value=(2*kernel_size_x)*(2*kernel_size_y)\n",
    "    intensity=np.reshape(intensity,(total_tlength, value))\n",
    "    print(intensity.shape)\n",
    "    # compute correlation\n",
    "    for t in t_interest:\n",
    "        for tau in tau_interest:\n",
    "            numerator=[]\n",
    "            denum1=[]\n",
    "            denum2=[]\n",
    "            for i in range(intensity.shape[1]):\n",
    "                It=intensity[t,i]\n",
    "                Ittau=intensity[t+tau,i]\n",
    "                numerator.append(It*Ittau)\n",
    "                denum1.append(It)\n",
    "                denum2.append(Ittau)\n",
    "            correlation_2d[t,tau]=np.array(numerator).mean()/(np.array(denum1).mean()*np.array(denum2).mean())-1\n",
    "            correlation_2d[t,tau]=correlation_2d[t,tau]/correlation_2d[t,0]\n",
    "    \n",
    "    return correlation_2d"
   ]
  },
  {
   "cell_type": "code",
   "execution_count": null,
   "id": "def8f3d7-21ea-4b35-8a36-262e6003e18f",
   "metadata": {},
   "outputs": [],
   "source": [
    "laglist_g2t=range(0,50,1)\n",
    "t_range=range(0,500,1)\n",
    "TRC_corr=TRC([10,225],10,225,t_range,laglist_g2t)"
   ]
  },
  {
   "cell_type": "code",
   "execution_count": null,
   "id": "ecc96160-587f-4ad5-83e0-f1a30d206cd9",
   "metadata": {},
   "outputs": [],
   "source": [
    "plt.plot(TRC_corr[10,:],'.')"
   ]
  },
  {
   "cell_type": "code",
   "execution_count": null,
   "id": "893e2a50-5e78-44bb-b63c-ebd4ac273d15",
   "metadata": {},
   "outputs": [],
   "source": [
    "lagtime_g2t= [element * framespeed for element in laglist_g2t]\n",
    "plateau=0#np.mean(average_g2t[100:200])\n",
    "tau, a, b=fit_exponential_decay_rsq(plateau,np.array(TRC_corr[10,:]),lagtime_g2t,1,13, True)"
   ]
  },
  {
   "cell_type": "code",
   "execution_count": null,
   "id": "8ad1fc94-c85b-46af-8a6a-08c49349c5f5",
   "metadata": {},
   "outputs": [],
   "source": [
    "reconstruct(lagtime_g2t[0:50],plateau,np.array(TRC_corr[10,:]),a,b)\n",
    "plt.yscale(\"log\")"
   ]
  },
  {
   "cell_type": "code",
   "execution_count": null,
   "id": "edd6d521-685f-4ae2-84f3-6d526e5eae21",
   "metadata": {},
   "outputs": [],
   "source": [
    "n=1.47\n",
    "angle=np.arange(180-19.77,180+19.77,1)\n",
    "lamda=405 #nm\n",
    "k=2*math.pi/lamda\n",
    "q=2*k*np.sin(np.radians(angle/2))*10**(9)*n\n",
    "\n",
    "q=np.mean(q)\n",
    "D=a/(-2*q**2)\n",
    "print(D)"
   ]
  },
  {
   "cell_type": "markdown",
   "id": "caeb4f84-d53f-450c-9d4a-2cf1d833470e",
   "metadata": {},
   "source": [
    "# Average over spatial and temporal"
   ]
  },
  {
   "cell_type": "code",
   "execution_count": null,
   "id": "4ff73520-85b1-45aa-96d2-8728ab8b1eb2",
   "metadata": {},
   "outputs": [],
   "source": [
    "# for one pixel\n",
    "def spatial_temporal(pixel,kernel_size_y, kernel_size_x, t_interest, tau_interest):\n",
    "    correlation=np.zeros(len(tau_interest))\n",
    "    \n",
    "    total_tlength=len(t_interest)+len(tau_interest)\n",
    "    # get intensity data\n",
    "    intensity=np.zeros((total_tlength, 2*kernel_size_y, 2*kernel_size_x))\n",
    "    y=pixel[0]\n",
    "    x=pixel[1]\n",
    "    for yindex,i in enumerate(range(y-kernel_size_y, y+kernel_size_y)):\n",
    "        for xindex, j in enumerate(range(x-kernel_size_x, x+kernel_size_x)):\n",
    "            for t in range(total_tlength):\n",
    "                intensity[t,yindex,xindex]=img[t,i,j]\n",
    "    value=(2*kernel_size_x)*(2*kernel_size_y)\n",
    "    intensity=np.reshape(intensity,(total_tlength, value))\n",
    "    print(intensity.shape)\n",
    "    # compute correlation\n",
    "\n",
    "    for tau in tau_interest:\n",
    "        numerator=[]\n",
    "        denum1=[]\n",
    "        denum2=[]\n",
    "        for t in t_interest:\n",
    "            for i in range(intensity.shape[1]):\n",
    "                It=intensity[t,i]\n",
    "                Ittau=intensity[t+tau,i]\n",
    "                numerator.append(It*Ittau)\n",
    "                denum1.append(It)\n",
    "                denum2.append(Ittau)\n",
    "        correlation[tau]=np.array(numerator).mean()/(np.array(denum1).mean()*np.array(denum2).mean())-1\n",
    "        correlation[tau]=correlation[tau]/correlation[0]\n",
    "\n",
    "    return correlation"
   ]
  },
  {
   "cell_type": "code",
   "execution_count": null,
   "id": "eaeea3b0-eda2-4c27-92e8-49d21f5c6c37",
   "metadata": {},
   "outputs": [],
   "source": [
    "laglist_g2t=range(0,50,1)\n",
    "t_range=range(0,500,1)\n",
    "spatemp_corr=spatial_temporal([10,225],10,225,t_range,laglist_g2t)"
   ]
  },
  {
   "cell_type": "code",
   "execution_count": null,
   "id": "12ca1e32-b765-4b82-921e-df3d10810f56",
   "metadata": {},
   "outputs": [],
   "source": [
    "plt.plot(spatemp_corr[:],'.')"
   ]
  },
  {
   "cell_type": "code",
   "execution_count": null,
   "id": "2bf274f4-3daa-470e-aef0-cb5ab26fa58a",
   "metadata": {},
   "outputs": [],
   "source": [
    "lagtime_g2t= [element * framespeed for element in laglist_g2t]\n",
    "plateau=0#np.mean(average_g2t[100:200])\n",
    "tau, a, b=fit_exponential_decay_rsq(plateau,np.array(spatemp_corr[:]),lagtime_g2t,1,4, True)"
   ]
  },
  {
   "cell_type": "code",
   "execution_count": null,
   "id": "0a334f30-5a03-403b-b79d-2001818aeb1e",
   "metadata": {},
   "outputs": [],
   "source": [
    "reconstruct(lagtime_g2t[0:50],plateau,np.array(spatemp_corr[:]),a,b)\n",
    "plt.yscale(\"log\")"
   ]
  },
  {
   "cell_type": "code",
   "execution_count": null,
   "id": "dfd429a6-970b-4a85-9cc4-1ef1e9fd60bf",
   "metadata": {},
   "outputs": [],
   "source": [
    "n=1.47\n",
    "angle=np.arange(180-19.77,180+19.77,1)\n",
    "lamda=405 #nm\n",
    "k=2*math.pi/lamda\n",
    "q=2*k*np.sin(np.radians(angle/2))*10**(9)*n\n",
    "\n",
    "q=np.mean(q)\n",
    "D=a/(-2*q**2)\n",
    "print(D)"
   ]
  },
  {
   "cell_type": "markdown",
   "id": "73477aa2-05c4-4e93-a557-bea2464971bb",
   "metadata": {},
   "source": [
    "# line scanning"
   ]
  },
  {
   "cell_type": "code",
   "execution_count": null,
   "id": "cf062873-b6e8-4a6b-bba1-d624a9997c1a",
   "metadata": {},
   "outputs": [],
   "source": [
    "def compute_g2t_wo_kernel_line(img,x,laglist_g2t):\n",
    "    intensity=[]\n",
    "    for t in range(0,img.shape[1],1):\n",
    "        intensity.append(img[0,t,0,0,0,x,0])\n",
    "    plt.plot(intensity[0:50],'-')\n",
    "        \n",
    "    g2t=[]\n",
    "    for lag in laglist_g2t:\n",
    "        numerator_sum=0\n",
    "        denumerator_sum_1=0\n",
    "        denumerator_sum_2=0\n",
    "        max_t_range=len(intensity)-lag\n",
    "        for t in range(0,max_t_range,1):\n",
    "            numerator_sum=numerator_sum+int(intensity[t])*int(intensity[t+lag])\n",
    "            denumerator_sum_1=denumerator_sum_1+int(intensity[t])\n",
    "            denumerator_sum_2=denumerator_sum_2+int(intensity[t+lag])\n",
    "        numerator=numerator_sum/max_t_range\n",
    "        denumerator_1=denumerator_sum_1/max_t_range\n",
    "        denumerator_2=denumerator_sum_2/max_t_range\n",
    "        g2t.append((numerator/denumerator_1/denumerator_2)-1)\n",
    "    return g2t"
   ]
  },
  {
   "cell_type": "code",
   "execution_count": null,
   "id": "0084948e-1511-498f-bcc8-39e06bbe3c2c",
   "metadata": {},
   "outputs": [],
   "source": [
    "video_time_length=10\n",
    "imgname='0p05ps_beads_inglycerol_405laser_10xobj_0p52au_10s_2avg_linescan_bidirc'\n",
    "foldername='/Volumes/WENYUN WANG/20221129/0p05_PSbeads_in_glycerol/'"
   ]
  },
  {
   "cell_type": "code",
   "execution_count": null,
   "id": "c26b70d6-286f-4d60-93ed-fa473109dba2",
   "metadata": {},
   "outputs": [],
   "source": [
    "import czifile\n",
    "from skimage import io\n",
    "\n",
    "img = czifile.imread(foldername+imgname+\".czi\")"
   ]
  },
  {
   "cell_type": "code",
   "execution_count": null,
   "id": "b33d6184-4391-44f4-954b-47eb2133a9f2",
   "metadata": {},
   "outputs": [],
   "source": [
    "img.shape"
   ]
  },
  {
   "cell_type": "code",
   "execution_count": null,
   "id": "fd871b33-c1fb-41db-b28e-a94938868fd8",
   "metadata": {},
   "outputs": [],
   "source": [
    "img[0,3,0,0,0,9,0]"
   ]
  },
  {
   "cell_type": "code",
   "execution_count": null,
   "id": "d7792e2f-2a98-46a9-9c12-b8494e8d8a19",
   "metadata": {},
   "outputs": [],
   "source": [
    "# read the image stack\n",
    "frame_number=img.shape[1]\n",
    "img_width=img.shape[5]\n",
    "framespeed=video_time_length/frame_number"
   ]
  },
  {
   "cell_type": "code",
   "execution_count": null,
   "id": "0929bd98-bced-47a7-9e78-91f62a9b8491",
   "metadata": {},
   "outputs": [],
   "source": [
    "img.shape"
   ]
  },
  {
   "cell_type": "code",
   "execution_count": null,
   "id": "242a72a5-5da4-4cc6-84bf-5b3172513cd1",
   "metadata": {},
   "outputs": [],
   "source": []
  },
  {
   "cell_type": "code",
   "execution_count": null,
   "id": "384ccf94-4bca-4988-8a50-c536fa0cc838",
   "metadata": {},
   "outputs": [],
   "source": [
    "laglist_g2t=range(0,1000,1)\n",
    "averaged_g2t=[]\n",
    "for x in range(1,150,1):\n",
    "    g2t=compute_g2t_wo_kernel_line(img,x,laglist_g2t)\n",
    "    averaged_g2t.append(g2t)"
   ]
  },
  {
   "cell_type": "code",
   "execution_count": null,
   "id": "c3781d82-b61b-4838-84b3-0dacb48097be",
   "metadata": {},
   "outputs": [],
   "source": [
    "average_g2t=np.mean(averaged_g2t,axis=0)\n",
    "pickle.dump(average_g2t, open(foldername+imgname+'_g2tcorrrelation_avg.p',\"wb\"))"
   ]
  },
  {
   "cell_type": "code",
   "execution_count": null,
   "id": "f550906d-d141-40b9-b765-5da6db56b680",
   "metadata": {},
   "outputs": [],
   "source": [
    "average_g2t=pickle.load(open(foldername+imgname+'_g2tcorrrelation_avg.p', \"rb\"))\n",
    "laglist_g2t=range(0,len(average_g2t),1)\n",
    "lagtime_g2t= [element * framespeed for element in laglist_g2t]"
   ]
  },
  {
   "cell_type": "code",
   "execution_count": null,
   "id": "cb11f4e4-7f70-4ffc-af55-54810202069e",
   "metadata": {},
   "outputs": [],
   "source": [
    "plt.figure(figsize=(8,5))\n",
    "plt.plot(lagtime_g2t[0:3000],average_g2t[0:3000],'.')\n",
    "plt.legend(['g2t vs laglist'], fontsize=18)\n",
    "plt.xlabel(\"Lagtime\",fontsize=18)\n",
    "plt.ylabel(\"g2(t)\",fontsize=18)\n",
    "plt.tick_params(direction='in')"
   ]
  },
  {
   "cell_type": "code",
   "execution_count": null,
   "id": "df447974-4fd0-497f-bde6-cfd99993a887",
   "metadata": {},
   "outputs": [],
   "source": [
    "lagtime_g2t= [element * framespeed for element in laglist_g2t]\n",
    "plateau=0#np.mean(average_g2t[100:200])\n",
    "tau, a, b=fit_exponential_decay_rsq(plateau,np.array(average_g2t),lagtime_g2t,1,10, True)"
   ]
  },
  {
   "cell_type": "code",
   "execution_count": null,
   "id": "19ff990e-bf71-4f9d-a6ed-8b3f5784e5f6",
   "metadata": {},
   "outputs": [],
   "source": [
    "reconstruct(lagtime_g2t[0:60],plateau,np.array(average_g2t[0:60]),a,b)\n",
    "#plt.ylim(0,0.1)\n",
    "#plt.xlim(0,lagtime_g2t[20])\n",
    "plt.yscale(\"log\")"
   ]
  },
  {
   "cell_type": "code",
   "execution_count": null,
   "id": "4862b366-a45a-4b02-98d3-1dfdf675be22",
   "metadata": {},
   "outputs": [],
   "source": [
    "n=1.47\n",
    "angle=np.arange(180-19.77,180+19.77,1)\n",
    "lamda=405 #nm\n",
    "k=2*math.pi/lamda\n",
    "q=2*k*np.sin(np.radians(angle/2))*10**(9)*n\n",
    "\n",
    "q=np.mean(q)\n",
    "D=a/(-2*q**2)\n",
    "print(D)"
   ]
  },
  {
   "cell_type": "code",
   "execution_count": null,
   "id": "da5df7cf-90b2-4150-8728-b9bf5d67b1f9",
   "metadata": {},
   "outputs": [],
   "source": []
  }
 ],
 "metadata": {
  "kernelspec": {
   "display_name": "Python 3 (ipykernel)",
   "language": "python",
   "name": "python3"
  },
  "language_info": {
   "codemirror_mode": {
    "name": "ipython",
    "version": 3
   },
   "file_extension": ".py",
   "mimetype": "text/x-python",
   "name": "python",
   "nbconvert_exporter": "python",
   "pygments_lexer": "ipython3",
   "version": "3.8.13"
  }
 },
 "nbformat": 4,
 "nbformat_minor": 5
}
