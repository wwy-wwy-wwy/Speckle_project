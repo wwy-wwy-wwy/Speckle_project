{
 "cells": [
  {
   "cell_type": "code",
   "execution_count": 1,
   "metadata": {},
   "outputs": [
    {
     "name": "stdout",
     "output_type": "stream",
     "text": [
      "Requirement already satisfied: opencv-python-headless in /opt/homebrew/Caskroom/miniforge/base/lib/python3.10/site-packages (4.9.0.80)\n",
      "Requirement already satisfied: Pillow in /opt/homebrew/Caskroom/miniforge/base/lib/python3.10/site-packages (10.2.0)\n",
      "Requirement already satisfied: numpy>=1.21.2 in /opt/homebrew/Caskroom/miniforge/base/lib/python3.10/site-packages (from opencv-python-headless) (1.26.3)\n"
     ]
    }
   ],
   "source": [
    "!pip install opencv-python-headless Pillow\n"
   ]
  },
  {
   "cell_type": "code",
   "execution_count": 8,
   "metadata": {},
   "outputs": [
    {
     "data": {
      "text/plain": [
       "-0.0018154528086769507"
      ]
     },
     "execution_count": 8,
     "metadata": {},
     "output_type": "execute_result"
    }
   ],
   "source": [
    "from math import atan2, degrees\n",
    "\n",
    "# Center of rotation\n",
    "center = [194.5,191]\n",
    "\n",
    "# Initial and final positions\n",
    "initial_pos = [297,73]\n",
    "final_pos = [293,72]\n",
    "\n",
    "# Convert positions to vectors relative to the center of rotation\n",
    "vec_initial = [initial_pos[0] - center[0], initial_pos[1] - center[1]]\n",
    "vec_final = [final_pos[0] - center[0], final_pos[1] - center[1]]\n",
    "\n",
    "# Calculate the angle of rotation using the atan2 of the cross product and dot product\n",
    "angle_rad = atan2(vec_initial[0]*vec_final[1] - vec_initial[1]*vec_final[0], vec_initial[0]*vec_final[0] + vec_initial[1]*vec_final[1])\n",
    "angle_deg = degrees(angle_rad)\n",
    "\n",
    "# Since this is the total rotation over 10 frames, calculate per frame rotation\n",
    "angle_per_frame = angle_deg / 751\n",
    "\n",
    "angle_per_frame"
   ]
  },
  {
   "cell_type": "code",
   "execution_count": null,
   "metadata": {},
   "outputs": [],
   "source": [
    "from skimage import io\n",
    "import numpy as np\n",
    "import cv2\n",
    "\n",
    "def de_rotate_tiff_skimage(input_path, output_path, rotation_center=(194.5,191), rotation_per_frame=angle_per_frame):\n",
    "    \"\"\"\n",
    "    De-rotates each frame in a multi-frame TIFF file using skimage and saves the result.\n",
    "\n",
    "    Parameters:\n",
    "    - input_path: Path to the input multi-frame TIFF file.\n",
    "    - output_path: Path where the de-rotated multi-frame TIFF file will be saved.\n",
    "    - rotation_center: Tuple specifying the center of rotation (x, y).\n",
    "    - rotation_per_frame: Rotation angle per frame in degrees (negative for clockwise correction).\n",
    "    \"\"\"\n",
    "    # Read the multi-frame TIFF\n",
    "    frames = io.imread(input_path)\n",
    "\n",
    "    # Prepare an array to hold the de-rotated frames\n",
    "    de_rotated_frames = np.zeros_like(frames)\n",
    "\n",
    "    for frame_index in range(frames.shape[0]):\n",
    "        # Extract the current frame\n",
    "        frame = frames[frame_index]\n",
    "        \n",
    "        # Calculate the total rotation for the current frame\n",
    "        total_rotation = rotation_per_frame * frame_index\n",
    "\n",
    "        # Get the rotation matrix and apply the rotation\n",
    "        rotation_matrix = cv2.getRotationMatrix2D(rotation_center, total_rotation, 1)\n",
    "        de_rotated_frame = cv2.warpAffine(frame, rotation_matrix, (frame.shape[1], frame.shape[0]))\n",
    "\n",
    "        # Store the de-rotated frame\n",
    "        de_rotated_frames[frame_index] = de_rotated_frame\n",
    "\n",
    "    # Save the de-rotated frames as a multi-frame TIFF\n",
    "    io.imsave(output_path, de_rotated_frames)\n",
    "# Example usage\n",
    "input_tiff_path = '/Volumes/T7red/silk_more/20240219/sample2/26min.tif'  # Update this path\n",
    "output_tiff_path = '/Volumes/T7red/silk_more/20240219/sample2/derotated/26min_derotate.tif'  # Update this path\n",
    "\n",
    "de_rotate_tiff_skimage(input_tiff_path, output_tiff_path)\n"
   ]
  },
  {
   "cell_type": "code",
   "execution_count": null,
   "metadata": {},
   "outputs": [],
   "source": []
  }
 ],
 "metadata": {
  "kernelspec": {
   "display_name": "Python 3",
   "language": "python",
   "name": "python3"
  },
  "language_info": {
   "codemirror_mode": {
    "name": "ipython",
    "version": 3
   },
   "file_extension": ".py",
   "mimetype": "text/x-python",
   "name": "python",
   "nbconvert_exporter": "python",
   "pygments_lexer": "ipython3",
   "version": "3.9.7"
  },
  "orig_nbformat": 4,
  "vscode": {
   "interpreter": {
    "hash": "aee8b7b246df8f9039afb4144a1f6fd8d2ca17a180786b69acc140d282b71a49"
   }
  }
 },
 "nbformat": 4,
 "nbformat_minor": 2
}
