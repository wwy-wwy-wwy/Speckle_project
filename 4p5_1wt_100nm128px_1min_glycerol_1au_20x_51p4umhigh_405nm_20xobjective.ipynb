{
 "cells": [
  {
   "cell_type": "code",
   "execution_count": 3,
   "id": "0cba9bb6",
   "metadata": {},
   "outputs": [],
   "source": [
    "from PIL import Image\n",
    "import matplotlib.pyplot as plt\n",
    "import numpy as np\n",
    "import numpy as np\n",
    "from ellipse import LsqEllipse\n",
    "import matplotlib.pyplot as plt\n",
    "from matplotlib.patches import Ellipse\n",
    "from skimage import io\n",
    "import matplotlib.pyplot as plt\n",
    "import math\n",
    "import pickle\n",
    "import statistics\n",
    "from statistics import mean\n",
    "from scipy.fft import fft, fftfreq\n",
    "from scipy.signal import find_peaks\n",
    "\n",
    "\n",
    "from numpy import arange\n",
    "from pandas import read_csv\n",
    "from scipy.optimize import curve_fit\n",
    "from matplotlib import pyplot"
   ]
  },
  {
   "cell_type": "code",
   "execution_count": 4,
   "id": "02e19c50",
   "metadata": {},
   "outputs": [],
   "source": [
    "import speckle\n",
    "from speckle.inference.read_in_data import *\n",
    "from speckle.inference.correlation_heatmap import *\n",
    "from speckle.inference.calculating_tau import *\n",
    "from speckle.inference.dedrift import *"
   ]
  },
  {
   "cell_type": "code",
   "execution_count": 5,
   "id": "ad1212b8",
   "metadata": {},
   "outputs": [],
   "source": [
    "%matplotlib inline\n",
    "import matplotlib.pyplot as plt\n",
    "import numpy as np\n",
    "import os\n",
    "import DSH\n",
    "import matplotlib.pyplot as plt"
   ]
  },
  {
   "cell_type": "code",
   "execution_count": 34,
   "id": "3a57b094",
   "metadata": {},
   "outputs": [],
   "source": [
    "video_time_length=60 #s\n",
    "video_frame_numbers=3016 #frames\n",
    "imgname='4p5_1wt_100nm128px_1min_glycerol_1au_20x_51p4umhigh_405nm_20xobjective'\n",
    "foldername='/Volumes/WENYUN WANG/Colloidal analysis/4p5_1wt_100nm128px_1min_glycerol_1au_20x_51p4umhigh_405nm_20xobjective/'\n",
    "framespeed=video_time_length/video_frame_numbers\n",
    "NA=0.45"
   ]
  },
  {
   "cell_type": "code",
   "execution_count": 7,
   "id": "c6f963ee",
   "metadata": {},
   "outputs": [],
   "source": [
    "# read the image stack\n",
    "img = io.imread(foldername+imgname+'.tif')\n",
    "frame_number=img.shape[0]\n",
    "img_height=img.shape[1]\n",
    "img_width=img.shape[2]"
   ]
  },
  {
   "cell_type": "code",
   "execution_count": 8,
   "id": "53ac4811",
   "metadata": {},
   "outputs": [
    {
     "data": {
      "text/plain": [
       "(3016, 128, 128)"
      ]
     },
     "execution_count": 8,
     "metadata": {},
     "output_type": "execute_result"
    }
   ],
   "source": [
    "img.shape"
   ]
  },
  {
   "cell_type": "markdown",
   "id": "447e5e5d",
   "metadata": {},
   "source": [
    "# Speckle size"
   ]
  },
  {
   "cell_type": "markdown",
   "id": "b5ad29ce",
   "metadata": {},
   "source": []
  },
  {
   "cell_type": "markdown",
   "id": "28d9305e",
   "metadata": {},
   "source": [
    "# Intensity averaging over pixels"
   ]
  },
  {
   "cell_type": "code",
   "execution_count": null,
   "id": "b3461832",
   "metadata": {},
   "outputs": [],
   "source": [
    "# create matrix:\n",
    "w=3\n",
    "h=3\n",
    "omega=w*h\n",
    "matrix=np.zeros((w,h))\n",
    "for i in range(0,w):\n",
    "    for j in range(0,h):\n",
    "        matrix[i][j]=1/omega"
   ]
  },
  {
   "cell_type": "code",
   "execution_count": null,
   "id": "7bc8b4ac",
   "metadata": {},
   "outputs": [],
   "source": [
    "def compute_intensity(px, matrix, img):\n",
    "    intensity=[]\n",
    "    for t in range(0,img.shape[0],1):\n",
    "        kerneled_intensity=0\n",
    "        start_y=px[0]-math.floor(matrix.shape[0]/2)\n",
    "        start_x=px[1]-math.floor(matrix.shape[1]/2)\n",
    "        for y_i in range(0,matrix.shape[1],1):\n",
    "            for x_i in range(0,matrix.shape[1],1):\n",
    "                y_pixel=start_y+y_i\n",
    "                x_pixel=start_x+x_i\n",
    "                kerneled_intensity=kerneled_intensity+matrix[y_i,x_i]*img[t][y_pixel,x_pixel]\n",
    "        intensity_t=kerneled_intensity\n",
    "        intensity.append(intensity_t)\n",
    "\n",
    "    plt.figure(figsize=(8,5))\n",
    "    #plt.ylim([0, 255])\n",
    "    plt.plot(range(0,img.shape[0],1),intensity,'-')\n",
    "    plt.legend(['Intensity vs Time'], fontsize=18)\n",
    "    plt.xlabel(\"Time [s]\",fontsize=18)\n",
    "    plt.ylabel(\"Intensity\",fontsize=18)\n",
    "    \n",
    "    return intensity"
   ]
  },
  {
   "cell_type": "code",
   "execution_count": null,
   "id": "dadf2060",
   "metadata": {},
   "outputs": [],
   "source": [
    "def compute_g2t(px,laglist_g2t, matrix):\n",
    "    intensity=compute_intensity(px, matrix, img)\n",
    "    g2t=[]\n",
    "    for lag in laglist_g2t:\n",
    "        numerator_sum=0\n",
    "        denumerator_sum_1=0\n",
    "        denumerator_sum_2=0\n",
    "        max_t_range=img.shape[0]-lag\n",
    "        for t in range(0,max_t_range,1):\n",
    "            numerator_sum=numerator_sum+int(intensity[t])*int(intensity[t+lag])\n",
    "            denumerator_sum_1=denumerator_sum_1+int(intensity[t])\n",
    "            denumerator_sum_2=denumerator_sum_2+int(intensity[t+lag])\n",
    "        numerator=numerator_sum/max_t_range\n",
    "        denumerator_1=denumerator_sum_1/max_t_range\n",
    "        denumerator_2=denumerator_sum_2/max_t_range\n",
    "        g2t.append((numerator/denumerator_1/denumerator_2)-1)\n",
    "    return g2t, intensity"
   ]
  },
  {
   "cell_type": "code",
   "execution_count": null,
   "id": "cebfb529",
   "metadata": {},
   "outputs": [],
   "source": [
    "laglist_g2t=range(0,500,1)\n",
    "px=[10,100] #[y,x]\n",
    "g2t,intensity=compute_g2t(px,laglist_g2t,matrix)"
   ]
  },
  {
   "cell_type": "code",
   "execution_count": null,
   "id": "1a7ef539",
   "metadata": {},
   "outputs": [],
   "source": [
    "plt.figure(figsize=(8,5))\n",
    "plt.plot(laglist_g2t,g2t,'.')\n",
    "plt.legend(['g2t vs laglist'], fontsize=18)\n",
    "plt.xlabel(\"Laglist\",fontsize=18)\n",
    "plt.ylabel(\"g2(t)\",fontsize=18)"
   ]
  },
  {
   "cell_type": "code",
   "execution_count": null,
   "id": "bc80156e",
   "metadata": {},
   "outputs": [],
   "source": [
    "lagtime_g2t= [element * framespeed for element in laglist_g2t]\n",
    "\n",
    "plt.figure(figsize=(8,5))\n",
    "plt.plot(lagtime_g2t,g2t,'.')\n",
    "plt.legend(['g2t vs lagtime'], fontsize=18)\n",
    "plt.xlabel(\"Lagtime\",fontsize=18)\n",
    "plt.ylabel(\"g2(t)\",fontsize=18)"
   ]
  },
  {
   "cell_type": "markdown",
   "id": "6814b04b",
   "metadata": {},
   "source": [
    "# Normalization"
   ]
  },
  {
   "cell_type": "code",
   "execution_count": null,
   "id": "8a0abed4",
   "metadata": {},
   "outputs": [],
   "source": [
    "g2t_normalized=np.array(g2t)/g2t[0]"
   ]
  },
  {
   "cell_type": "code",
   "execution_count": null,
   "id": "74c35efe",
   "metadata": {},
   "outputs": [],
   "source": [
    "lagtime_g2t= [element * framespeed for element in laglist_g2t]\n",
    "\n",
    "plt.figure(figsize=(8,5))\n",
    "plt.plot(lagtime_g2t,g2t_normalized,'.')\n",
    "plt.legend(['g2t vs lagtime'], fontsize=18)\n",
    "plt.xlabel(\"Lagtime\",fontsize=18)\n",
    "plt.ylabel(\"g2(t)\",fontsize=18)"
   ]
  },
  {
   "cell_type": "code",
   "execution_count": null,
   "id": "a8c090b6",
   "metadata": {},
   "outputs": [],
   "source": [
    "g2t[0]"
   ]
  },
  {
   "cell_type": "markdown",
   "id": "a180c11c",
   "metadata": {},
   "source": [
    "# Correlation averaging over pixels"
   ]
  },
  {
   "cell_type": "code",
   "execution_count": 9,
   "id": "c8f767f7",
   "metadata": {},
   "outputs": [],
   "source": [
    "def compute_g2t_wo_kernel(px,laglist_g2t):\n",
    "    intensity=[]\n",
    "    for t in range(0,img.shape[0],1):\n",
    "        intensity.append(img[t][px[0],px[1]])\n",
    "        \n",
    "    g2t=[]\n",
    "    for lag in laglist_g2t:\n",
    "        numerator_sum=0\n",
    "        denumerator_sum_1=0\n",
    "        denumerator_sum_2=0\n",
    "        max_t_range=img.shape[0]-lag\n",
    "        for t in range(0,max_t_range,1):\n",
    "            numerator_sum=numerator_sum+int(intensity[t])*int(intensity[t+lag])\n",
    "            denumerator_sum_1=denumerator_sum_1+int(intensity[t])\n",
    "            denumerator_sum_2=denumerator_sum_2+int(intensity[t+lag])\n",
    "        numerator=numerator_sum/max_t_range\n",
    "        denumerator_1=denumerator_sum_1/max_t_range\n",
    "        denumerator_2=denumerator_sum_2/max_t_range\n",
    "        g2t.append((numerator/denumerator_1/denumerator_2)-1)\n",
    "    return g2t"
   ]
  },
  {
   "cell_type": "code",
   "execution_count": 10,
   "id": "02488c18",
   "metadata": {},
   "outputs": [],
   "source": [
    "laglist_g2t=range(0,500,1)\n",
    "averaged_g2t=[]\n",
    "for y in range(30,90,1):\n",
    "    for x in range(30,90,1):\n",
    "        px=[y,x]\n",
    "        g2t=compute_g2t_wo_kernel(px,laglist_g2t)\n",
    "        averaged_g2t.append(g2t)"
   ]
  },
  {
   "cell_type": "code",
   "execution_count": 11,
   "id": "89df3fc4",
   "metadata": {},
   "outputs": [],
   "source": [
    "average_g2t=np.mean(averaged_g2t,axis=0)"
   ]
  },
  {
   "cell_type": "code",
   "execution_count": 12,
   "id": "0b710f22",
   "metadata": {},
   "outputs": [
    {
     "data": {
      "text/plain": [
       "Text(0, 0.5, 'g2(t)')"
      ]
     },
     "execution_count": 12,
     "metadata": {},
     "output_type": "execute_result"
    },
    {
     "data": {
      "image/png": "[encoded data removed]",
      "text/plain": [
       "<Figure size 576x360 with 1 Axes>"
      ]
     },
     "metadata": {
      "needs_background": "light"
     },
     "output_type": "display_data"
    }
   ],
   "source": [
    "plt.figure(figsize=(8,5))\n",
    "plt.plot(laglist_g2t,average_g2t,'.')\n",
    "plt.legend(['g2t vs laglist'], fontsize=18)\n",
    "plt.xlabel(\"Laglist\",fontsize=18)\n",
    "plt.ylabel(\"g2(t)\",fontsize=18)"
   ]
  },
  {
   "cell_type": "markdown",
   "id": "80274a63",
   "metadata": {},
   "source": [
    "# Fitting tau"
   ]
  },
  {
   "cell_type": "code",
   "execution_count": 35,
   "id": "b30ee055",
   "metadata": {},
   "outputs": [
    {
     "name": "stdout",
     "output_type": "stream",
     "text": [
      "tau is: 0.14551889663202283\n",
      "y = -6.87196 * x + -2.75249\n"
     ]
    },
    {
     "data": {
      "image/png": "[encoded data removed]",
      "text/plain": [
       "<Figure size 432x288 with 1 Axes>"
      ]
     },
     "metadata": {
      "needs_background": "light"
     },
     "output_type": "display_data"
    }
   ],
   "source": [
    "lagtime_g2t= [element * framespeed for element in laglist_g2t]\n",
    "plateau=0 #np.mean(g2t[-200:-1])\n",
    "tau, a, b=fit_exponential_decay(plateau,np.array(average_g2t),lagtime_g2t,0,10, True)"
   ]
  },
  {
   "cell_type": "code",
   "execution_count": 36,
   "id": "18ee7ed0",
   "metadata": {},
   "outputs": [
    {
     "data": {
      "image/png": "[encoded data removed]",
      "text/plain": [
       "<Figure size 576x360 with 1 Axes>"
      ]
     },
     "metadata": {
      "needs_background": "light"
     },
     "output_type": "display_data"
    }
   ],
   "source": [
    "reconstruct(lagtime_g2t,plateau,np.array(average_g2t),a,b)"
   ]
  },
  {
   "cell_type": "code",
   "execution_count": 37,
   "id": "623b3616",
   "metadata": {},
   "outputs": [],
   "source": [
    "# calculate q\n",
    "angle=180\n",
    "lamda=405 #nm\n",
    "k=2*math.pi/lamda\n",
    "q=2*k*math.sin(math.radians(angle/2))*10**(9)"
   ]
  },
  {
   "cell_type": "code",
   "execution_count": 38,
   "id": "698f965f",
   "metadata": {},
   "outputs": [
    {
     "name": "stdout",
     "output_type": "stream",
     "text": [
      "3.568953829103e-15\n"
     ]
    }
   ],
   "source": [
    "D=a/(-2*q**2)\n",
    "print(D)"
   ]
  },
  {
   "cell_type": "markdown",
   "id": "90b3f2ab",
   "metadata": {},
   "source": [
    "# Expected g2t:\n",
    "We know $D=\\frac{kt}{6\\pi\\eta r}$, $g2t=\\exp(-2Dq^2dt)$"
   ]
  },
  {
   "cell_type": "code",
   "execution_count": null,
   "id": "248d6b28",
   "metadata": {},
   "outputs": [],
   "source": [
    "kb=1.380649*10**(-23) # J*K^(-1)\n",
    "T=270 # K\n",
    "eta=1.412 # Pa*S\n",
    "r=50*10**(-9) # m\n",
    "D=kb*T/(6*math.pi*eta*r) #m^2/s\n",
    "print(D) #m^2/s"
   ]
  },
  {
   "cell_type": "code",
   "execution_count": null,
   "id": "8886295e",
   "metadata": {},
   "outputs": [],
   "source": [
    "lagtime_g2t=np.array(lagtime_g2t)\n",
    "g2t_expected=np.exp(-2*D*(q**2)*lagtime_g2t)"
   ]
  },
  {
   "cell_type": "code",
   "execution_count": null,
   "id": "f66167fd",
   "metadata": {},
   "outputs": [],
   "source": [
    "plt.figure(figsize=(8,5))\n",
    "plt.plot(lagtime_g2t,g2t_expected,'.')\n",
    "plt.legend(['g2t expected vs lagtime'], fontsize=18)\n",
    "plt.xlabel(\"Lagtime\",fontsize=18)\n",
    "plt.ylabel(\"g2(t) expected\",fontsize=18)"
   ]
  },
  {
   "cell_type": "code",
   "execution_count": null,
   "id": "a896e733",
   "metadata": {},
   "outputs": [],
   "source": []
  }
 ],
 "metadata": {
  "kernelspec": {
   "display_name": "Python 3",
   "language": "python",
   "name": "python3"
  },
  "language_info": {
   "codemirror_mode": {
    "name": "ipython",
    "version": 3
   },
   "file_extension": ".py",
   "mimetype": "text/x-python",
   "name": "python",
   "nbconvert_exporter": "python",
   "pygments_lexer": "ipython3",
   "version": "3.8.13"
  }
 },
 "nbformat": 4,
 "nbformat_minor": 5
}
