{
 "cells": [
  {
   "cell_type": "code",
   "execution_count": 2,
   "id": "8b97b73a-c020-480c-96ab-117222794d39",
   "metadata": {},
   "outputs": [],
   "source": [
    "from PIL import Image\n",
    "import matplotlib.pyplot as plt\n",
    "import numpy as np\n",
    "import numpy as np\n",
    "from ellipse import LsqEllipse\n",
    "import matplotlib.pyplot as plt\n",
    "from matplotlib.patches import Ellipse\n",
    "from skimage import io\n",
    "import matplotlib.pyplot as plt\n",
    "import math\n",
    "import pickle\n",
    "import statistics\n",
    "from statistics import mean\n",
    "from scipy.fft import fft, fftfreq\n",
    "from scipy.signal import find_peaks\n",
    "\n",
    "from numpy import arange\n",
    "from pandas import read_csv\n",
    "from scipy.optimize import curve_fit\n",
    "from matplotlib import pyplot\n",
    "import pickle"
   ]
  },
  {
   "cell_type": "code",
   "execution_count": 115,
   "id": "9dacde28-ee69-407e-9402-f1d44e4b39d9",
   "metadata": {},
   "outputs": [],
   "source": [
    "import speckle\n",
    "from speckle.inference.read_in_data import *\n",
    "from speckle.inference.correlation_heatmap import *\n",
    "from speckle.inference.calculating_tau import *\n",
    "from speckle.inference.dedrift import *"
   ]
  },
  {
   "cell_type": "code",
   "execution_count": 116,
   "id": "57cb420e-c89c-4ba0-b883-8009b7fbd60e",
   "metadata": {},
   "outputs": [],
   "source": [
    "def compute_g2t_wo_kernel(px,laglist_g2t):\n",
    "    intensity=[]\n",
    "    for t in range(0,img.shape[0],1):\n",
    "        intensity.append(img[t][px[0],px[1]])\n",
    "        \n",
    "    g2t=[]\n",
    "    for lag in laglist_g2t:\n",
    "        numerator_sum=0\n",
    "        denumerator_sum_1=0\n",
    "        denumerator_sum_2=0\n",
    "        max_t_range=5000\n",
    "        for t in range(0,max_t_range,1):\n",
    "            numerator_sum=numerator_sum+int(intensity[t])*int(intensity[t+lag])\n",
    "            denumerator_sum_1=denumerator_sum_1+int(intensity[t])\n",
    "            denumerator_sum_2=denumerator_sum_2+int(intensity[t+lag])\n",
    "        numerator=numerator_sum/max_t_range\n",
    "        denumerator_1=denumerator_sum_1/max_t_range\n",
    "        denumerator_2=denumerator_sum_2/max_t_range\n",
    "        g2t.append((numerator/denumerator_1/denumerator_2)-1)\n",
    "    return g2t"
   ]
  },
  {
   "cell_type": "markdown",
   "id": "42c92e33-bcc3-48a7-89c0-48f279d07066",
   "metadata": {},
   "source": [
    "# Viscosity of 0.05% glycerol (4 uL glycerol + 196 uL)"
   ]
  },
  {
   "cell_type": "markdown",
   "id": "4b387e04-5108-4345-be8d-8a809556b339",
   "metadata": {},
   "source": [
    "viscosity from Rheometer data"
   ]
  },
  {
   "cell_type": "code",
   "execution_count": 3,
   "id": "ea7aad32-9c9b-4076-9aa4-f2e2d4de8e76",
   "metadata": {},
   "outputs": [
    {
     "name": "stdout",
     "output_type": "stream",
     "text": [
      "6.1805025512946324e-15\n"
     ]
    }
   ],
   "source": [
    "#expected D\n",
    "kb=1.380649*10**(-23) # J*K^(-1)\n",
    "T=300 # K\n",
    "eta=0.658394 # Pa*S\n",
    "r=54*10**(-9) # m\n",
    "D=kb*T/(6*math.pi*eta*r) #m^2/s\n",
    "print(D) #m^2/s"
   ]
  },
  {
   "cell_type": "markdown",
   "id": "ebf9d850-9789-4099-959d-b2918fb6e9c0",
   "metadata": {},
   "source": [
    "# 0.05% 100nm in diameter PS beads in glycerol"
   ]
  },
  {
   "cell_type": "markdown",
   "id": "a3e7b277-5699-4faa-910e-a72883e2187b",
   "metadata": {},
   "source": [
    "## 10x Objective"
   ]
  },
  {
   "cell_type": "markdown",
   "id": "5d615d3b-5005-4d0f-90f5-fc1233cd9ef1",
   "metadata": {},
   "source": [
    "### 1 A.U.magnification"
   ]
  },
  {
   "cell_type": "code",
   "execution_count": 118,
   "id": "ed0b60c9-bb89-4e39-93fa-015869546219",
   "metadata": {},
   "outputs": [],
   "source": [
    "video_time_length=40 #s\n",
    "imgname='10xobj_50p405nm_0p46au_40s_0p05100nmbeads_in_glycerol'\n",
    "foldername='/Volumes/WENYUN WANG/20221109/'"
   ]
  },
  {
   "cell_type": "code",
   "execution_count": 119,
   "id": "35533082-4751-4b7c-8c9c-182be9644dfa",
   "metadata": {},
   "outputs": [],
   "source": [
    "# read the image stack\n",
    "img = io.imread(foldername+imgname+'.tif')\n",
    "frame_number=img.shape[0]\n",
    "img_height=img.shape[1]\n",
    "img_width=img.shape[2]\n",
    "framespeed=video_time_length/frame_number"
   ]
  },
  {
   "cell_type": "code",
   "execution_count": 120,
   "id": "8a5c5c28-6a01-4c4b-afee-1a3be5072597",
   "metadata": {},
   "outputs": [
    {
     "data": {
      "text/plain": [
       "0.005009392611145898"
      ]
     },
     "execution_count": 120,
     "metadata": {},
     "output_type": "execute_result"
    }
   ],
   "source": [
    "framespeed"
   ]
  },
  {
   "cell_type": "code",
   "execution_count": 121,
   "id": "ab5fdff4-623a-47e9-854e-402c2ba27029",
   "metadata": {},
   "outputs": [],
   "source": [
    "laglist_g2t=range(0,500,1)\n",
    "averaged_g2t=[]\n",
    "for y in range(10,11,1):\n",
    "    for x in range(19,20,1):\n",
    "        px=[y,x]\n",
    "        g2t=compute_g2t_wo_kernel(px,laglist_g2t)\n",
    "        averaged_g2t.append(g2t)"
   ]
  },
  {
   "cell_type": "code",
   "execution_count": 122,
   "id": "81084bad-5054-47eb-9fca-c248f12ba2e8",
   "metadata": {},
   "outputs": [],
   "source": [
    "average_g2t=np.mean(averaged_g2t,axis=0)\n",
    "pickle.dump(average_g2t, open(foldername+imgname+'_g2tcorrrelation_avg.p',\"wb\"))"
   ]
  },
  {
   "cell_type": "code",
   "execution_count": 123,
   "id": "896e3b50-329c-4e3b-b07a-c9bcf1f3ef6b",
   "metadata": {},
   "outputs": [],
   "source": [
    "average_g2t=pickle.load(open(foldername+imgname+'_g2tcorrrelation_avg.p', \"rb\"))\n",
    "laglist_g2t=range(0,len(average_g2t),1)\n",
    "lagtime_g2t= [element * framespeed for element in laglist_g2t]"
   ]
  },
  {
   "cell_type": "code",
   "execution_count": 124,
   "id": "c1f07416-2399-406c-b7ea-b52fc3fa20e4",
   "metadata": {},
   "outputs": [
    {
     "data": {
      "image/png": "[encoded data removed]",
      "text/plain": [
       "<Figure size 576x360 with 1 Axes>"
      ]
     },
     "metadata": {
      "needs_background": "light"
     },
     "output_type": "display_data"
    }
   ],
   "source": [
    "plt.figure(figsize=(8,5))\n",
    "plt.plot(lagtime_g2t[0:100],average_g2t[0:100],'.')\n",
    "plt.legend(['g2t vs laglist'], fontsize=18)\n",
    "plt.xlabel(\"Lagtime\",fontsize=18)\n",
    "plt.ylabel(\"g2(t)\",fontsize=18)\n",
    "plt.tick_params(direction='in')"
   ]
  },
  {
   "cell_type": "code",
   "execution_count": 125,
   "id": "14b2cb97-0a93-44cc-a643-ee53e7b2b055",
   "metadata": {},
   "outputs": [
    {
     "name": "stdout",
     "output_type": "stream",
     "text": [
      "tau is: 0.0432855527752917\n",
      "y = -23.10240 * x + -2.36249\n"
     ]
    },
    {
     "data": {
      "image/png": "[encoded data removed]",
      "text/plain": [
       "<Figure size 432x288 with 1 Axes>"
      ]
     },
     "metadata": {
      "needs_background": "light"
     },
     "output_type": "display_data"
    },
    {
     "name": "stdout",
     "output_type": "stream",
     "text": [
      "R square is 0.9945931634850986\n"
     ]
    }
   ],
   "source": [
    "lagtime_g2t= [element * framespeed for element in laglist_g2t]\n",
    "plateau=np.mean(average_g2t[100:200])\n",
    "tau, a, b=fit_exponential_decay_rsq(plateau,np.array(average_g2t),lagtime_g2t,1,10, True)"
   ]
  },
  {
   "cell_type": "code",
   "execution_count": 127,
   "id": "896809a0-8ddb-4752-8083-08530f0bd712",
   "metadata": {},
   "outputs": [
    {
     "data": {
      "image/png": "[encoded data removed]",
      "text/plain": [
       "<Figure size 576x360 with 1 Axes>"
      ]
     },
     "metadata": {
      "needs_background": "light"
     },
     "output_type": "display_data"
    }
   ],
   "source": [
    "reconstruct(lagtime_g2t[0:60],plateau,np.array(average_g2t[0:60]),a,b)\n",
    "#plt.ylim(0,0.1)\n",
    "#plt.xlim(0,lagtime_g2t[20])\n",
    "plt.yscale(\"log\")"
   ]
  },
  {
   "cell_type": "code",
   "execution_count": 130,
   "id": "d9bc6edd-d540-45d1-bb75-04eaa6530a3a",
   "metadata": {},
   "outputs": [
    {
     "name": "stdout",
     "output_type": "stream",
     "text": [
      "8.177702479145789e-09\n"
     ]
    }
   ],
   "source": [
    "msd=2*D*framespeed\n",
    "print(np.sqrt(msd))"
   ]
  },
  {
   "cell_type": "code",
   "execution_count": 79,
   "id": "3522782a-3f6a-4a50-ba3c-0f5010267112",
   "metadata": {},
   "outputs": [
    {
     "name": "stdout",
     "output_type": "stream",
     "text": [
      "4.461402385596081e-15\n"
     ]
    }
   ],
   "source": [
    "n=1.47\n",
    "angle=np.arange(180-19.77,180+19.77,1)\n",
    "lamda=405 #nm\n",
    "k=2*math.pi/lamda\n",
    "q=2*k*np.sin(np.radians(angle/2))*10**(9)*n\n",
    "\n",
    "q=np.mean(q)\n",
    "D=a/(-2*q**2)\n",
    "print(D)"
   ]
  },
  {
   "cell_type": "markdown",
   "id": "73477aa2-05c4-4e93-a557-bea2464971bb",
   "metadata": {},
   "source": [
    "# line scanning"
   ]
  },
  {
   "cell_type": "code",
   "execution_count": 80,
   "id": "0084948e-1511-498f-bcc8-39e06bbe3c2c",
   "metadata": {},
   "outputs": [],
   "source": [
    "video_time_length=40 #s\n",
    "imgname='10xobj_50p405nm_0p46au_40s_0p05100nmbeads_in_glycerol_line'\n",
    "foldername='/Volumes/WENYUN WANG/20221109/'"
   ]
  },
  {
   "cell_type": "code",
   "execution_count": 81,
   "id": "d7792e2f-2a98-46a9-9c12-b8494e8d8a19",
   "metadata": {},
   "outputs": [],
   "source": [
    "# read the image stack\n",
    "img = io.imread(foldername+imgname+'.tif')\n",
    "frame_number=img.shape[0]\n",
    "img_height=img.shape[1]\n",
    "img_width=img.shape[2]\n",
    "framespeed=video_time_length/frame_number"
   ]
  },
  {
   "cell_type": "code",
   "execution_count": 83,
   "id": "0929bd98-bced-47a7-9e78-91f62a9b8491",
   "metadata": {},
   "outputs": [
    {
     "data": {
      "text/plain": [
       "(273131, 1, 256)"
      ]
     },
     "execution_count": 83,
     "metadata": {},
     "output_type": "execute_result"
    }
   ],
   "source": [
    "img.shape"
   ]
  },
  {
   "cell_type": "code",
   "execution_count": 82,
   "id": "ff400a5a-9f7d-4b0f-9b98-71e8c5adce20",
   "metadata": {},
   "outputs": [
    {
     "data": {
      "text/plain": [
       "0.0001464498720394243"
      ]
     },
     "execution_count": 82,
     "metadata": {},
     "output_type": "execute_result"
    }
   ],
   "source": [
    "framespeed"
   ]
  },
  {
   "cell_type": "code",
   "execution_count": 105,
   "id": "5c52536c-ddca-40a7-a35d-30e36a59167d",
   "metadata": {},
   "outputs": [
    {
     "data": {
      "text/plain": [
       "76"
      ]
     },
     "execution_count": 105,
     "metadata": {},
     "output_type": "execute_result"
    }
   ],
   "source": [
    "img[0][0][126]"
   ]
  },
  {
   "cell_type": "code",
   "execution_count": 106,
   "id": "384ccf94-4bca-4988-8a50-c536fa0cc838",
   "metadata": {},
   "outputs": [],
   "source": [
    "laglist_g2t=range(0,500,1)\n",
    "averaged_g2t=[]\n",
    "for y in range(0,1,1):\n",
    "    for x in range(126,127,1):\n",
    "        px=[y,x]\n",
    "        g2t=compute_g2t_wo_kernel(px,laglist_g2t)\n",
    "        averaged_g2t.append(g2t)"
   ]
  },
  {
   "cell_type": "code",
   "execution_count": 107,
   "id": "c3781d82-b61b-4838-84b3-0dacb48097be",
   "metadata": {},
   "outputs": [],
   "source": [
    "average_g2t=np.mean(averaged_g2t,axis=0)\n",
    "pickle.dump(average_g2t, open(foldername+imgname+'_g2tcorrrelation_avg.p',\"wb\"))"
   ]
  },
  {
   "cell_type": "code",
   "execution_count": 108,
   "id": "f550906d-d141-40b9-b765-5da6db56b680",
   "metadata": {},
   "outputs": [],
   "source": [
    "average_g2t=pickle.load(open(foldername+imgname+'_g2tcorrrelation_avg.p', \"rb\"))\n",
    "laglist_g2t=range(0,len(average_g2t),1)\n",
    "lagtime_g2t= [element * framespeed for element in laglist_g2t]"
   ]
  },
  {
   "cell_type": "code",
   "execution_count": 109,
   "id": "cb11f4e4-7f70-4ffc-af55-54810202069e",
   "metadata": {},
   "outputs": [
    {
     "data": {
      "image/png": "[encoded data removed]",
      "text/plain": [
       "<Figure size 576x360 with 1 Axes>"
      ]
     },
     "metadata": {
      "needs_background": "light"
     },
     "output_type": "display_data"
    }
   ],
   "source": [
    "plt.figure(figsize=(8,5))\n",
    "plt.plot(lagtime_g2t[0:10],average_g2t[0:10],'.')\n",
    "plt.legend(['g2t vs laglist'], fontsize=18)\n",
    "plt.xlabel(\"Lagtime\",fontsize=18)\n",
    "plt.ylabel(\"g2(t)\",fontsize=18)\n",
    "plt.tick_params(direction='in')"
   ]
  },
  {
   "cell_type": "code",
   "execution_count": null,
   "id": "df447974-4fd0-497f-bde6-cfd99993a887",
   "metadata": {},
   "outputs": [],
   "source": []
  }
 ],
 "metadata": {
  "kernelspec": {
   "display_name": "Python 3",
   "language": "python",
   "name": "python3"
  },
  "language_info": {
   "codemirror_mode": {
    "name": "ipython",
    "version": 3
   },
   "file_extension": ".py",
   "mimetype": "text/x-python",
   "name": "python",
   "nbconvert_exporter": "python",
   "pygments_lexer": "ipython3",
   "version": "3.9.7 (v3.9.7:1016ef3790, Aug 30 2021, 16:25:35) \n[Clang 12.0.5 (clang-1205.0.22.11)]"
  },
  "vscode": {
   "interpreter": {
    "hash": "aee8b7b246df8f9039afb4144a1f6fd8d2ca17a180786b69acc140d282b71a49"
   }
  }
 },
 "nbformat": 4,
 "nbformat_minor": 5
}
