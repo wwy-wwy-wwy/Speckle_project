{
 "cells": [
  {
   "cell_type": "code",
   "execution_count": null,
   "id": "0f0e3cb3",
   "metadata": {},
   "outputs": [],
   "source": [
    "from PIL import Image\n",
    "import matplotlib.pyplot as plt\n",
    "import numpy as np\n",
    "import numpy as np\n",
    "from ellipse import LsqEllipse\n",
    "import matplotlib.pyplot as plt\n",
    "from matplotlib.patches import Ellipse\n",
    "from skimage import io\n",
    "import matplotlib.pyplot as plt\n",
    "import math\n",
    "import pickle\n",
    "import statistics\n",
    "from statistics import mean\n",
    "from scipy.fft import fft, fftfreq\n",
    "from scipy.signal import find_peaks\n",
    "\n",
    "\n",
    "from numpy import arange\n",
    "from pandas import read_csv\n",
    "from scipy.optimize import curve_fit\n",
    "from matplotlib import pyplot"
   ]
  },
  {
   "cell_type": "code",
   "execution_count": 2,
   "id": "e5e53404",
   "metadata": {},
   "outputs": [],
   "source": [
    "import speckle\n",
    "from speckle.inference.read_in_data import *\n",
    "from speckle.inference.correlation_heatmap import *\n",
    "from speckle.inference.calculating_tau import *\n",
    "from speckle.inference.dedrift import *"
   ]
  },
  {
   "cell_type": "code",
   "execution_count": 3,
   "id": "a029f10c",
   "metadata": {},
   "outputs": [],
   "source": [
    "%matplotlib inline\n",
    "import matplotlib.pyplot as plt\n",
    "import numpy as np\n",
    "import os\n",
    "import DSH\n",
    "import matplotlib.pyplot as plt"
   ]
  },
  {
   "cell_type": "code",
   "execution_count": 4,
   "id": "e27d0fb6",
   "metadata": {},
   "outputs": [],
   "source": [
    "video_time_length=120 #s\n",
    "video_frame_numbers=6094 #frames\n",
    "imgname='60p_405nm_2min_1wt_50nm_20xobj_30xmagn_111p1umhigh'\n",
    "foldername='/Volumes/WENYUN WANG/Colloidal analysis/60p_405nm_2min_1wt_50nm_20xobj_30xmagn_111p1umhigh/'\n",
    "framespeed=video_time_length/video_frame_numbers"
   ]
  },
  {
   "cell_type": "code",
   "execution_count": 5,
   "id": "5400e690",
   "metadata": {},
   "outputs": [],
   "source": [
    "# read the image stack\n",
    "img = io.imread(foldername+imgname+'.tif')\n",
    "frame_number=img.shape[0]\n",
    "img_height=img.shape[1]\n",
    "img_width=img.shape[2]"
   ]
  },
  {
   "cell_type": "code",
   "execution_count": 6,
   "id": "a811cf63",
   "metadata": {},
   "outputs": [
    {
     "data": {
      "text/plain": [
       "(6094, 128, 128)"
      ]
     },
     "execution_count": 6,
     "metadata": {},
     "output_type": "execute_result"
    }
   ],
   "source": [
    "img.shape"
   ]
  },
  {
   "cell_type": "markdown",
   "id": "5f492898",
   "metadata": {},
   "source": [
    "# Speckle size"
   ]
  },
  {
   "cell_type": "markdown",
   "id": "e31836d4",
   "metadata": {},
   "source": [
    "The size is :2.041241452319315 pixel\n",
    "\n",
    "The size is :0.22552911338312379 um"
   ]
  },
  {
   "cell_type": "markdown",
   "id": "75a63d9e",
   "metadata": {},
   "source": [
    "# Averaging over kernel"
   ]
  },
  {
   "cell_type": "code",
   "execution_count": 15,
   "id": "329266a1",
   "metadata": {},
   "outputs": [],
   "source": [
    "# create matrix:\n",
    "w=1\n",
    "h=1\n",
    "omega=w*h\n",
    "matrix=np.zeros((w,h))\n",
    "for i in range(0,w):\n",
    "    for j in range(0,h):\n",
    "        matrix[i][j]=1/omega"
   ]
  },
  {
   "cell_type": "code",
   "execution_count": 8,
   "id": "94968455",
   "metadata": {},
   "outputs": [],
   "source": [
    "def compute_intensity(px, matrix, img):\n",
    "    intensity=[]\n",
    "    for t in range(0,img.shape[0],1):\n",
    "        kerneled_intensity=0\n",
    "        start_y=px[0]-math.floor(matrix.shape[0]/2)\n",
    "        start_x=px[1]-math.floor(matrix.shape[1]/2)\n",
    "        for y_i in range(0,matrix.shape[1],1):\n",
    "            for x_i in range(0,matrix.shape[1],1):\n",
    "                y_pixel=start_y+y_i\n",
    "                x_pixel=start_x+x_i\n",
    "                kerneled_intensity=kerneled_intensity+matrix[y_i,x_i]*img[t][y_pixel,x_pixel]\n",
    "        intensity_t=kerneled_intensity\n",
    "        intensity.append(intensity_t)\n",
    "\n",
    "#     plt.figure(figsize=(8,5))\n",
    "#     #plt.ylim([0, 255])\n",
    "#     plt.plot(range(0,img.shape[0],1),intensity,'-')\n",
    "#     plt.legend(['Intensity vs Time'], fontsize=18)\n",
    "#     plt.xlabel(\"Time [s]\",fontsize=18)\n",
    "#     plt.ylabel(\"Intensity\",fontsize=18)\n",
    "    \n",
    "    return intensity"
   ]
  },
  {
   "cell_type": "code",
   "execution_count": 9,
   "id": "1ebc82e6",
   "metadata": {},
   "outputs": [],
   "source": [
    "def compute_g2t(px,laglist_g2t, matrix):\n",
    "    intensity=compute_intensity(px, matrix, img)\n",
    "    g2t=[]\n",
    "    for lag in laglist_g2t:\n",
    "        numerator_sum=0\n",
    "        denumerator_sum_1=0\n",
    "        denumerator_sum_2=0\n",
    "        max_t_range=img.shape[0]-lag\n",
    "        for t in range(0,max_t_range,1):\n",
    "            numerator_sum=numerator_sum+int(intensity[t])*int(intensity[t+lag])\n",
    "            denumerator_sum_1=denumerator_sum_1+int(intensity[t])\n",
    "            denumerator_sum_2=denumerator_sum_2+int(intensity[t+lag])\n",
    "        numerator=numerator_sum/max_t_range\n",
    "        denumerator_1=denumerator_sum_1/max_t_range\n",
    "        denumerator_2=denumerator_sum_2/max_t_range\n",
    "        g2t.append((numerator/denumerator_1/denumerator_2)-1)\n",
    "    return g2t, intensity"
   ]
  },
  {
   "cell_type": "code",
   "execution_count": 10,
   "id": "b560377d",
   "metadata": {},
   "outputs": [],
   "source": [
    "laglist_g2t=range(0,1000,1)\n",
    "px=[100,100] #[y,x]\n",
    "g2t,intensity=compute_g2t(px,laglist_g2t,matrix)"
   ]
  },
  {
   "cell_type": "code",
   "execution_count": 11,
   "id": "6b331134",
   "metadata": {},
   "outputs": [
    {
     "data": {
      "text/plain": [
       "Text(0, 0.5, 'g2(t)')"
      ]
     },
     "execution_count": 11,
     "metadata": {},
     "output_type": "execute_result"
    },
    {
     "data": {
      "image/png": "[encoded data removed]",
      "text/plain": [
       "<Figure size 576x360 with 1 Axes>"
      ]
     },
     "metadata": {
      "needs_background": "light"
     },
     "output_type": "display_data"
    }
   ],
   "source": [
    "plt.figure(figsize=(8,5))\n",
    "plt.plot(laglist_g2t,g2t,'.')\n",
    "plt.legend(['g2t vs laglist'], fontsize=18)\n",
    "plt.xlabel(\"Laglist\",fontsize=18)\n",
    "plt.ylabel(\"g2(t)\",fontsize=18)"
   ]
  },
  {
   "cell_type": "code",
   "execution_count": 12,
   "id": "4ac693fe",
   "metadata": {},
   "outputs": [
    {
     "data": {
      "text/plain": [
       "Text(0, 0.5, 'g2(t)')"
      ]
     },
     "execution_count": 12,
     "metadata": {},
     "output_type": "execute_result"
    },
    {
     "data": {
      "image/png": "[encoded data removed]",
      "text/plain": [
       "<Figure size 576x360 with 1 Axes>"
      ]
     },
     "metadata": {
      "needs_background": "light"
     },
     "output_type": "display_data"
    }
   ],
   "source": [
    "lagtime_g2t= [element * framespeed for element in laglist_g2t]\n",
    "\n",
    "plt.figure(figsize=(8,5))\n",
    "plt.plot(lagtime_g2t,g2t,'.')\n",
    "plt.legend(['g2t vs lagtime'], fontsize=18)\n",
    "plt.xlabel(\"Lagtime\",fontsize=18)\n",
    "plt.ylabel(\"g2(t)\",fontsize=18)"
   ]
  },
  {
   "cell_type": "markdown",
   "id": "53e65d44",
   "metadata": {},
   "source": [
    "# Average over all pixels"
   ]
  },
  {
   "cell_type": "code",
   "execution_count": 20,
   "id": "278e278e",
   "metadata": {},
   "outputs": [],
   "source": [
    "averaged_g2t=[]\n",
    "for y in range(10,20,1):\n",
    "    for x in range(10,20,1):\n",
    "        px=[y,x]\n",
    "        g2t,intensity=compute_g2t(px,laglist_g2t,matrix)\n",
    "        averaged_g2t.append(g2t)"
   ]
  },
  {
   "cell_type": "code",
   "execution_count": 25,
   "id": "a419fffd",
   "metadata": {},
   "outputs": [],
   "source": [
    "average_g2t=np.mean(averaged_g2t,axis=0)"
   ]
  },
  {
   "cell_type": "code",
   "execution_count": 26,
   "id": "44684061",
   "metadata": {},
   "outputs": [
    {
     "data": {
      "text/plain": [
       "Text(0, 0.5, 'g2(t)')"
      ]
     },
     "execution_count": 26,
     "metadata": {},
     "output_type": "execute_result"
    },
    {
     "data": {
      "image/png": "[encoded data removed]",
      "text/plain": [
       "<Figure size 576x360 with 1 Axes>"
      ]
     },
     "metadata": {
      "needs_background": "light"
     },
     "output_type": "display_data"
    }
   ],
   "source": [
    "plt.figure(figsize=(8,5))\n",
    "plt.plot(laglist_g2t,average_g2t,'.')\n",
    "plt.legend(['g2t vs laglist'], fontsize=18)\n",
    "plt.xlabel(\"Laglist\",fontsize=18)\n",
    "plt.ylabel(\"g2(t)\",fontsize=18)"
   ]
  },
  {
   "cell_type": "markdown",
   "id": "989ecb81",
   "metadata": {},
   "source": [
    "# Normalization"
   ]
  },
  {
   "cell_type": "code",
   "execution_count": null,
   "id": "8f6696c8",
   "metadata": {},
   "outputs": [],
   "source": [
    "g2t_normalized=np.array(g2t)/g2t[0]"
   ]
  },
  {
   "cell_type": "code",
   "execution_count": null,
   "id": "229d6505",
   "metadata": {},
   "outputs": [],
   "source": [
    "lagtime_g2t= [element * framespeed for element in laglist_g2t]\n",
    "\n",
    "plt.figure(figsize=(8,5))\n",
    "plt.plot(lagtime_g2t,g2t_normalized,'.')\n",
    "plt.legend(['g2t vs lagtime'], fontsize=18)\n",
    "plt.xlabel(\"Lagtime\",fontsize=18)\n",
    "plt.ylabel(\"g2(t)\",fontsize=18)"
   ]
  },
  {
   "cell_type": "code",
   "execution_count": null,
   "id": "d081b479",
   "metadata": {},
   "outputs": [],
   "source": [
    "g2t[0]"
   ]
  },
  {
   "cell_type": "markdown",
   "id": "29fbdb67",
   "metadata": {},
   "source": [
    "# Fitting tau"
   ]
  },
  {
   "cell_type": "code",
   "execution_count": null,
   "id": "4073a6c6",
   "metadata": {},
   "outputs": [],
   "source": [
    "plateau=np.mean(g2t[-200:-1])\n",
    "tau, a, b=fit_exponential_decay(plateau,np.array(g2t),lagtime_g2t,0,15, True)"
   ]
  },
  {
   "cell_type": "code",
   "execution_count": null,
   "id": "5e99e4f8",
   "metadata": {},
   "outputs": [],
   "source": [
    "reconstruct(lagtime_g2t,plateau,np.array(g2t),a,b)"
   ]
  },
  {
   "cell_type": "code",
   "execution_count": null,
   "id": "da987fd2",
   "metadata": {},
   "outputs": [],
   "source": [
    "# calculate q\n",
    "angle=180\n",
    "lamda=488 #nm\n",
    "k=2*math.pi/lamda\n",
    "q=2*k*math.sin(math.radians(angle/2))*10**(9)"
   ]
  },
  {
   "cell_type": "code",
   "execution_count": null,
   "id": "63d32572",
   "metadata": {},
   "outputs": [],
   "source": [
    "D=a/(-2*q**2)\n",
    "print(D)"
   ]
  },
  {
   "cell_type": "markdown",
   "id": "a2daa8e4",
   "metadata": {},
   "source": [
    "# Expected g2t:\n",
    "We know $D=\\frac{kt}{6\\pi\\eta r}$, $g2t=\\exp(-2Dq^2dt)$"
   ]
  },
  {
   "cell_type": "code",
   "execution_count": null,
   "id": "46843403",
   "metadata": {},
   "outputs": [],
   "source": [
    "kb=1.380649*10**(-23) # J*K^(-1)\n",
    "T=270 # K\n",
    "eta=1.412 # Pa*S\n",
    "r=25*10**(-9) # m\n",
    "D=kb*T/(6*math.pi*eta*r) #m^2/s\n",
    "print(D) #m^2/s"
   ]
  },
  {
   "cell_type": "code",
   "execution_count": null,
   "id": "d342c096",
   "metadata": {},
   "outputs": [],
   "source": [
    "lagtime_g2t=np.array(lagtime_g2t)\n",
    "g2t_expected=np.exp(-2*D*(q**2)*lagtime_g2t)"
   ]
  },
  {
   "cell_type": "code",
   "execution_count": null,
   "id": "87a1c1ae",
   "metadata": {},
   "outputs": [],
   "source": [
    "plt.figure(figsize=(8,5))\n",
    "plt.plot(lagtime_g2t,g2t_expected,'.')\n",
    "plt.legend(['g2t expected vs lagtime'], fontsize=18)\n",
    "plt.xlabel(\"Lagtime\",fontsize=18)\n",
    "plt.ylabel(\"g2(t) expected\",fontsize=18)"
   ]
  },
  {
   "cell_type": "code",
   "execution_count": null,
   "id": "f0f21e27",
   "metadata": {},
   "outputs": [],
   "source": []
  }
 ],
 "metadata": {
  "kernelspec": {
   "display_name": "Python 3",
   "language": "python",
   "name": "python3"
  },
  "language_info": {
   "codemirror_mode": {
    "name": "ipython",
    "version": 3
   },
   "file_extension": ".py",
   "mimetype": "text/x-python",
   "name": "python",
   "nbconvert_exporter": "python",
   "pygments_lexer": "ipython3",
   "version": "3.8.13"
  }
 },
 "nbformat": 4,
 "nbformat_minor": 5
}
