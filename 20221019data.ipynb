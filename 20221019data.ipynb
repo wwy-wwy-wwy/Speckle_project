{
 "cells": [
  {
   "cell_type": "code",
   "execution_count": 179,
   "id": "9c8e8ecd-363a-43e0-8ee7-5e3fa9055f00",
   "metadata": {},
   "outputs": [],
   "source": [
    "from PIL import Image\n",
    "import matplotlib.pyplot as plt\n",
    "import numpy as np\n",
    "import numpy as np\n",
    "from ellipse import LsqEllipse\n",
    "import matplotlib.pyplot as plt\n",
    "from matplotlib.patches import Ellipse\n",
    "from skimage import io\n",
    "import matplotlib.pyplot as plt\n",
    "import math\n",
    "import pickle\n",
    "import statistics\n",
    "from statistics import mean\n",
    "from scipy.fft import fft, fftfreq\n",
    "from scipy.signal import find_peaks\n",
    "\n",
    "from numpy import arange\n",
    "from pandas import read_csv\n",
    "from scipy.optimize import curve_fit\n",
    "from matplotlib import pyplot\n",
    "import pickle"
   ]
  },
  {
   "cell_type": "code",
   "execution_count": 180,
   "id": "cd4b8db9-cf10-487e-b804-86d900838c43",
   "metadata": {},
   "outputs": [],
   "source": [
    "%matplotlib inline\n",
    "import matplotlib.pyplot as plt\n",
    "import os\n",
    "\n",
    "import seaborn as sns\n",
    "import DSH\n",
    "from DSH import Kernel\n",
    "from DSH import MIfile as MI\n",
    "from DSH import CorrMaps as CM"
   ]
  },
  {
   "cell_type": "code",
   "execution_count": 181,
   "id": "01f517dc-8f67-4a65-8863-4b37783d15d2",
   "metadata": {},
   "outputs": [],
   "source": [
    "import speckle\n",
    "from speckle.inference.read_in_data import *\n",
    "from speckle.inference.correlation_heatmap import *\n",
    "from speckle.inference.calculating_tau import *\n",
    "from speckle.inference.dedrift import *"
   ]
  },
  {
   "cell_type": "code",
   "execution_count": 182,
   "id": "c103c726-2db0-4591-aa01-1659dcda4a43",
   "metadata": {},
   "outputs": [],
   "source": [
    "def compute_g2t_wo_kernel(px,laglist_g2t):\n",
    "    intensity=[]\n",
    "    for t in range(0,img.shape[0],1):\n",
    "        intensity.append(img[t][px[0],px[1]])\n",
    "        \n",
    "    g2t=[]\n",
    "    for lag in laglist_g2t:\n",
    "        numerator_sum=0\n",
    "        denumerator_sum_1=0\n",
    "        denumerator_sum_2=0\n",
    "        max_t_range=len(intensity)-lag\n",
    "        for t in range(0,max_t_range,1):\n",
    "            numerator_sum=numerator_sum+int(intensity[t])*int(intensity[t+lag])\n",
    "            denumerator_sum_1=denumerator_sum_1+int(intensity[t])\n",
    "            denumerator_sum_2=denumerator_sum_2+int(intensity[t+lag])\n",
    "        numerator=numerator_sum/max_t_range\n",
    "        denumerator_1=denumerator_sum_1/max_t_range\n",
    "        denumerator_2=denumerator_sum_2/max_t_range\n",
    "        g2t.append((numerator/denumerator_1/denumerator_2)-1)\n",
    "    return g2t"
   ]
  },
  {
   "cell_type": "code",
   "execution_count": 183,
   "id": "6a32d41e-4640-4bdd-a8d3-b7e18407840b",
   "metadata": {},
   "outputs": [],
   "source": [
    "w=7\n",
    "h=7\n",
    "omega=w*h\n",
    "matrix=np.zeros((w,h))\n",
    "for i in range(0,w):\n",
    "    for j in range(0,h):\n",
    "        matrix[i][j]=1/omega"
   ]
  },
  {
   "cell_type": "code",
   "execution_count": 184,
   "id": "b0348fa3-3c79-4eb4-8d69-07986fab6fe0",
   "metadata": {},
   "outputs": [],
   "source": [
    "def compute_intensity(px, matrix, img):\n",
    "    intensity=[]\n",
    "    for t in range(0,img.shape[0],1):\n",
    "        kerneled_intensity=0\n",
    "        start_y=px[0]-math.floor(matrix.shape[0]/2)\n",
    "        start_x=px[1]-math.floor(matrix.shape[1]/2)\n",
    "        for y_i in range(0,matrix.shape[1],1):\n",
    "            for x_i in range(0,matrix.shape[1],1):\n",
    "                y_pixel=start_y+y_i\n",
    "                x_pixel=start_x+x_i\n",
    "                kerneled_intensity=kerneled_intensity+matrix[y_i,x_i]*img[t][y_pixel,x_pixel]\n",
    "        intensity_t=kerneled_intensity\n",
    "        intensity.append(intensity_t)\n",
    "\n",
    "#     plt.figure(figsize=(8,5))\n",
    "#     #plt.ylim([0, 255])\n",
    "#     plt.plot(range(0,img.shape[0],1),intensity,'-')\n",
    "#     plt.legend(['Intensity vs Time'], fontsize=18)\n",
    "#     plt.xlabel(\"Time [s]\",fontsize=18)\n",
    "#     plt.ylabel(\"Intensity\",fontsize=18)\n",
    "    \n",
    "    return intensity"
   ]
  },
  {
   "cell_type": "code",
   "execution_count": 185,
   "id": "c342507b-abdc-45b4-b5d9-f177c072f32b",
   "metadata": {},
   "outputs": [],
   "source": [
    "def compute_g2t(px,laglist_g2t, matrix):\n",
    "    intensity=compute_intensity(px, matrix, img)\n",
    "    g2t=[]\n",
    "    for lag in laglist_g2t:\n",
    "        numerator_sum=0\n",
    "        denumerator_sum_1=0\n",
    "        denumerator_sum_2=0\n",
    "        max_t_range=img.shape[0]-lag\n",
    "        for t in range(0,max_t_range,1):\n",
    "            numerator_sum=numerator_sum+int(intensity[t])*int(intensity[t+lag])\n",
    "            denumerator_sum_1=denumerator_sum_1+int(intensity[t])\n",
    "            denumerator_sum_2=denumerator_sum_2+int(intensity[t+lag])\n",
    "        numerator=numerator_sum/max_t_range\n",
    "        denumerator_1=denumerator_sum_1/max_t_range\n",
    "        denumerator_2=denumerator_sum_2/max_t_range\n",
    "        g2t.append((numerator/denumerator_1/denumerator_2)-1)\n",
    "    return g2t, intensity"
   ]
  },
  {
   "cell_type": "markdown",
   "id": "e2236b91-e3bc-4498-8a6d-19a8affbb223",
   "metadata": {},
   "source": [
    "# 10xobjective 0.26au HS gel ground glass 1avg"
   ]
  },
  {
   "cell_type": "code",
   "execution_count": 366,
   "id": "d9536a2f-b2cf-40eb-b04b-e23785cdfa52",
   "metadata": {},
   "outputs": [],
   "source": [
    "video_time_length=60 #s\n",
    "imgname='10x_HSgel_405laser_0p26au_1000umheight_722gain17plaser_1min_1avg'\n",
    "foldername='/Users/wenyun/Desktop/20221017/'"
   ]
  },
  {
   "cell_type": "code",
   "execution_count": 367,
   "id": "94e397cc-8261-479b-b9b7-9005737ca9d9",
   "metadata": {},
   "outputs": [],
   "source": [
    "# read the image stack\n",
    "img = io.imread(foldername+imgname+'.tif')\n",
    "frame_number=img.shape[0]\n",
    "img_height=img.shape[1]\n",
    "img_width=img.shape[2]\n",
    "framespeed=video_time_length/frame_number"
   ]
  },
  {
   "cell_type": "code",
   "execution_count": 368,
   "id": "206575ee-3e3a-4296-b4eb-93f3ec06a701",
   "metadata": {},
   "outputs": [],
   "source": [
    "laglist_g2t=range(0,5,1)\n",
    "averaged_g2t=[]\n",
    "for y in range(299,301,1):\n",
    "    for x in range(121,124,1):\n",
    "        px=[y,x]\n",
    "        g2t=compute_g2t_wo_kernel(px,laglist_g2t)\n",
    "        averaged_g2t.append(g2t)"
   ]
  },
  {
   "cell_type": "code",
   "execution_count": 369,
   "id": "760937a2-c5fa-4caf-9641-337f5efa992d",
   "metadata": {},
   "outputs": [],
   "source": [
    "average_g2t=np.mean(averaged_g2t,axis=0)\n",
    "average_g2t=average_g2t/average_g2t[0]\n",
    "pickle.dump(average_g2t, open(foldername+imgname+'_g2tcorrrelation_avg.p',\"wb\"))"
   ]
  },
  {
   "cell_type": "code",
   "execution_count": 164,
   "id": "917ae70d-c358-43d3-9646-448949660ca6",
   "metadata": {},
   "outputs": [],
   "source": [
    "average_g2t=pickle.load(open(foldername+imgname+'_g2tcorrrelation_avg.p', \"rb\"))\n",
    "laglist_g2t=range(0,len(average_g2t),1)\n",
    "lagtime_g2t= [element * framespeed for element in laglist_g2t]"
   ]
  },
  {
   "cell_type": "code",
   "execution_count": 165,
   "id": "1ca27680-ce56-48b8-a524-276f68f5f983",
   "metadata": {},
   "outputs": [
    {
     "data": {
      "image/png": "[encoded data removed]",
      "text/plain": [
       "<Figure size 576x360 with 1 Axes>"
      ]
     },
     "metadata": {
      "needs_background": "light"
     },
     "output_type": "display_data"
    }
   ],
   "source": [
    "plt.figure(figsize=(8,5))\n",
    "plt.plot(lagtime_g2t[0:50],average_g2t[0:50],'.')\n",
    "plt.legend(['g2t vs laglist'], fontsize=18)\n",
    "plt.xlabel(\"Lagtime\",fontsize=18)\n",
    "plt.ylabel(\"g2(t)\",fontsize=18)\n",
    "plt.tick_params(direction='in')"
   ]
  },
  {
   "cell_type": "code",
   "execution_count": 258,
   "id": "9a41ef56-e8e9-4cde-9ba5-19e8ea84925e",
   "metadata": {},
   "outputs": [],
   "source": [
    "laglist_g2t=range(0,10,1)\n",
    "px=[252,161] #[y,x]\n",
    "g2t,intensity=compute_g2t(px,laglist_g2t,matrix)"
   ]
  },
  {
   "cell_type": "code",
   "execution_count": 259,
   "id": "47a7457f-d127-44f0-99a1-887d14f6eea5",
   "metadata": {},
   "outputs": [
    {
     "data": {
      "text/plain": [
       "Text(0, 0.5, 'g2(t)')"
      ]
     },
     "execution_count": 259,
     "metadata": {},
     "output_type": "execute_result"
    },
    {
     "data": {
      "image/png": "[encoded data removed]",
      "text/plain": [
       "<Figure size 576x360 with 1 Axes>"
      ]
     },
     "metadata": {
      "needs_background": "light"
     },
     "output_type": "display_data"
    }
   ],
   "source": [
    "plt.figure(figsize=(8,5))\n",
    "lagtime_g2t= [element * framespeed for element in laglist_g2t]\n",
    "plt.plot(lagtime_g2t,np.array(g2t)/g2t[0],'.')\n",
    "plt.legend(['g2t vs lagtime'], fontsize=18)\n",
    "plt.xlabel(\"Lagtime\",fontsize=18)\n",
    "plt.ylabel(\"g2(t)\",fontsize=18)\n",
    "#plt.xlim([0,lagtime_g2t[-1]])"
   ]
  },
  {
   "cell_type": "markdown",
   "id": "db792da7-0379-48f3-b508-777e08c02183",
   "metadata": {},
   "source": [
    "## DSH"
   ]
  },
  {
   "cell_type": "code",
   "execution_count": 217,
   "id": "9696a77a-9136-48aa-aea1-95ed3d0b1ca9",
   "metadata": {},
   "outputs": [
    {
     "name": "stdout",
     "output_type": "stream",
     "text": [
      "/Users/wenyun/Desktop/python/DSHpy-master\n",
      "running install\n",
      "/Users/wenyun/opt/anaconda3/lib/python3.8/site-packages/setuptools/command/install.py:34: SetuptoolsDeprecationWarning: setup.py install is deprecated. Use build and pip and other standards-based tools.\n",
      "  warnings.warn(\n",
      "/Users/wenyun/opt/anaconda3/lib/python3.8/site-packages/setuptools/command/easy_install.py:144: EasyInstallDeprecationWarning: easy_install command is deprecated. Use build and pip and other standards-based tools.\n",
      "  warnings.warn(\n",
      "running bdist_egg\n",
      "running egg_info\n",
      "writing DSH.egg-info/PKG-INFO\n",
      "writing dependency_links to DSH.egg-info/dependency_links.txt\n",
      "writing requirements to DSH.egg-info/requires.txt\n",
      "writing top-level names to DSH.egg-info/top_level.txt\n",
      "reading manifest file 'DSH.egg-info/SOURCES.txt'\n",
      "adding license file 'LICENSE'\n",
      "writing manifest file 'DSH.egg-info/SOURCES.txt'\n",
      "installing library code to build/bdist.macosx-10.9-x86_64/egg\n",
      "running install_lib\n",
      "running build_py\n",
      "creating build/bdist.macosx-10.9-x86_64/egg\n",
      "creating build/bdist.macosx-10.9-x86_64/egg/DSH\n",
      "copying build/lib/DSH/NonAffMaps.py -> build/bdist.macosx-10.9-x86_64/egg/DSH\n",
      "copying build/lib/DSH/Config.py -> build/bdist.macosx-10.9-x86_64/egg/DSH\n",
      "copying build/lib/DSH/Kernel.py -> build/bdist.macosx-10.9-x86_64/egg/DSH\n",
      "copying build/lib/DSH/MIfile.py -> build/bdist.macosx-10.9-x86_64/egg/DSH\n",
      "copying build/lib/DSH/CorrMaps.py -> build/bdist.macosx-10.9-x86_64/egg/DSH\n",
      "copying build/lib/DSH/__init__.py -> build/bdist.macosx-10.9-x86_64/egg/DSH\n",
      "copying build/lib/DSH/VelMaps.py -> build/bdist.macosx-10.9-x86_64/egg/DSH\n",
      "copying build/lib/DSH/MIstack.py -> build/bdist.macosx-10.9-x86_64/egg/DSH\n",
      "copying build/lib/DSH/SALS.py -> build/bdist.macosx-10.9-x86_64/egg/DSH\n",
      "copying build/lib/DSH/serial_corrmap_calc.py -> build/bdist.macosx-10.9-x86_64/egg/DSH\n",
      "copying build/lib/DSH/SharedFunctions.py -> build/bdist.macosx-10.9-x86_64/egg/DSH\n",
      "copying build/lib/DSH/PostProcFunctions.py -> build/bdist.macosx-10.9-x86_64/egg/DSH\n",
      "byte-compiling build/bdist.macosx-10.9-x86_64/egg/DSH/NonAffMaps.py to NonAffMaps.cpython-38.pyc\n",
      "byte-compiling build/bdist.macosx-10.9-x86_64/egg/DSH/Config.py to Config.cpython-38.pyc\n",
      "byte-compiling build/bdist.macosx-10.9-x86_64/egg/DSH/Kernel.py to Kernel.cpython-38.pyc\n",
      "byte-compiling build/bdist.macosx-10.9-x86_64/egg/DSH/MIfile.py to MIfile.cpython-38.pyc\n",
      "byte-compiling build/bdist.macosx-10.9-x86_64/egg/DSH/CorrMaps.py to CorrMaps.cpython-38.pyc\n",
      "byte-compiling build/bdist.macosx-10.9-x86_64/egg/DSH/__init__.py to __init__.cpython-38.pyc\n",
      "byte-compiling build/bdist.macosx-10.9-x86_64/egg/DSH/VelMaps.py to VelMaps.cpython-38.pyc\n",
      "byte-compiling build/bdist.macosx-10.9-x86_64/egg/DSH/MIstack.py to MIstack.cpython-38.pyc\n",
      "byte-compiling build/bdist.macosx-10.9-x86_64/egg/DSH/SALS.py to SALS.cpython-38.pyc\n",
      "byte-compiling build/bdist.macosx-10.9-x86_64/egg/DSH/serial_corrmap_calc.py to serial_corrmap_calc.cpython-38.pyc\n",
      "byte-compiling build/bdist.macosx-10.9-x86_64/egg/DSH/SharedFunctions.py to SharedFunctions.cpython-38.pyc\n",
      "byte-compiling build/bdist.macosx-10.9-x86_64/egg/DSH/PostProcFunctions.py to PostProcFunctions.cpython-38.pyc\n",
      "creating build/bdist.macosx-10.9-x86_64/egg/EGG-INFO\n",
      "copying DSH.egg-info/PKG-INFO -> build/bdist.macosx-10.9-x86_64/egg/EGG-INFO\n",
      "copying DSH.egg-info/SOURCES.txt -> build/bdist.macosx-10.9-x86_64/egg/EGG-INFO\n",
      "copying DSH.egg-info/dependency_links.txt -> build/bdist.macosx-10.9-x86_64/egg/EGG-INFO\n",
      "copying DSH.egg-info/not-zip-safe -> build/bdist.macosx-10.9-x86_64/egg/EGG-INFO\n",
      "copying DSH.egg-info/requires.txt -> build/bdist.macosx-10.9-x86_64/egg/EGG-INFO\n",
      "copying DSH.egg-info/top_level.txt -> build/bdist.macosx-10.9-x86_64/egg/EGG-INFO\n",
      "creating 'dist/DSH-0.6-py3.8.egg' and adding 'build/bdist.macosx-10.9-x86_64/egg' to it\n",
      "removing 'build/bdist.macosx-10.9-x86_64/egg' (and everything under it)\n",
      "Processing DSH-0.6-py3.8.egg\n",
      "removing '/Users/wenyun/opt/anaconda3/lib/python3.8/site-packages/DSH-0.6-py3.8.egg' (and everything under it)\n",
      "creating /Users/wenyun/opt/anaconda3/lib/python3.8/site-packages/DSH-0.6-py3.8.egg\n",
      "Extracting DSH-0.6-py3.8.egg to /Users/wenyun/opt/anaconda3/lib/python3.8/site-packages\n",
      "DSH 0.6 is already the active version in easy-install.pth\n",
      "\n",
      "Installed /Users/wenyun/opt/anaconda3/lib/python3.8/site-packages/DSH-0.6-py3.8.egg\n",
      "Processing dependencies for DSH==0.6\n",
      "Searching for configparser==5.0.2\n",
      "Best match: configparser 5.0.2\n",
      "Processing configparser-5.0.2-py3.8.egg\n",
      "configparser 5.0.2 is already the active version in easy-install.pth\n",
      "\n",
      "Using /Users/wenyun/opt/anaconda3/lib/python3.8/site-packages/configparser-5.0.2-py3.8.egg\n",
      "Searching for scipy==1.7.3\n",
      "Best match: scipy 1.7.3\n",
      "Adding scipy 1.7.3 to easy-install.pth file\n",
      "\n",
      "Using /Users/wenyun/opt/anaconda3/lib/python3.8/site-packages\n",
      "Searching for numpy==1.22.3\n",
      "Best match: numpy 1.22.3\n",
      "Adding numpy 1.22.3 to easy-install.pth file\n",
      "Installing f2py script to /Users/wenyun/opt/anaconda3/bin\n",
      "Installing f2py3 script to /Users/wenyun/opt/anaconda3/bin\n",
      "Installing f2py3.8 script to /Users/wenyun/opt/anaconda3/bin\n",
      "\n",
      "Using /Users/wenyun/opt/anaconda3/lib/python3.8/site-packages\n",
      "Finished processing dependencies for DSH==0.6\n"
     ]
    }
   ],
   "source": [
    "%cd /Users/wenyun/Desktop/python/DSHpy-master \n",
    "\n",
    "# 2. install the project/module\n",
    "!python setup.py install\n",
    "\n",
    "# 3. Add the project directory to the path\n",
    "import os, sys\n",
    "\n",
    "sys.path.append(os.getcwd())"
   ]
  },
  {
   "cell_type": "code",
   "execution_count": 370,
   "id": "63106aad-c414-408a-9944-a9dc48f3e565",
   "metadata": {},
   "outputs": [],
   "source": [
    "#info\n",
    "kernel_size=10\n",
    "laglist=list(range(1,10,1))\n",
    "#test_ROI = [x,y,w,h]\n",
    "testROI=None\n",
    "tRange=None"
   ]
  },
  {
   "cell_type": "code",
   "execution_count": 371,
   "id": "38feced5-f539-41b4-910d-9e8287279dfe",
   "metadata": {},
   "outputs": [],
   "source": [
    "## don't change please\n",
    "def set_up_kernel(kernel_size):\n",
    "    KernelSpecs = DSH.Kernel.Kernel()\n",
    "    KernelSpecs.Initialize(shape=kernel_size, kernel_type='Gauss', params={'sigma':[kernel_size, kernel_size]}, padding=True)\n",
    "    return KernelSpecs\n",
    "\n",
    "def compute_correlation_maps(foldername, imgname, kernel, laglist, testROI=None, tRange=None):\n",
    "    froot = os.path.join(foldername)\n",
    "    fname = os.path.join(froot, imgname+'.raw')\n",
    "    metadata_fname = os.path.join(froot, imgname+'.ini')\n",
    "    \n",
    "    mi_file = MI.MIfile(fname, metadata_fname)\n",
    "    mi_file.OpenForReading()\n",
    "    mi_file.Read(zRange=None, cropROI=None, closeAfter=False)\n",
    "    mi_file.Close()\n",
    "    \n",
    "    position=str(testROI)+'_'+str(tRange)\n",
    "    froot = os.path.join(foldername+imgname+'_'+position)\n",
    "    #KernelSpecs.SetPadding(False)\n",
    "    corrmap = CM.CorrMaps(mi_file, froot, laglist, kernel, imgRange=tRange, cropROI=testROI)\n",
    "    \n",
    "    cmap_list = corrmap.Compute(silent=False, return_maps=False)\n",
    "    \n",
    "def load_correlation_maps(foldername,imgname,testROI, tRange):\n",
    "    froot = os.path.join(foldername+imgname+'_'+str(testROI)+'_'+str(tRange))\n",
    "    corr_maps = CM.LoadFromConfig(os.path.join(froot, 'CorrMapsConfig.ini'), outFolder=froot)\n",
    "    return corr_maps"
   ]
  },
  {
   "cell_type": "code",
   "execution_count": 372,
   "id": "f2653581-8d6d-4633-a35b-ce9a7a1474c5",
   "metadata": {},
   "outputs": [],
   "source": [
    "kernel=set_up_kernel(kernel_size)\n",
    "kernel_matrix=kernel.ToMatrix()"
   ]
  },
  {
   "cell_type": "code",
   "execution_count": 373,
   "id": "2373e8f8-c3c9-42f6-97d1-0998e2cbd73d",
   "metadata": {},
   "outputs": [
    {
     "name": "stdout",
     "output_type": "stream",
     "text": [
      "Computing correlation maps:\n",
      "  STEP 1: Loading images and computing average intensity...\n",
      "  STEP 2: Computing contrast...\n",
      "  STEP 3: Computing correlations...\n",
      "     ...lag 1\n",
      "     ...lag 2\n",
      "     ...lag 3\n",
      "     ...lag 4\n",
      "     ...lag 5\n",
      "     ...lag 6\n",
      "     ...lag 7\n",
      "     ...lag 8\n",
      "     ...lag 9\n",
      "Procedure completed in 28.2 seconds!\n"
     ]
    }
   ],
   "source": [
    "compute_correlation_maps(foldername, imgname, kernel, laglist, testROI, tRange)"
   ]
  },
  {
   "cell_type": "code",
   "execution_count": 374,
   "id": "55b0fb6a-5618-40d0-9159-82ac58fcc337",
   "metadata": {},
   "outputs": [],
   "source": [
    "corr_maps=load_correlation_maps(foldername,imgname,testROI, tRange)"
   ]
  },
  {
   "cell_type": "code",
   "execution_count": 375,
   "id": "bc273b79-f9b8-4127-9a6e-911a8be41fc3",
   "metadata": {},
   "outputs": [],
   "source": [
    "loadtRange_tau = [0,20,1]\n",
    "t_range_tau=range(0,20,1)\n",
    "laglist_tau=list(range(1,10,1))\n",
    "lagtime_tau= [element * framespeed for element in laglist_tau]"
   ]
  },
  {
   "cell_type": "code",
   "execution_count": 381,
   "id": "7872bc8e-dd08-40e8-8aba-09fdbe35f777",
   "metadata": {},
   "outputs": [],
   "source": [
    "def single_pixel_decay(y,x):\n",
    "    correlation_value=avg_correlation_single_px(corr_maps,[y,x],loadtRange_tau,t_range_tau,laglist_tau, laglist)\n",
    "    plt.figure()\n",
    "    plt.plot(laglist_tau,correlation_value,'.')"
   ]
  },
  {
   "cell_type": "code",
   "execution_count": 382,
   "id": "8cd99892-9ab9-442b-a771-10a818160892",
   "metadata": {},
   "outputs": [],
   "source": [
    "def avg_correlation_single_px(corr_maps,px,loadtRange,load_t_Range, laglist_fx,laglist_global): #return seconds\n",
    "    px_corrmap=corr_maps.GetCorrTimetrace(px,zRange=loadtRange)\n",
    "    average_tau=[]\n",
    "    for tau in laglist_fx:\n",
    "        tauidx=laglist_global.index(tau)+1\n",
    "        sum=0\n",
    "        for t in range(len(load_t_Range)):\n",
    "            sum=sum+px_corrmap[tauidx,t]\n",
    "        px_tau=sum/len(load_t_Range)\n",
    "        average_tau.append(px_tau)\n",
    "    return average_tau"
   ]
  },
  {
   "cell_type": "code",
   "execution_count": 390,
   "id": "8d676d0d-b591-44b4-a18b-1858361bdfef",
   "metadata": {},
   "outputs": [
    {
     "data": {
      "image/png": "[encoded data removed]",
      "text/plain": [
       "<Figure size 432x288 with 1 Axes>"
      ]
     },
     "metadata": {
      "needs_background": "light"
     },
     "output_type": "display_data"
    }
   ],
   "source": [
    "y=254\n",
    "x=139\n",
    "single_pixel_decay(y,x)"
   ]
  },
  {
   "cell_type": "markdown",
   "id": "be4232c7-45fa-4faf-bc66-0ec387a22e32",
   "metadata": {},
   "source": [
    "# 10xobjective 0.26au HS gel ground glass 8avg"
   ]
  },
  {
   "cell_type": "code",
   "execution_count": 269,
   "id": "65dd458a-ab78-4670-a740-a6b4a5ff3c5f",
   "metadata": {},
   "outputs": [],
   "source": [
    "video_time_length=60 #s\n",
    "imgname='10x_HSgel_405laser_0p26au_1000umheight_722gain17plaser_1min_8avg'\n",
    "foldername='/Users/wenyun/Desktop/20221017/'"
   ]
  },
  {
   "cell_type": "code",
   "execution_count": 149,
   "id": "4bd18f60-08d7-4176-a890-7337626fd204",
   "metadata": {},
   "outputs": [],
   "source": [
    "# read the image stack\n",
    "img = io.imread(foldername+imgname+'.tif')\n",
    "frame_number=img.shape[0]\n",
    "img_height=img.shape[1]\n",
    "img_width=img.shape[2]\n",
    "framespeed=video_time_length/frame_number"
   ]
  },
  {
   "cell_type": "code",
   "execution_count": 150,
   "id": "f0cdbb12-5cf6-4183-96fd-5c21ba9245a9",
   "metadata": {},
   "outputs": [],
   "source": [
    "laglist_g2t=range(0,5,1)\n",
    "averaged_g2t=[]\n",
    "for y in range(141,142,1):\n",
    "    for x in range(99,100,1):\n",
    "        px=[y,x]\n",
    "        g2t=compute_g2t_wo_kernel(px,laglist_g2t)\n",
    "        averaged_g2t.append(g2t)"
   ]
  },
  {
   "cell_type": "code",
   "execution_count": 151,
   "id": "6f213658-da05-497e-93c9-72126b3ad523",
   "metadata": {},
   "outputs": [
    {
     "name": "stdout",
     "output_type": "stream",
     "text": [
      "[ 0.00612599  0.0002801  -0.00278934 -0.0021768   0.00118473]\n"
     ]
    }
   ],
   "source": [
    "average_g2t=np.mean(averaged_g2t,axis=0)\n",
    "print(average_g2t)"
   ]
  },
  {
   "cell_type": "code",
   "execution_count": 152,
   "id": "26039fd0-d5b2-494e-99b7-e1bf3be944b3",
   "metadata": {},
   "outputs": [],
   "source": [
    "average_g2t=np.mean(averaged_g2t,axis=0)\n",
    "average_g2t=average_g2t/average_g2t[0]\n",
    "pickle.dump(average_g2t, open(foldername+imgname+'_g2tcorrrelation_avg.p',\"wb\"))"
   ]
  },
  {
   "cell_type": "code",
   "execution_count": 153,
   "id": "3d91f967-30f6-4bf8-8290-d23b75f221bd",
   "metadata": {},
   "outputs": [],
   "source": [
    "average_g2t=pickle.load(open(foldername+imgname+'_g2tcorrrelation_avg.p', \"rb\"))\n",
    "laglist_g2t=range(0,len(average_g2t),1)\n",
    "lagtime_g2t= [element * framespeed for element in laglist_g2t]"
   ]
  },
  {
   "cell_type": "code",
   "execution_count": 154,
   "id": "bbb9884b-3876-41d1-a526-18a670b0a103",
   "metadata": {},
   "outputs": [
    {
     "data": {
      "image/png": "[encoded data removed]",
      "text/plain": [
       "<Figure size 576x360 with 1 Axes>"
      ]
     },
     "metadata": {
      "needs_background": "light"
     },
     "output_type": "display_data"
    }
   ],
   "source": [
    "plt.figure(figsize=(8,5))\n",
    "plt.plot(lagtime_g2t[0:50],average_g2t[0:50],'.')\n",
    "plt.legend(['g2t vs laglist'], fontsize=18)\n",
    "plt.xlabel(\"Lagtime\",fontsize=18)\n",
    "plt.ylabel(\"g2(t)\",fontsize=18)\n",
    "plt.tick_params(direction='in')"
   ]
  },
  {
   "cell_type": "code",
   "execution_count": 358,
   "id": "076b35c6-2fc0-4b96-b2fc-1640ad146dc8",
   "metadata": {},
   "outputs": [],
   "source": [
    "laglist_g2t=range(0,10,1)\n",
    "px=[250,160] #[y,x]\n",
    "g2t,intensity=compute_g2t(px,laglist_g2t,matrix)"
   ]
  },
  {
   "cell_type": "code",
   "execution_count": 360,
   "id": "61ed57a7-715a-4880-8dba-feebe591bd3c",
   "metadata": {},
   "outputs": [
    {
     "data": {
      "text/plain": [
       "Text(0, 0.5, 'g2(t)')"
      ]
     },
     "execution_count": 360,
     "metadata": {},
     "output_type": "execute_result"
    },
    {
     "data": {
      "image/png": "[encoded data removed]",
      "text/plain": [
       "<Figure size 576x360 with 1 Axes>"
      ]
     },
     "metadata": {
      "needs_background": "light"
     },
     "output_type": "display_data"
    }
   ],
   "source": [
    "plt.figure(figsize=(8,5))\n",
    "lagtime_g2t= [element * framespeed for element in laglist_g2t]\n",
    "plt.plot(lagtime_g2t,np.array(g2t)/g2t[0],'.')\n",
    "plt.legend(['g2t vs lagtime'], fontsize=18)\n",
    "plt.xlabel(\"Laglist\",fontsize=18)\n",
    "plt.ylabel(\"g2(t)\",fontsize=18)\n",
    "#plt.xlim([0,lagtime_g2t[-1]])"
   ]
  },
  {
   "cell_type": "markdown",
   "id": "0e49dde5-dad1-441b-bcd6-793c2a9c5cb4",
   "metadata": {},
   "source": [
    "## DSH"
   ]
  },
  {
   "cell_type": "code",
   "execution_count": 348,
   "id": "ac5bf359-043a-4e69-8678-4a7b1a908b93",
   "metadata": {},
   "outputs": [],
   "source": [
    "#info\n",
    "kernel_size=20\n",
    "laglist=list(range(1,10,1))\n",
    "#test_ROI = [x,y,w,h]\n",
    "testROI=None\n",
    "tRange=None"
   ]
  },
  {
   "cell_type": "code",
   "execution_count": 349,
   "id": "6d40998b-e28e-40d9-8bc8-8d333891490e",
   "metadata": {},
   "outputs": [],
   "source": [
    "## don't change please\n",
    "def set_up_kernel(kernel_size):\n",
    "    KernelSpecs = DSH.Kernel.Kernel()\n",
    "    KernelSpecs.Initialize(shape=kernel_size, kernel_type='Gauss', params={'sigma':[kernel_size, kernel_size]}, padding=True)\n",
    "    return KernelSpecs\n",
    "\n",
    "def compute_correlation_maps(foldername, imgname, kernel, laglist, testROI=None, tRange=None):\n",
    "    froot = os.path.join(foldername)\n",
    "    fname = os.path.join(froot, imgname+'.raw')\n",
    "    metadata_fname = os.path.join(froot, imgname+'.ini')\n",
    "    \n",
    "    mi_file = MI.MIfile(fname, metadata_fname)\n",
    "    mi_file.OpenForReading()\n",
    "    mi_file.Read(zRange=None, cropROI=None, closeAfter=False)\n",
    "    mi_file.Close()\n",
    "    \n",
    "    position=str(testROI)+'_'+str(tRange)\n",
    "    froot = os.path.join(foldername+imgname+'_'+position)\n",
    "    #KernelSpecs.SetPadding(False)\n",
    "    corrmap = CM.CorrMaps(mi_file, froot, laglist, kernel, imgRange=tRange, cropROI=testROI)\n",
    "    \n",
    "    cmap_list = corrmap.Compute(silent=False, return_maps=False)\n",
    "    \n",
    "def load_correlation_maps(foldername,imgname,testROI, tRange):\n",
    "    froot = os.path.join(foldername+imgname+'_'+str(testROI)+'_'+str(tRange))\n",
    "    corr_maps = CM.LoadFromConfig(os.path.join(froot, 'CorrMapsConfig.ini'), outFolder=froot)\n",
    "    return corr_maps"
   ]
  },
  {
   "cell_type": "code",
   "execution_count": 350,
   "id": "f21ad519-babe-4dfe-aa60-72eb86a3644c",
   "metadata": {},
   "outputs": [],
   "source": [
    "kernel=set_up_kernel(kernel_size)\n",
    "kernel_matrix=kernel.ToMatrix()"
   ]
  },
  {
   "cell_type": "code",
   "execution_count": 351,
   "id": "15499972-d51f-4296-9487-9d45dc3ff8d7",
   "metadata": {},
   "outputs": [
    {
     "name": "stdout",
     "output_type": "stream",
     "text": [
      "Computing correlation maps:\n",
      "  STEP 1: Loading images and computing average intensity...\n",
      "  STEP 2: Computing contrast...\n",
      "  STEP 3: Computing correlations...\n",
      "     ...lag 1\n",
      "     ...lag 2\n",
      "     ...lag 3\n",
      "     ...lag 4\n",
      "     ...lag 5\n",
      "     ...lag 6\n",
      "     ...lag 7\n",
      "     ...lag 8\n",
      "     ...lag 9\n",
      "Procedure completed in 67.5 seconds!\n"
     ]
    }
   ],
   "source": [
    "compute_correlation_maps(foldername, imgname, kernel, laglist, testROI, tRange)"
   ]
  },
  {
   "cell_type": "code",
   "execution_count": 352,
   "id": "aa72d2d3-c62d-4255-b38c-fc18efb9c4c7",
   "metadata": {},
   "outputs": [],
   "source": [
    "corr_maps=load_correlation_maps(foldername,imgname,testROI, tRange)"
   ]
  },
  {
   "cell_type": "code",
   "execution_count": 353,
   "id": "5ba99395-2b14-4af3-855a-578cb5be4e06",
   "metadata": {},
   "outputs": [
    {
     "name": "stdout",
     "output_type": "stream",
     "text": [
      "\n",
      "|-----------------|\n",
      "| CorrMaps class: |\n",
      "|-----------------+---------------\n",
      "| MI input        : <MIfile: 0+30x512x512x1 bytes>\n",
      "| output folder   : /Users/wenyun/Desktop/20221017/10x_HSgel_405laser_0p26au_1000umheight_722gain17plaser_1min_8avg_None_None\n",
      "| lag times (09)  : [1, 2, 3, 4, 5, 6, 7, 8, 9]\n",
      "| image range     : [0, 30, 1]\n",
      "| crop ROI        : None\n",
      "| Kernel          : <Kernel [2D Gauss], 20x20, s=(20.0;20.0)>\n",
      "|-----------------+---------------\n"
     ]
    }
   ],
   "source": [
    "print(corr_maps)"
   ]
  },
  {
   "cell_type": "code",
   "execution_count": 354,
   "id": "4f5717e8-a3a9-4660-a042-4646bf4d6ef7",
   "metadata": {},
   "outputs": [],
   "source": [
    "loadtRange_tau = [0,20,1]\n",
    "t_range_tau=range(0,20,1)\n",
    "laglist_tau=list(range(1,10,1))\n",
    "lagtime_tau= [element * framespeed for element in laglist_tau]"
   ]
  },
  {
   "cell_type": "code",
   "execution_count": 365,
   "id": "f6068b04-62c8-4c7e-82f8-be267c5786d6",
   "metadata": {},
   "outputs": [
    {
     "data": {
      "image/png": "[encoded data removed]",
      "text/plain": [
       "<Figure size 432x288 with 1 Axes>"
      ]
     },
     "metadata": {
      "needs_background": "light"
     },
     "output_type": "display_data"
    }
   ],
   "source": [
    "y=350\n",
    "\n",
    "x=161\n",
    "single_pixel_decay(y,x)"
   ]
  },
  {
   "cell_type": "code",
   "execution_count": 356,
   "id": "f69b7200-f394-4374-8992-d920d916f53d",
   "metadata": {},
   "outputs": [],
   "source": [
    "def avg_correlation_single_px(corr_maps,px,loadtRange,load_t_Range, laglist_fx,laglist_global): #return seconds\n",
    "    px_corrmap=corr_maps.GetCorrTimetrace(px,zRange=loadtRange)\n",
    "    average_tau=[]\n",
    "    for tau in laglist_fx:\n",
    "        tauidx=laglist_global.index(tau)+1\n",
    "        sum=0\n",
    "        for t in range(len(load_t_Range)):\n",
    "            sum=sum+px_corrmap[tauidx,t]\n",
    "        px_tau=sum/len(load_t_Range)\n",
    "        average_tau.append(px_tau)\n",
    "    return average_tau"
   ]
  },
  {
   "cell_type": "code",
   "execution_count": null,
   "id": "3d7bd112-4219-450f-8672-cfefd1249415",
   "metadata": {},
   "outputs": [],
   "source": []
  }
 ],
 "metadata": {
  "kernelspec": {
   "display_name": "Python 3 (ipykernel)",
   "language": "python",
   "name": "python3"
  },
  "language_info": {
   "codemirror_mode": {
    "name": "ipython",
    "version": 3
   },
   "file_extension": ".py",
   "mimetype": "text/x-python",
   "name": "python",
   "nbconvert_exporter": "python",
   "pygments_lexer": "ipython3",
   "version": "3.8.13"
  }
 },
 "nbformat": 4,
 "nbformat_minor": 5
}
