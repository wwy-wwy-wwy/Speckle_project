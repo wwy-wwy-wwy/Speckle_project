{
 "cells": [
  {
   "cell_type": "code",
   "execution_count": 317,
   "id": "8b97b73a-c020-480c-96ab-117222794d39",
   "metadata": {},
   "outputs": [],
   "source": [
    "from PIL import Image\n",
    "import matplotlib.pyplot as plt\n",
    "import numpy as np\n",
    "import numpy as np\n",
    "from ellipse import LsqEllipse\n",
    "import matplotlib.pyplot as plt\n",
    "from matplotlib.patches import Ellipse\n",
    "from skimage import io\n",
    "import matplotlib.pyplot as plt\n",
    "import math\n",
    "import pickle\n",
    "import statistics\n",
    "from statistics import mean\n",
    "from scipy.fft import fft, fftfreq\n",
    "from scipy.signal import find_peaks\n",
    "\n",
    "from numpy import arange\n",
    "from pandas import read_csv\n",
    "from scipy.optimize import curve_fit\n",
    "from matplotlib import pyplot\n",
    "import pickle"
   ]
  },
  {
   "cell_type": "code",
   "execution_count": 214,
   "id": "9dacde28-ee69-407e-9402-f1d44e4b39d9",
   "metadata": {},
   "outputs": [],
   "source": [
    "import speckle\n",
    "from speckle.inference.read_in_data import *\n",
    "from speckle.inference.correlation_heatmap import *\n",
    "from speckle.inference.calculating_tau import *\n",
    "from speckle.inference.dedrift import *"
   ]
  },
  {
   "cell_type": "code",
   "execution_count": 215,
   "id": "57cb420e-c89c-4ba0-b883-8009b7fbd60e",
   "metadata": {},
   "outputs": [],
   "source": [
    "def compute_g2t_wo_kernel(px,laglist_g2t):\n",
    "    intensity=[]\n",
    "    for t in range(0,img.shape[0],1):\n",
    "        intensity.append(img[t][px[0],px[1]])\n",
    "        \n",
    "    g2t=[]\n",
    "    for lag in laglist_g2t:\n",
    "        numerator_sum=0\n",
    "        denumerator_sum_1=0\n",
    "        denumerator_sum_2=0\n",
    "        max_t_range=500\n",
    "        for t in range(0,max_t_range,1):\n",
    "            numerator_sum=numerator_sum+int(intensity[t])*int(intensity[t+lag])\n",
    "            denumerator_sum_1=denumerator_sum_1+int(intensity[t])\n",
    "            denumerator_sum_2=denumerator_sum_2+int(intensity[t+lag])\n",
    "        numerator=numerator_sum/max_t_range\n",
    "        denumerator_1=denumerator_sum_1/max_t_range\n",
    "        denumerator_2=denumerator_sum_2/max_t_range\n",
    "        g2t.append((numerator/denumerator_1/denumerator_2)-1)\n",
    "    return g2t"
   ]
  },
  {
   "cell_type": "markdown",
   "id": "42c92e33-bcc3-48a7-89c0-48f279d07066",
   "metadata": {},
   "source": [
    "# Viscosity of 0.05% glycerol (4 uL glycerol + 196 uL)"
   ]
  },
  {
   "cell_type": "markdown",
   "id": "4b387e04-5108-4345-be8d-8a809556b339",
   "metadata": {},
   "source": [
    "viscosity is 0.44340027170068147 Pa*s from DLS data"
   ]
  },
  {
   "cell_type": "code",
   "execution_count": 6,
   "id": "ea7aad32-9c9b-4076-9aa4-f2e2d4de8e76",
   "metadata": {},
   "outputs": [
    {
     "name": "stdout",
     "output_type": "stream",
     "text": [
      "9.91145594846258e-15\n"
     ]
    }
   ],
   "source": [
    "#expected D\n",
    "kb=1.380649*10**(-23) # J*K^(-1)\n",
    "T=300 # K\n",
    "eta=0.44340027170068147 # Pa*S\n",
    "r=50*10**(-9) # m\n",
    "D=kb*T/(6*math.pi*eta*r) #m^2/s\n",
    "print(D) #m^2/s"
   ]
  },
  {
   "cell_type": "markdown",
   "id": "ebf9d850-9789-4099-959d-b2918fb6e9c0",
   "metadata": {},
   "source": [
    "# 0.05% 100nm in diameter PS beads in glycerol"
   ]
  },
  {
   "cell_type": "markdown",
   "id": "a3e7b277-5699-4faa-910e-a72883e2187b",
   "metadata": {},
   "source": [
    "## 10x Objective"
   ]
  },
  {
   "cell_type": "markdown",
   "id": "5d615d3b-5005-4d0f-90f5-fc1233cd9ef1",
   "metadata": {},
   "source": [
    "### 1 A.U. 30x magnification"
   ]
  },
  {
   "cell_type": "code",
   "execution_count": 216,
   "id": "ed0b60c9-bb89-4e39-93fa-015869546219",
   "metadata": {},
   "outputs": [],
   "source": [
    "video_time_length=60 #s\n",
    "imgname='0p05percent_100nm_in_glycerol_10xobj_30xmag_1au_1min_200umhigh_0930_faster'\n",
    "foldername='/Volumes/WENYUN WANG/20220929/'"
   ]
  },
  {
   "cell_type": "code",
   "execution_count": 217,
   "id": "35533082-4751-4b7c-8c9c-182be9644dfa",
   "metadata": {},
   "outputs": [],
   "source": [
    "# read the image stack\n",
    "img = io.imread(foldername+imgname+'.tif')\n",
    "frame_number=img.shape[0]\n",
    "img_height=img.shape[1]\n",
    "img_width=img.shape[2]\n",
    "framespeed=video_time_length/frame_number"
   ]
  },
  {
   "cell_type": "code",
   "execution_count": 218,
   "id": "8a5c5c28-6a01-4c4b-afee-1a3be5072597",
   "metadata": {},
   "outputs": [
    {
     "data": {
      "text/plain": [
       "0.01058014459530947"
      ]
     },
     "execution_count": 218,
     "metadata": {},
     "output_type": "execute_result"
    }
   ],
   "source": [
    "framespeed"
   ]
  },
  {
   "cell_type": "code",
   "execution_count": 219,
   "id": "ab5fdff4-623a-47e9-854e-402c2ba27029",
   "metadata": {},
   "outputs": [],
   "source": [
    "laglist_g2t=range(0,1000,1)\n",
    "averaged_g2t=[]\n",
    "for y in range(10,11,1):\n",
    "    for x in range(12,13,1):\n",
    "        px=[y,x]\n",
    "        g2t=compute_g2t_wo_kernel(px,laglist_g2t)\n",
    "        averaged_g2t.append(g2t)"
   ]
  },
  {
   "cell_type": "code",
   "execution_count": 220,
   "id": "81084bad-5054-47eb-9fca-c248f12ba2e8",
   "metadata": {},
   "outputs": [],
   "source": [
    "average_g2t=np.mean(averaged_g2t,axis=0)\n",
    "pickle.dump(average_g2t, open(foldername+imgname+'_g2tcorrrelation_avg.p',\"wb\"))"
   ]
  },
  {
   "cell_type": "code",
   "execution_count": 221,
   "id": "896e3b50-329c-4e3b-b07a-c9bcf1f3ef6b",
   "metadata": {},
   "outputs": [],
   "source": [
    "average_g2t=pickle.load(open(foldername+imgname+'_g2tcorrrelation_avg.p', \"rb\"))\n",
    "laglist_g2t=range(0,len(average_g2t),1)\n",
    "lagtime_g2t= [element * framespeed for element in laglist_g2t]"
   ]
  },
  {
   "cell_type": "code",
   "execution_count": 222,
   "id": "c1f07416-2399-406c-b7ea-b52fc3fa20e4",
   "metadata": {},
   "outputs": [
    {
     "data": {
      "image/png": "[encoded data removed]",
      "text/plain": [
       "<Figure size 576x360 with 1 Axes>"
      ]
     },
     "metadata": {
      "needs_background": "light"
     },
     "output_type": "display_data"
    }
   ],
   "source": [
    "plt.figure(figsize=(8,5))\n",
    "plt.plot(lagtime_g2t[0:50],average_g2t[0:50],'.')\n",
    "plt.legend(['g2t vs laglist'], fontsize=18)\n",
    "plt.xlabel(\"Lagtime\",fontsize=18)\n",
    "plt.ylabel(\"g2(t)\",fontsize=18)\n",
    "plt.tick_params(direction='in')"
   ]
  },
  {
   "cell_type": "code",
   "execution_count": 183,
   "id": "14b2cb97-0a93-44cc-a643-ee53e7b2b055",
   "metadata": {},
   "outputs": [
    {
     "name": "stdout",
     "output_type": "stream",
     "text": [
      "tau is: 0.025411182582563658\n",
      "y = -39.35275 * x + -2.53905\n"
     ]
    },
    {
     "data": {
      "image/png": "[encoded data removed]",
      "text/plain": [
       "<Figure size 432x288 with 1 Axes>"
      ]
     },
     "metadata": {
      "needs_background": "light"
     },
     "output_type": "display_data"
    },
    {
     "name": "stdout",
     "output_type": "stream",
     "text": [
      "R square is 0.9943909355473848\n"
     ]
    }
   ],
   "source": [
    "lagtime_g2t= [element * framespeed for element in laglist_g2t]\n",
    "plateau=np.mean(average_g2t[100:200])\n",
    "tau, a, b=fit_exponential_decay_rsq(plateau,np.array(average_g2t),lagtime_g2t,0,8, True)"
   ]
  },
  {
   "cell_type": "code",
   "execution_count": 196,
   "id": "896809a0-8ddb-4752-8083-08530f0bd712",
   "metadata": {},
   "outputs": [
    {
     "data": {
      "image/png": "[encoded data removed]",
      "text/plain": [
       "<Figure size 576x360 with 1 Axes>"
      ]
     },
     "metadata": {
      "needs_background": "light"
     },
     "output_type": "display_data"
    }
   ],
   "source": [
    "reconstruct(lagtime_g2t[0:20],plateau,np.array(average_g2t[0:20]),a,b)\n",
    "#plt.ylim(0,0.1)\n",
    "#plt.xlim(0,lagtime_g2t[20])\n",
    "#plt.yscale(\"log\")"
   ]
  },
  {
   "cell_type": "code",
   "execution_count": 197,
   "id": "3522782a-3f6a-4a50-ba3c-0f5010267112",
   "metadata": {},
   "outputs": [
    {
     "name": "stdout",
     "output_type": "stream",
     "text": [
      "9.554648323036854e-15\n"
     ]
    }
   ],
   "source": [
    "n=1.47\n",
    "angle=np.arange(180-19.77,180+19.77,1)\n",
    "lamda=405 #nm\n",
    "k=2*math.pi/lamda\n",
    "q=2*k*np.sin(np.radians(angle/2))*10**(9)*n\n",
    "\n",
    "q=np.mean(q)\n",
    "D=a/(-2*q**2)\n",
    "print(D)"
   ]
  },
  {
   "cell_type": "markdown",
   "id": "7e4493c5-a547-4948-9dfe-e7ca02dc5558",
   "metadata": {
    "jp-MarkdownHeadingCollapsed": true,
    "tags": []
   },
   "source": [
    "### 1 A.U. 40x Magnification"
   ]
  },
  {
   "cell_type": "code",
   "execution_count": null,
   "id": "7a1e6968-83c9-4297-8d5c-c1698a4ce4b5",
   "metadata": {},
   "outputs": [],
   "source": [
    "video_time_length=60 #s\n",
    "imgname='0p05percent_100nm_in_glycerol_10xobj_40xmag_1au_1min_200umhigh_0930_faster'\n",
    "foldername='/Volumes/WENYUN WANG/20220929/'"
   ]
  },
  {
   "cell_type": "code",
   "execution_count": 141,
   "id": "e88754ba-52d5-4443-b5e3-434d290c4003",
   "metadata": {},
   "outputs": [],
   "source": [
    "# read the image stack\n",
    "img = io.imread(foldername+imgname+'.tif')\n",
    "frame_number=img.shape[0]\n",
    "img_height=img.shape[1]\n",
    "img_width=img.shape[2]\n",
    "framespeed=video_time_length/frame_number"
   ]
  },
  {
   "cell_type": "code",
   "execution_count": 142,
   "id": "a6f81d02-02a0-4218-8121-9458a1b04a46",
   "metadata": {},
   "outputs": [
    {
     "data": {
      "text/plain": [
       "0.017123287671232876"
      ]
     },
     "execution_count": 142,
     "metadata": {},
     "output_type": "execute_result"
    }
   ],
   "source": [
    "framespeed"
   ]
  },
  {
   "cell_type": "code",
   "execution_count": 143,
   "id": "a67a920a-6405-4930-8bde-71f6eba91100",
   "metadata": {},
   "outputs": [],
   "source": [
    "laglist_g2t=range(0,200,1)\n",
    "averaged_g2t=[]\n",
    "for y in range(15,50,1):\n",
    "    for x in range(30,40,1):\n",
    "        px=[y,x]\n",
    "        g2t=compute_g2t_wo_kernel(px,laglist_g2t)\n",
    "        averaged_g2t.append(g2t)"
   ]
  },
  {
   "cell_type": "code",
   "execution_count": 144,
   "id": "f0b0388b-125c-4846-aa2f-49cd769c290e",
   "metadata": {},
   "outputs": [],
   "source": [
    "average_g2t=np.mean(averaged_g2t,axis=0)\n",
    "pickle.dump(average_g2t, open(foldername+imgname+'_g2tcorrrelation_avg.p',\"wb\"))"
   ]
  },
  {
   "cell_type": "code",
   "execution_count": 145,
   "id": "93e174e4-61f7-415d-a9c7-ca5a3b2cc693",
   "metadata": {},
   "outputs": [],
   "source": [
    "average_g2t=pickle.load(open(foldername+imgname+'_g2tcorrrelation_avg.p', \"rb\"))\n",
    "laglist_g2t=range(0,len(average_g2t),1)\n",
    "lagtime_g2t= [element * framespeed for element in laglist_g2t]"
   ]
  },
  {
   "cell_type": "code",
   "execution_count": 146,
   "id": "bb11333e-a3e3-49d1-afe3-49b975c7a53e",
   "metadata": {},
   "outputs": [
    {
     "data": {
      "image/png": "[encoded data removed]",
      "text/plain": [
       "<Figure size 576x360 with 1 Axes>"
      ]
     },
     "metadata": {
      "needs_background": "light"
     },
     "output_type": "display_data"
    }
   ],
   "source": [
    "plt.figure(figsize=(8,5))\n",
    "plt.plot(lagtime_g2t[0:50],average_g2t[0:50],'.')\n",
    "plt.legend(['g2t vs laglist'], fontsize=18)\n",
    "plt.xlabel(\"Lagtime\",fontsize=18)\n",
    "plt.ylabel(\"g2(t)\",fontsize=18)\n",
    "plt.tick_params(direction='in')"
   ]
  },
  {
   "cell_type": "code",
   "execution_count": 198,
   "id": "a339f2ca-ff18-400b-b8f1-9c1c660e3e1e",
   "metadata": {},
   "outputs": [
    {
     "name": "stdout",
     "output_type": "stream",
     "text": [
      "tau is: 0.025195418400737624\n",
      "y = -39.68976 * x + -2.57150\n"
     ]
    },
    {
     "data": {
      "image/png": "[encoded data removed]",
      "text/plain": [
       "<Figure size 432x288 with 1 Axes>"
      ]
     },
     "metadata": {
      "needs_background": "light"
     },
     "output_type": "display_data"
    },
    {
     "name": "stdout",
     "output_type": "stream",
     "text": [
      "R square is 0.9997654703737983\n"
     ]
    }
   ],
   "source": [
    "lagtime_g2t= [element * framespeed for element in laglist_g2t]\n",
    "plateau=np.mean(average_g2t[100:200])\n",
    "tau, a, b=fit_exponential_decay_rsq(plateau,np.array(average_g2t),lagtime_g2t,1,6, True)"
   ]
  },
  {
   "cell_type": "code",
   "execution_count": 199,
   "id": "350d0a7d-cc93-4d39-a2ee-171501a26b7c",
   "metadata": {},
   "outputs": [
    {
     "data": {
      "image/png": "[encoded data removed]",
      "text/plain": [
       "<Figure size 576x360 with 1 Axes>"
      ]
     },
     "metadata": {
      "needs_background": "light"
     },
     "output_type": "display_data"
    }
   ],
   "source": [
    "reconstruct(lagtime_g2t[0:20],plateau,np.array(average_g2t[0:20]),a,b)\n",
    "#plt.yscale(\"log\")"
   ]
  },
  {
   "cell_type": "code",
   "execution_count": 200,
   "id": "73b52c0d-c73e-4c82-873a-94a22b286090",
   "metadata": {},
   "outputs": [
    {
     "name": "stdout",
     "output_type": "stream",
     "text": [
      "9.563399932243368e-15\n"
     ]
    }
   ],
   "source": [
    "n=1.47\n",
    "angle=np.arange(170,190,1)\n",
    "lamda=405 #nm\n",
    "k=2*math.pi/lamda\n",
    "q=2*k*np.sin(np.radians(angle/2))*10**(9)*n\n",
    "\n",
    "q=np.mean(q)\n",
    "D=a/(-2*q**2)\n",
    "print(D)"
   ]
  },
  {
   "cell_type": "markdown",
   "id": "b6491ff0-7e60-4d4e-8797-4980234dde04",
   "metadata": {},
   "source": [
    "## 63x oil objective"
   ]
  },
  {
   "cell_type": "markdown",
   "id": "35b92f76-c895-4f28-b7dc-9dba6b8e0813",
   "metadata": {},
   "source": [
    "### 1 A.U."
   ]
  },
  {
   "cell_type": "code",
   "execution_count": 202,
   "id": "18a3c281-1fa4-4691-a5bc-b3208d53a014",
   "metadata": {},
   "outputs": [],
   "source": [
    "video_time_length=60 #s\n",
    "imgname='0p05percent_100nm_in_glycerol_63xobj_15xmag_1au_1min_30umhigh'\n",
    "foldername='/Volumes/WENYUN WANG/20220929/'\n",
    "\n",
    "img = io.imread(foldername+imgname+'.tif')\n",
    "frame_number=img.shape[0]\n",
    "img_height=img.shape[1]\n",
    "img_width=img.shape[2]\n",
    "framespeed=video_time_length/frame_number"
   ]
  },
  {
   "cell_type": "code",
   "execution_count": 204,
   "id": "96df6cfc-c4c7-46fc-946e-5a41d07a23d1",
   "metadata": {},
   "outputs": [],
   "source": [
    "laglist_g2t=range(0,1000,1)\n",
    "averaged_g2t=[]\n",
    "for y in range(15,40,1):\n",
    "    for x in range(20,40,1):\n",
    "        px=[y,x]\n",
    "        g2t=compute_g2t_wo_kernel(px,laglist_g2t)\n",
    "        averaged_g2t.append(g2t)\n",
    "        \n",
    "average_g2t=np.mean(averaged_g2t,axis=0)\n",
    "pickle.dump(average_g2t, open(foldername+imgname+'_g2tcorrrelation_avg.p',\"wb\"))"
   ]
  },
  {
   "cell_type": "code",
   "execution_count": 205,
   "id": "cbe2f6d9-4cf0-4cf1-b76b-ebd946e325e1",
   "metadata": {},
   "outputs": [],
   "source": [
    "average_g2t=pickle.load(open(foldername+imgname+'_g2tcorrrelation_avg.p', \"rb\"))\n",
    "laglist_g2t=range(0,len(average_g2t),1)\n",
    "lagtime_g2t= [element * framespeed for element in laglist_g2t]"
   ]
  },
  {
   "cell_type": "code",
   "execution_count": 206,
   "id": "bd0e87b5-1dd5-43ea-8294-58b5c1967ab4",
   "metadata": {},
   "outputs": [
    {
     "data": {
      "image/png": "[encoded data removed]",
      "text/plain": [
       "<Figure size 576x360 with 1 Axes>"
      ]
     },
     "metadata": {
      "needs_background": "light"
     },
     "output_type": "display_data"
    }
   ],
   "source": [
    "plt.figure(figsize=(8,5))\n",
    "plt.plot(lagtime_g2t[0:50],average_g2t[0:50],'.')\n",
    "plt.legend(['g2t vs laglist'], fontsize=18)\n",
    "plt.xlabel(\"Lagtime\",fontsize=18)\n",
    "plt.ylabel(\"g2(t)\",fontsize=18)\n",
    "plt.tick_params(direction='in')"
   ]
  },
  {
   "cell_type": "markdown",
   "id": "778d6b8b-ad82-4f8b-9d22-63a8a2a5b9dd",
   "metadata": {},
   "source": [
    "## 40x water objective"
   ]
  },
  {
   "cell_type": "markdown",
   "id": "75c76795-12a1-407f-9098-968a72be809d",
   "metadata": {},
   "source": [
    "### 1 au"
   ]
  },
  {
   "cell_type": "code",
   "execution_count": 207,
   "id": "86d0ba5f-1038-4997-aca9-7a6a463a52f9",
   "metadata": {},
   "outputs": [],
   "source": [
    "video_time_length=60 #s\n",
    "imgname='0p05percent_100nm_in_glycerol_40wxobj_15xmag_1au_1min_100umhigh'\n",
    "foldername='/Volumes/WENYUN WANG/20220929/'\n",
    "\n",
    "img = io.imread(foldername+imgname+'.tif')\n",
    "frame_number=img.shape[0]\n",
    "img_height=img.shape[1]\n",
    "img_width=img.shape[2]\n",
    "framespeed=video_time_length/frame_number"
   ]
  },
  {
   "cell_type": "code",
   "execution_count": 208,
   "id": "8ec5d734-885e-4750-8982-3a3120173260",
   "metadata": {},
   "outputs": [],
   "source": [
    "laglist_g2t=range(0,1000,1)\n",
    "averaged_g2t=[]\n",
    "for y in range(15,40,1):\n",
    "    for x in range(20,40,1):\n",
    "        px=[y,x]\n",
    "        g2t=compute_g2t_wo_kernel(px,laglist_g2t)\n",
    "        averaged_g2t.append(g2t)\n",
    "        \n",
    "average_g2t=np.mean(averaged_g2t,axis=0)\n",
    "pickle.dump(average_g2t, open(foldername+imgname+'_g2tcorrrelation_avg.p',\"wb\"))"
   ]
  },
  {
   "cell_type": "code",
   "execution_count": 209,
   "id": "fa325ce0-7122-4314-a7d7-4231a2fc5832",
   "metadata": {},
   "outputs": [],
   "source": [
    "average_g2t=pickle.load(open(foldername+imgname+'_g2tcorrrelation_avg.p', \"rb\"))\n",
    "laglist_g2t=range(0,len(average_g2t),1)\n",
    "lagtime_g2t= [element * framespeed for element in laglist_g2t]"
   ]
  },
  {
   "cell_type": "code",
   "execution_count": 212,
   "id": "8849e72d-ceb8-418a-b1cb-bf26f513bead",
   "metadata": {},
   "outputs": [
    {
     "data": {
      "image/png": "[encoded data removed]",
      "text/plain": [
       "<Figure size 576x360 with 1 Axes>"
      ]
     },
     "metadata": {
      "needs_background": "light"
     },
     "output_type": "display_data"
    }
   ],
   "source": [
    "plt.figure(figsize=(8,5))\n",
    "plt.plot(lagtime_g2t[0:50],average_g2t[0:50],'.')\n",
    "plt.legend(['g2t vs laglist'], fontsize=18)\n",
    "plt.xlabel(\"Lagtime\",fontsize=18)\n",
    "plt.ylabel(\"g2(t)\",fontsize=18)\n",
    "plt.tick_params(direction='in')"
   ]
  }
 ],
 "metadata": {
  "kernelspec": {
   "display_name": "Python 3 (ipykernel)",
   "language": "python",
   "name": "python3"
  },
  "language_info": {
   "codemirror_mode": {
    "name": "ipython",
    "version": 3
   },
   "file_extension": ".py",
   "mimetype": "text/x-python",
   "name": "python",
   "nbconvert_exporter": "python",
   "pygments_lexer": "ipython3",
   "version": "3.8.13"
  }
 },
 "nbformat": 4,
 "nbformat_minor": 5
}
